{
 "cells": [
  {
   "cell_type": "markdown",
   "metadata": {},
   "source": [
    "### Bootstrap"
   ]
  },
  {
   "cell_type": "markdown",
   "metadata": {},
   "source": [
    "#### Packages"
   ]
  },
  {
   "cell_type": "code",
   "execution_count": 1,
   "metadata": {},
   "outputs": [],
   "source": [
    "import pandas as pkg_pandas\n",
    "import math as pkg_math\n",
    "from matplotlib import pyplot as pkg_plot\n",
    "from sklearn import model_selection as pkg_model_selection\n",
    "from sklearn import preprocessing as pkg_preprocessing\n",
    "from sklearn import tree as pkg_tree\n",
    "from sklearn import metrics as pkg_metrics\n",
    "from sklearn import datasets as pkg_datasets\n",
    "from sklearn import ensemble as pkg_ensemble\n",
    "import seaborn as pkg_seaborn"
   ]
  },
  {
   "cell_type": "markdown",
   "metadata": {},
   "source": [
    "#### Load Data"
   ]
  },
  {
   "cell_type": "code",
   "execution_count": 2,
   "metadata": {},
   "outputs": [
    {
     "data": {
      "text/plain": [
       "['DESCR',\n",
       " 'data',\n",
       " 'data_module',\n",
       " 'feature_names',\n",
       " 'filename',\n",
       " 'frame',\n",
       " 'target',\n",
       " 'target_names']"
      ]
     },
     "execution_count": 2,
     "metadata": {},
     "output_type": "execute_result"
    }
   ],
   "source": [
    "loaded_data = pkg_datasets.load_iris()\n",
    "dir(loaded_data)"
   ]
  },
  {
   "cell_type": "code",
   "execution_count": 3,
   "metadata": {},
   "outputs": [
    {
     "name": "stdout",
     "output_type": "stream",
     "text": [
      "\n",
      "Feature Names = ['sepal length (cm)', 'sepal width (cm)', 'petal length (cm)', 'petal width (cm)']\n",
      "Target Names = ['setosa' 'versicolor' 'virginica']\n",
      "Column\n"
     ]
    }
   ],
   "source": [
    "print(\"\\nFeature Names = {}\\nTarget Names = {}\\nColumn\".format(\\\n",
    "    loaded_data.feature_names, loaded_data.target_names))"
   ]
  },
  {
   "cell_type": "code",
   "execution_count": 4,
   "metadata": {},
   "outputs": [],
   "source": [
    "column_names = []\n",
    "for feature_name in loaded_data.feature_names:\n",
    "    column_name = feature_name.replace(' ', '_').replace('(','').replace(')','')\n",
    "    column_names.append(column_name)"
   ]
  },
  {
   "cell_type": "code",
   "execution_count": 5,
   "metadata": {},
   "outputs": [
    {
     "data": {
      "text/html": [
       "<div>\n",
       "<style scoped>\n",
       "    .dataframe tbody tr th:only-of-type {\n",
       "        vertical-align: middle;\n",
       "    }\n",
       "\n",
       "    .dataframe tbody tr th {\n",
       "        vertical-align: top;\n",
       "    }\n",
       "\n",
       "    .dataframe thead th {\n",
       "        text-align: right;\n",
       "    }\n",
       "</style>\n",
       "<table border=\"1\" class=\"dataframe\">\n",
       "  <thead>\n",
       "    <tr style=\"text-align: right;\">\n",
       "      <th></th>\n",
       "      <th>sepal_length_cm</th>\n",
       "      <th>sepal_width_cm</th>\n",
       "      <th>petal_length_cm</th>\n",
       "      <th>petal_width_cm</th>\n",
       "      <th>flower_number</th>\n",
       "      <th>flower_name</th>\n",
       "    </tr>\n",
       "  </thead>\n",
       "  <tbody>\n",
       "    <tr>\n",
       "      <th>0</th>\n",
       "      <td>5.1</td>\n",
       "      <td>3.5</td>\n",
       "      <td>1.4</td>\n",
       "      <td>0.2</td>\n",
       "      <td>0</td>\n",
       "      <td>setosa</td>\n",
       "    </tr>\n",
       "    <tr>\n",
       "      <th>1</th>\n",
       "      <td>4.9</td>\n",
       "      <td>3.0</td>\n",
       "      <td>1.4</td>\n",
       "      <td>0.2</td>\n",
       "      <td>0</td>\n",
       "      <td>setosa</td>\n",
       "    </tr>\n",
       "    <tr>\n",
       "      <th>2</th>\n",
       "      <td>4.7</td>\n",
       "      <td>3.2</td>\n",
       "      <td>1.3</td>\n",
       "      <td>0.2</td>\n",
       "      <td>0</td>\n",
       "      <td>setosa</td>\n",
       "    </tr>\n",
       "    <tr>\n",
       "      <th>3</th>\n",
       "      <td>4.6</td>\n",
       "      <td>3.1</td>\n",
       "      <td>1.5</td>\n",
       "      <td>0.2</td>\n",
       "      <td>0</td>\n",
       "      <td>setosa</td>\n",
       "    </tr>\n",
       "    <tr>\n",
       "      <th>4</th>\n",
       "      <td>5.0</td>\n",
       "      <td>3.6</td>\n",
       "      <td>1.4</td>\n",
       "      <td>0.2</td>\n",
       "      <td>0</td>\n",
       "      <td>setosa</td>\n",
       "    </tr>\n",
       "  </tbody>\n",
       "</table>\n",
       "</div>"
      ],
      "text/plain": [
       "   sepal_length_cm  sepal_width_cm  petal_length_cm  petal_width_cm  \\\n",
       "0              5.1             3.5              1.4             0.2   \n",
       "1              4.9             3.0              1.4             0.2   \n",
       "2              4.7             3.2              1.3             0.2   \n",
       "3              4.6             3.1              1.5             0.2   \n",
       "4              5.0             3.6              1.4             0.2   \n",
       "\n",
       "   flower_number flower_name  \n",
       "0              0      setosa  \n",
       "1              0      setosa  \n",
       "2              0      setosa  \n",
       "3              0      setosa  \n",
       "4              0      setosa  "
      ]
     },
     "execution_count": 5,
     "metadata": {},
     "output_type": "execute_result"
    }
   ],
   "source": [
    "loaded_df = pkg_pandas.DataFrame(loaded_data.data, columns=column_names)\n",
    "loaded_df['flower_number'] = loaded_data.target\n",
    "loaded_df['flower_name'] = loaded_df['flower_number'].apply(lambda fnum: loaded_data.target_names[fnum])\n",
    "loaded_df.head()"
   ]
  },
  {
   "cell_type": "markdown",
   "metadata": {},
   "source": [
    "### Analysis"
   ]
  },
  {
   "cell_type": "markdown",
   "metadata": {},
   "source": [
    "#### Pre-Work"
   ]
  },
  {
   "cell_type": "code",
   "execution_count": 6,
   "metadata": {},
   "outputs": [],
   "source": [
    "# Initialize\n",
    "baseline_df = loaded_df"
   ]
  },
  {
   "cell_type": "code",
   "execution_count": 7,
   "metadata": {},
   "outputs": [
    {
     "name": "stdout",
     "output_type": "stream",
     "text": [
      "=== Baseline Split - Train and Test ===\n",
      "Lengths: Baseline = 150, Train = 120, Test = 30\n"
     ]
    }
   ],
   "source": [
    "output_column_name = 'flower_number'\n",
    "baseline_outputs = baseline_df[output_column_name]\n",
    "baseline_inputs = baseline_df.drop(columns=[output_column_name, 'flower_name'])\n",
    "\n",
    "train_inputs, test_inputs, train_outputs, test_outputs  = \\\n",
    "    pkg_model_selection.train_test_split(baseline_inputs, baseline_outputs, test_size=0.20)\n",
    "\n",
    "print(\"=== Baseline Split - Train and Test ===\")\n",
    "print(\"Lengths: Baseline = {}, Train = {}, Test = {}\".format(len(baseline_inputs), len(train_inputs), len(test_inputs)))"
   ]
  },
  {
   "cell_type": "markdown",
   "metadata": {},
   "source": [
    "#### Model: Train (Fit)"
   ]
  },
  {
   "cell_type": "code",
   "execution_count": 8,
   "metadata": {},
   "outputs": [
    {
     "name": "stdout",
     "output_type": "stream",
     "text": [
      "DEBUG:: Scores(gini_sqrt_balanced_20): Baseline = 0.9933333333333333, Train = 1.0, Test = 0.9666666666666667\n",
      "DEBUG:: Scores(gini_sqrt_balanced_40): Baseline = 0.9866666666666667, Train = 1.0, Test = 0.9333333333333333\n",
      "DEBUG:: Scores(gini_sqrt_balanced_70): Baseline = 0.9933333333333333, Train = 1.0, Test = 0.9666666666666667\n",
      "DEBUG:: Scores(gini_sqrt_balanced_100): Baseline = 0.9866666666666667, Train = 1.0, Test = 0.9333333333333333\n",
      "DEBUG:: Scores(gini_sqrt_balanced_150): Baseline = 0.9866666666666667, Train = 1.0, Test = 0.9333333333333333\n",
      "DEBUG:: Scores(gini_sqrt_balanced_250): Baseline = 0.9933333333333333, Train = 1.0, Test = 0.9666666666666667\n",
      "DEBUG:: Scores(gini_sqrt_balanced_subsample_20): Baseline = 0.9866666666666667, Train = 1.0, Test = 0.9333333333333333\n",
      "DEBUG:: Scores(gini_sqrt_balanced_subsample_40): Baseline = 0.9866666666666667, Train = 1.0, Test = 0.9333333333333333\n",
      "DEBUG:: Scores(gini_sqrt_balanced_subsample_70): Baseline = 0.9933333333333333, Train = 1.0, Test = 0.9666666666666667\n",
      "DEBUG:: Scores(gini_sqrt_balanced_subsample_100): Baseline = 0.9866666666666667, Train = 1.0, Test = 0.9333333333333333\n",
      "DEBUG:: Scores(gini_sqrt_balanced_subsample_150): Baseline = 0.9866666666666667, Train = 1.0, Test = 0.9333333333333333\n",
      "DEBUG:: Scores(gini_sqrt_balanced_subsample_250): Baseline = 0.9933333333333333, Train = 1.0, Test = 0.9666666666666667\n",
      "DEBUG:: Scores(gini_log2_balanced_20): Baseline = 0.9933333333333333, Train = 1.0, Test = 0.9666666666666667\n",
      "DEBUG:: Scores(gini_log2_balanced_40): Baseline = 0.9866666666666667, Train = 1.0, Test = 0.9333333333333333\n",
      "DEBUG:: Scores(gini_log2_balanced_70): Baseline = 0.9866666666666667, Train = 1.0, Test = 0.9333333333333333\n",
      "DEBUG:: Scores(gini_log2_balanced_100): Baseline = 0.9933333333333333, Train = 1.0, Test = 0.9666666666666667\n",
      "DEBUG:: Scores(gini_log2_balanced_150): Baseline = 0.9866666666666667, Train = 1.0, Test = 0.9333333333333333\n",
      "DEBUG:: Scores(gini_log2_balanced_250): Baseline = 0.9866666666666667, Train = 1.0, Test = 0.9333333333333333\n",
      "DEBUG:: Scores(gini_log2_balanced_subsample_20): Baseline = 0.9933333333333333, Train = 1.0, Test = 0.9666666666666667\n",
      "DEBUG:: Scores(gini_log2_balanced_subsample_40): Baseline = 0.9866666666666667, Train = 1.0, Test = 0.9333333333333333\n",
      "DEBUG:: Scores(gini_log2_balanced_subsample_70): Baseline = 0.9866666666666667, Train = 1.0, Test = 0.9333333333333333\n",
      "DEBUG:: Scores(gini_log2_balanced_subsample_100): Baseline = 0.9866666666666667, Train = 1.0, Test = 0.9333333333333333\n",
      "DEBUG:: Scores(gini_log2_balanced_subsample_150): Baseline = 0.9866666666666667, Train = 1.0, Test = 0.9333333333333333\n",
      "DEBUG:: Scores(gini_log2_balanced_subsample_250): Baseline = 0.9933333333333333, Train = 1.0, Test = 0.9666666666666667\n",
      "DEBUG:: Scores(entropy_sqrt_balanced_20): Baseline = 0.9866666666666667, Train = 1.0, Test = 0.9333333333333333\n",
      "DEBUG:: Scores(entropy_sqrt_balanced_40): Baseline = 0.9866666666666667, Train = 1.0, Test = 0.9333333333333333\n",
      "DEBUG:: Scores(entropy_sqrt_balanced_70): Baseline = 0.9933333333333333, Train = 1.0, Test = 0.9666666666666667\n",
      "DEBUG:: Scores(entropy_sqrt_balanced_100): Baseline = 0.9866666666666667, Train = 1.0, Test = 0.9333333333333333\n",
      "DEBUG:: Scores(entropy_sqrt_balanced_150): Baseline = 0.9933333333333333, Train = 1.0, Test = 0.9666666666666667\n",
      "DEBUG:: Scores(entropy_sqrt_balanced_250): Baseline = 0.9866666666666667, Train = 1.0, Test = 0.9333333333333333\n",
      "DEBUG:: Scores(entropy_sqrt_balanced_subsample_20): Baseline = 0.9866666666666667, Train = 1.0, Test = 0.9333333333333333\n",
      "DEBUG:: Scores(entropy_sqrt_balanced_subsample_40): Baseline = 0.9933333333333333, Train = 1.0, Test = 0.9666666666666667\n",
      "DEBUG:: Scores(entropy_sqrt_balanced_subsample_70): Baseline = 0.9933333333333333, Train = 1.0, Test = 0.9666666666666667\n",
      "DEBUG:: Scores(entropy_sqrt_balanced_subsample_100): Baseline = 0.9933333333333333, Train = 1.0, Test = 0.9666666666666667\n",
      "DEBUG:: Scores(entropy_sqrt_balanced_subsample_150): Baseline = 0.9933333333333333, Train = 1.0, Test = 0.9666666666666667\n",
      "DEBUG:: Scores(entropy_sqrt_balanced_subsample_250): Baseline = 0.9933333333333333, Train = 1.0, Test = 0.9666666666666667\n",
      "DEBUG:: Scores(entropy_log2_balanced_20): Baseline = 0.9866666666666667, Train = 1.0, Test = 0.9333333333333333\n",
      "DEBUG:: Scores(entropy_log2_balanced_40): Baseline = 0.9933333333333333, Train = 1.0, Test = 0.9666666666666667\n",
      "DEBUG:: Scores(entropy_log2_balanced_70): Baseline = 0.9866666666666667, Train = 1.0, Test = 0.9333333333333333\n",
      "DEBUG:: Scores(entropy_log2_balanced_100): Baseline = 0.9866666666666667, Train = 1.0, Test = 0.9333333333333333\n",
      "DEBUG:: Scores(entropy_log2_balanced_150): Baseline = 0.9866666666666667, Train = 1.0, Test = 0.9333333333333333\n",
      "DEBUG:: Scores(entropy_log2_balanced_250): Baseline = 0.9866666666666667, Train = 1.0, Test = 0.9333333333333333\n",
      "DEBUG:: Scores(entropy_log2_balanced_subsample_20): Baseline = 0.98, Train = 0.9916666666666667, Test = 0.9333333333333333\n",
      "DEBUG:: Scores(entropy_log2_balanced_subsample_40): Baseline = 0.9933333333333333, Train = 1.0, Test = 0.9666666666666667\n",
      "DEBUG:: Scores(entropy_log2_balanced_subsample_70): Baseline = 0.9933333333333333, Train = 1.0, Test = 0.9666666666666667\n",
      "DEBUG:: Scores(entropy_log2_balanced_subsample_100): Baseline = 0.9933333333333333, Train = 1.0, Test = 0.9666666666666667\n",
      "DEBUG:: Scores(entropy_log2_balanced_subsample_150): Baseline = 0.9933333333333333, Train = 1.0, Test = 0.9666666666666667\n",
      "DEBUG:: Scores(entropy_log2_balanced_subsample_250): Baseline = 0.9933333333333333, Train = 1.0, Test = 0.9666666666666667\n",
      "DEBUG:: Scores(log_loss_sqrt_balanced_20): Baseline = 0.9933333333333333, Train = 1.0, Test = 0.9666666666666667\n",
      "DEBUG:: Scores(log_loss_sqrt_balanced_40): Baseline = 0.9933333333333333, Train = 1.0, Test = 0.9666666666666667\n",
      "DEBUG:: Scores(log_loss_sqrt_balanced_70): Baseline = 0.9866666666666667, Train = 1.0, Test = 0.9333333333333333\n",
      "DEBUG:: Scores(log_loss_sqrt_balanced_100): Baseline = 0.9933333333333333, Train = 1.0, Test = 0.9666666666666667\n",
      "DEBUG:: Scores(log_loss_sqrt_balanced_150): Baseline = 0.9866666666666667, Train = 1.0, Test = 0.9333333333333333\n",
      "DEBUG:: Scores(log_loss_sqrt_balanced_250): Baseline = 0.9933333333333333, Train = 1.0, Test = 0.9666666666666667\n",
      "DEBUG:: Scores(log_loss_sqrt_balanced_subsample_20): Baseline = 0.9866666666666667, Train = 1.0, Test = 0.9333333333333333\n",
      "DEBUG:: Scores(log_loss_sqrt_balanced_subsample_40): Baseline = 0.9866666666666667, Train = 1.0, Test = 0.9333333333333333\n",
      "DEBUG:: Scores(log_loss_sqrt_balanced_subsample_70): Baseline = 0.9866666666666667, Train = 1.0, Test = 0.9333333333333333\n",
      "DEBUG:: Scores(log_loss_sqrt_balanced_subsample_100): Baseline = 0.9933333333333333, Train = 1.0, Test = 0.9666666666666667\n",
      "DEBUG:: Scores(log_loss_sqrt_balanced_subsample_150): Baseline = 0.9866666666666667, Train = 1.0, Test = 0.9333333333333333\n",
      "DEBUG:: Scores(log_loss_sqrt_balanced_subsample_250): Baseline = 0.9866666666666667, Train = 1.0, Test = 0.9333333333333333\n",
      "DEBUG:: Scores(log_loss_log2_balanced_20): Baseline = 0.9866666666666667, Train = 1.0, Test = 0.9333333333333333\n",
      "DEBUG:: Scores(log_loss_log2_balanced_40): Baseline = 0.9933333333333333, Train = 1.0, Test = 0.9666666666666667\n",
      "DEBUG:: Scores(log_loss_log2_balanced_70): Baseline = 0.9933333333333333, Train = 1.0, Test = 0.9666666666666667\n",
      "DEBUG:: Scores(log_loss_log2_balanced_100): Baseline = 0.9866666666666667, Train = 1.0, Test = 0.9333333333333333\n",
      "DEBUG:: Scores(log_loss_log2_balanced_150): Baseline = 0.9866666666666667, Train = 1.0, Test = 0.9333333333333333\n",
      "DEBUG:: Scores(log_loss_log2_balanced_250): Baseline = 0.9866666666666667, Train = 1.0, Test = 0.9333333333333333\n",
      "DEBUG:: Scores(log_loss_log2_balanced_subsample_20): Baseline = 0.9933333333333333, Train = 1.0, Test = 0.9666666666666667\n",
      "DEBUG:: Scores(log_loss_log2_balanced_subsample_40): Baseline = 0.9933333333333333, Train = 1.0, Test = 0.9666666666666667\n",
      "DEBUG:: Scores(log_loss_log2_balanced_subsample_70): Baseline = 0.9933333333333333, Train = 1.0, Test = 0.9666666666666667\n",
      "DEBUG:: Scores(log_loss_log2_balanced_subsample_100): Baseline = 0.9866666666666667, Train = 1.0, Test = 0.9333333333333333\n",
      "DEBUG:: Scores(log_loss_log2_balanced_subsample_150): Baseline = 0.9933333333333333, Train = 1.0, Test = 0.9666666666666667\n",
      "DEBUG:: Scores(log_loss_log2_balanced_subsample_250): Baseline = 0.9866666666666667, Train = 1.0, Test = 0.9333333333333333\n"
     ]
    }
   ],
   "source": [
    "best_model = None\n",
    "best_params = []\n",
    "best_test_score = 0\n",
    "best_predicted_outputs = None\n",
    "\n",
    "for criteria_type in ['gini','entropy','log_loss']:\n",
    "    for feature_type in ['sqrt', 'log2']:\n",
    "        for class_weight_type in ['balanced', 'balanced_subsample']:\n",
    "            for estimator_count in [20, 40, 70, 100, 150, 250]:\n",
    "                # Parameter Combination\n",
    "                params = [criteria_type, feature_type, class_weight_type, str(estimator_count)]\n",
    "                param_name = '_'.join(params)\n",
    "\n",
    "                # Train\n",
    "                model = pkg_ensemble.RandomForestClassifier(n_estimators=estimator_count, criterion=criteria_type, max_features=feature_type, class_weight=class_weight_type)\n",
    "                model.fit(train_inputs, train_outputs)\n",
    "\n",
    "                # Test\n",
    "                predicted_outputs = model.predict(test_inputs)\n",
    "\n",
    "                # Score\n",
    "                baseline_score = model.score(baseline_inputs, baseline_outputs)\n",
    "                train_score = model.score(train_inputs, train_outputs)\n",
    "                test_score = model.score(test_inputs, test_outputs)\n",
    "                print(\"DEBUG:: Scores({}): Baseline = {}, Train = {}, Test = {}\".format(param_name, baseline_score, train_score, test_score))\n",
    "\n",
    "                if (best_test_score < test_score):\n",
    "                    best_model = model\n",
    "                    best_params = params\n",
    "                    best_test_score = test_score\n",
    "                    best_predicted_outputs = predicted_outputs"
   ]
  },
  {
   "cell_type": "code",
   "execution_count": 9,
   "metadata": {},
   "outputs": [
    {
     "name": "stdout",
     "output_type": "stream",
     "text": [
      "= = : Best Model : = =\n",
      "Params = ['gini', 'sqrt', 'balanced', '20'], Test Score = 0.9666666666666667\n"
     ]
    }
   ],
   "source": [
    "print(\"= = : Best Model : = =\")\n",
    "print(\"Params = {}, Test Score = {}\".format(best_params, best_test_score))"
   ]
  },
  {
   "cell_type": "markdown",
   "metadata": {},
   "source": [
    "#### Confusion Matrix"
   ]
  },
  {
   "cell_type": "code",
   "execution_count": 10,
   "metadata": {},
   "outputs": [
    {
     "data": {
      "text/plain": [
       "array([[ 9,  0,  0],\n",
       "       [ 0, 11,  1],\n",
       "       [ 0,  0,  9]])"
      ]
     },
     "execution_count": 10,
     "metadata": {},
     "output_type": "execute_result"
    }
   ],
   "source": [
    "cm = pkg_metrics.confusion_matrix(y_true=test_outputs, y_pred=best_predicted_outputs)\n",
    "cm"
   ]
  },
  {
   "cell_type": "code",
   "execution_count": 11,
   "metadata": {},
   "outputs": [
    {
     "data": {
      "text/plain": [
       "<AxesSubplot:>"
      ]
     },
     "execution_count": 11,
     "metadata": {},
     "output_type": "execute_result"
    },
    {
     "data": {
      "image/png": "[encoded data removed]",
      "text/plain": [
       "<Figure size 288x216 with 2 Axes>"
      ]
     },
     "metadata": {
      "needs_background": "light"
     },
     "output_type": "display_data"
    }
   ],
   "source": [
    "%matplotlib inline\n",
    "pkg_plot.figure(figsize=(4,3))\n",
    "pkg_plot.xlabel('Predicted')\n",
    "pkg_plot.xlabel('Actual')\n",
    "pkg_seaborn.heatmap(cm, annot=True)"
   ]
  }
 ],
 "metadata": {
  "kernelspec": {
   "display_name": "Python 3.8.10 64-bit",
   "language": "python",
   "name": "python3"
  },
  "language_info": {
   "codemirror_mode": {
    "name": "ipython",
    "version": 3
   },
   "file_extension": ".py",
   "mimetype": "text/x-python",
   "name": "python",
   "nbconvert_exporter": "python",
   "pygments_lexer": "ipython3",
   "version": "3.8.10"
  },
  "orig_nbformat": 4,
  "vscode": {
   "interpreter": {
    "hash": "916dbcbb3f70747c44a77c7bcd40155683ae19c65e1c03b4aa3499c5328201f1"
   }
  }
 },
 "nbformat": 4,
 "nbformat_minor": 2
}
