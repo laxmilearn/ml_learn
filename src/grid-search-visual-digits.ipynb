{
 "cells": [
  {
   "cell_type": "markdown",
   "metadata": {},
   "source": [
    "## Grid Search CV: Visual Digits"
   ]
  },
  {
   "cell_type": "markdown",
   "metadata": {},
   "source": [
    "### Preface"
   ]
  },
  {
   "cell_type": "markdown",
   "metadata": {},
   "source": [
    "**Summary**\n",
    "- KFold splits the baseline data into various train-test folds \n",
    "- Cross Validation (cross_val_score) calculates score of an model/algorithm for various folds\n",
    "- Grid Search calculates score of a model/algorithm for various parameters _and_ folds\n",
    "- Grid Search is costly as it calculates score for every permutation and combination\n",
    "- Random Search is an alternative, calculate score for a random combination of parameters _and_ folds"
   ]
  },
  {
   "cell_type": "markdown",
   "metadata": {},
   "source": [
    "**Acknowledgements**\n",
    "- TBD "
   ]
  },
  {
   "cell_type": "markdown",
   "metadata": {},
   "source": [
    "### Initialization"
   ]
  },
  {
   "cell_type": "markdown",
   "metadata": {},
   "source": [
    "**Packages**"
   ]
  },
  {
   "cell_type": "code",
   "execution_count": 1,
   "metadata": {},
   "outputs": [],
   "source": [
    "import pandas as pkg_pandas\n",
    "import math as pkg_math\n",
    "import seaborn as pkg_seaborn\n",
    "import warnings as pkg_warnings\n",
    "from matplotlib import pyplot as pkg_plot\n",
    "from sklearn import linear_model as pkg_linear_model\n",
    "from sklearn import model_selection as pkg_model_selection\n",
    "from sklearn import preprocessing as pkg_preprocessing\n",
    "from sklearn import tree as pkg_tree\n",
    "from sklearn import metrics as pkg_metrics\n",
    "from sklearn import datasets as pkg_datasets\n",
    "from sklearn import ensemble as pkg_ensemble\n",
    "from sklearn import svm as pkg_svm\n",
    "from sklearn import naive_bayes as pkg_naive_bayes\n"
   ]
  },
  {
   "cell_type": "markdown",
   "metadata": {},
   "source": [
    "**Common**"
   ]
  },
  {
   "cell_type": "code",
   "execution_count": 2,
   "metadata": {},
   "outputs": [],
   "source": [
    "%matplotlib inline\n",
    "pkg_warnings.filterwarnings('ignore')"
   ]
  },
  {
   "cell_type": "markdown",
   "metadata": {},
   "source": [
    "**Load Data**"
   ]
  },
  {
   "cell_type": "code",
   "execution_count": 3,
   "metadata": {},
   "outputs": [
    {
     "data": {
      "text/plain": [
       "['DESCR', 'data', 'feature_names', 'frame', 'images', 'target', 'target_names']"
      ]
     },
     "execution_count": 3,
     "metadata": {},
     "output_type": "execute_result"
    }
   ],
   "source": [
    "dataset = pkg_datasets.load_digits()\n",
    "dir(dataset)"
   ]
  },
  {
   "cell_type": "code",
   "execution_count": 4,
   "metadata": {},
   "outputs": [
    {
     "name": "stdout",
     "output_type": "stream",
     "text": [
      "\n",
      "Feature Names = ['pixel_0_0', 'pixel_0_1', 'pixel_0_2', 'pixel_0_3', 'pixel_0_4', 'pixel_0_5', 'pixel_0_6', 'pixel_0_7', 'pixel_1_0', 'pixel_1_1', 'pixel_1_2', 'pixel_1_3', 'pixel_1_4', 'pixel_1_5', 'pixel_1_6', 'pixel_1_7', 'pixel_2_0', 'pixel_2_1', 'pixel_2_2', 'pixel_2_3', 'pixel_2_4', 'pixel_2_5', 'pixel_2_6', 'pixel_2_7', 'pixel_3_0', 'pixel_3_1', 'pixel_3_2', 'pixel_3_3', 'pixel_3_4', 'pixel_3_5', 'pixel_3_6', 'pixel_3_7', 'pixel_4_0', 'pixel_4_1', 'pixel_4_2', 'pixel_4_3', 'pixel_4_4', 'pixel_4_5', 'pixel_4_6', 'pixel_4_7', 'pixel_5_0', 'pixel_5_1', 'pixel_5_2', 'pixel_5_3', 'pixel_5_4', 'pixel_5_5', 'pixel_5_6', 'pixel_5_7', 'pixel_6_0', 'pixel_6_1', 'pixel_6_2', 'pixel_6_3', 'pixel_6_4', 'pixel_6_5', 'pixel_6_6', 'pixel_6_7', 'pixel_7_0', 'pixel_7_1', 'pixel_7_2', 'pixel_7_3', 'pixel_7_4', 'pixel_7_5', 'pixel_7_6', 'pixel_7_7']\n",
      "Target Names = [0 1 2 3 4 5 6 7 8 9]\n"
     ]
    }
   ],
   "source": [
    "print(\"\\nFeature Names = {}\\nTarget Names = {}\".format(dataset.feature_names, dataset.target_names))"
   ]
  },
  {
   "cell_type": "code",
   "execution_count": 5,
   "metadata": {},
   "outputs": [
    {
     "data": {
      "text/html": [
       "<div>\n",
       "<style scoped>\n",
       "    .dataframe tbody tr th:only-of-type {\n",
       "        vertical-align: middle;\n",
       "    }\n",
       "\n",
       "    .dataframe tbody tr th {\n",
       "        vertical-align: top;\n",
       "    }\n",
       "\n",
       "    .dataframe thead th {\n",
       "        text-align: right;\n",
       "    }\n",
       "</style>\n",
       "<table border=\"1\" class=\"dataframe\">\n",
       "  <thead>\n",
       "    <tr style=\"text-align: right;\">\n",
       "      <th></th>\n",
       "      <th>pixel_0_0</th>\n",
       "      <th>pixel_0_1</th>\n",
       "      <th>pixel_0_2</th>\n",
       "      <th>pixel_0_3</th>\n",
       "      <th>pixel_0_4</th>\n",
       "      <th>pixel_0_5</th>\n",
       "      <th>pixel_0_6</th>\n",
       "      <th>pixel_0_7</th>\n",
       "      <th>pixel_1_0</th>\n",
       "      <th>pixel_1_1</th>\n",
       "      <th>...</th>\n",
       "      <th>pixel_6_7</th>\n",
       "      <th>pixel_7_0</th>\n",
       "      <th>pixel_7_1</th>\n",
       "      <th>pixel_7_2</th>\n",
       "      <th>pixel_7_3</th>\n",
       "      <th>pixel_7_4</th>\n",
       "      <th>pixel_7_5</th>\n",
       "      <th>pixel_7_6</th>\n",
       "      <th>pixel_7_7</th>\n",
       "      <th>target</th>\n",
       "    </tr>\n",
       "  </thead>\n",
       "  <tbody>\n",
       "    <tr>\n",
       "      <th>0</th>\n",
       "      <td>0.0</td>\n",
       "      <td>0.0</td>\n",
       "      <td>5.0</td>\n",
       "      <td>13.0</td>\n",
       "      <td>9.0</td>\n",
       "      <td>1.0</td>\n",
       "      <td>0.0</td>\n",
       "      <td>0.0</td>\n",
       "      <td>0.0</td>\n",
       "      <td>0.0</td>\n",
       "      <td>...</td>\n",
       "      <td>0.0</td>\n",
       "      <td>0.0</td>\n",
       "      <td>0.0</td>\n",
       "      <td>6.0</td>\n",
       "      <td>13.0</td>\n",
       "      <td>10.0</td>\n",
       "      <td>0.0</td>\n",
       "      <td>0.0</td>\n",
       "      <td>0.0</td>\n",
       "      <td>0</td>\n",
       "    </tr>\n",
       "    <tr>\n",
       "      <th>1</th>\n",
       "      <td>0.0</td>\n",
       "      <td>0.0</td>\n",
       "      <td>0.0</td>\n",
       "      <td>12.0</td>\n",
       "      <td>13.0</td>\n",
       "      <td>5.0</td>\n",
       "      <td>0.0</td>\n",
       "      <td>0.0</td>\n",
       "      <td>0.0</td>\n",
       "      <td>0.0</td>\n",
       "      <td>...</td>\n",
       "      <td>0.0</td>\n",
       "      <td>0.0</td>\n",
       "      <td>0.0</td>\n",
       "      <td>0.0</td>\n",
       "      <td>11.0</td>\n",
       "      <td>16.0</td>\n",
       "      <td>10.0</td>\n",
       "      <td>0.0</td>\n",
       "      <td>0.0</td>\n",
       "      <td>1</td>\n",
       "    </tr>\n",
       "    <tr>\n",
       "      <th>2</th>\n",
       "      <td>0.0</td>\n",
       "      <td>0.0</td>\n",
       "      <td>0.0</td>\n",
       "      <td>4.0</td>\n",
       "      <td>15.0</td>\n",
       "      <td>12.0</td>\n",
       "      <td>0.0</td>\n",
       "      <td>0.0</td>\n",
       "      <td>0.0</td>\n",
       "      <td>0.0</td>\n",
       "      <td>...</td>\n",
       "      <td>0.0</td>\n",
       "      <td>0.0</td>\n",
       "      <td>0.0</td>\n",
       "      <td>0.0</td>\n",
       "      <td>3.0</td>\n",
       "      <td>11.0</td>\n",
       "      <td>16.0</td>\n",
       "      <td>9.0</td>\n",
       "      <td>0.0</td>\n",
       "      <td>2</td>\n",
       "    </tr>\n",
       "    <tr>\n",
       "      <th>3</th>\n",
       "      <td>0.0</td>\n",
       "      <td>0.0</td>\n",
       "      <td>7.0</td>\n",
       "      <td>15.0</td>\n",
       "      <td>13.0</td>\n",
       "      <td>1.0</td>\n",
       "      <td>0.0</td>\n",
       "      <td>0.0</td>\n",
       "      <td>0.0</td>\n",
       "      <td>8.0</td>\n",
       "      <td>...</td>\n",
       "      <td>0.0</td>\n",
       "      <td>0.0</td>\n",
       "      <td>0.0</td>\n",
       "      <td>7.0</td>\n",
       "      <td>13.0</td>\n",
       "      <td>13.0</td>\n",
       "      <td>9.0</td>\n",
       "      <td>0.0</td>\n",
       "      <td>0.0</td>\n",
       "      <td>3</td>\n",
       "    </tr>\n",
       "    <tr>\n",
       "      <th>4</th>\n",
       "      <td>0.0</td>\n",
       "      <td>0.0</td>\n",
       "      <td>0.0</td>\n",
       "      <td>1.0</td>\n",
       "      <td>11.0</td>\n",
       "      <td>0.0</td>\n",
       "      <td>0.0</td>\n",
       "      <td>0.0</td>\n",
       "      <td>0.0</td>\n",
       "      <td>0.0</td>\n",
       "      <td>...</td>\n",
       "      <td>0.0</td>\n",
       "      <td>0.0</td>\n",
       "      <td>0.0</td>\n",
       "      <td>0.0</td>\n",
       "      <td>2.0</td>\n",
       "      <td>16.0</td>\n",
       "      <td>4.0</td>\n",
       "      <td>0.0</td>\n",
       "      <td>0.0</td>\n",
       "      <td>4</td>\n",
       "    </tr>\n",
       "  </tbody>\n",
       "</table>\n",
       "<p>5 rows × 65 columns</p>\n",
       "</div>"
      ],
      "text/plain": [
       "   pixel_0_0  pixel_0_1  pixel_0_2  pixel_0_3  pixel_0_4  pixel_0_5  \\\n",
       "0        0.0        0.0        5.0       13.0        9.0        1.0   \n",
       "1        0.0        0.0        0.0       12.0       13.0        5.0   \n",
       "2        0.0        0.0        0.0        4.0       15.0       12.0   \n",
       "3        0.0        0.0        7.0       15.0       13.0        1.0   \n",
       "4        0.0        0.0        0.0        1.0       11.0        0.0   \n",
       "\n",
       "   pixel_0_6  pixel_0_7  pixel_1_0  pixel_1_1  ...  pixel_6_7  pixel_7_0  \\\n",
       "0        0.0        0.0        0.0        0.0  ...        0.0        0.0   \n",
       "1        0.0        0.0        0.0        0.0  ...        0.0        0.0   \n",
       "2        0.0        0.0        0.0        0.0  ...        0.0        0.0   \n",
       "3        0.0        0.0        0.0        8.0  ...        0.0        0.0   \n",
       "4        0.0        0.0        0.0        0.0  ...        0.0        0.0   \n",
       "\n",
       "   pixel_7_1  pixel_7_2  pixel_7_3  pixel_7_4  pixel_7_5  pixel_7_6  \\\n",
       "0        0.0        6.0       13.0       10.0        0.0        0.0   \n",
       "1        0.0        0.0       11.0       16.0       10.0        0.0   \n",
       "2        0.0        0.0        3.0       11.0       16.0        9.0   \n",
       "3        0.0        7.0       13.0       13.0        9.0        0.0   \n",
       "4        0.0        0.0        2.0       16.0        4.0        0.0   \n",
       "\n",
       "   pixel_7_7  target  \n",
       "0        0.0       0  \n",
       "1        0.0       1  \n",
       "2        0.0       2  \n",
       "3        0.0       3  \n",
       "4        0.0       4  \n",
       "\n",
       "[5 rows x 65 columns]"
      ]
     },
     "execution_count": 5,
     "metadata": {},
     "output_type": "execute_result"
    }
   ],
   "source": [
    "dataset_df = pkg_pandas.DataFrame(dataset.data, columns=dataset.feature_names)\n",
    "dataset_df['target'] = dataset.target\n",
    "dataset_df.head()"
   ]
  },
  {
   "cell_type": "code",
   "execution_count": 6,
   "metadata": {},
   "outputs": [],
   "source": [
    "output_column_name = 'target'\n",
    "baseline_outputs = dataset_df[output_column_name]\n",
    "baseline_inputs = dataset_df.drop(columns=[output_column_name]).to_numpy()"
   ]
  },
  {
   "cell_type": "markdown",
   "metadata": {},
   "source": [
    "### Process"
   ]
  },
  {
   "cell_type": "markdown",
   "metadata": {},
   "source": [
    "**Common**"
   ]
  },
  {
   "cell_type": "code",
   "execution_count": 7,
   "metadata": {},
   "outputs": [],
   "source": [
    "min_score = 0.60\n",
    "max_results = 5"
   ]
  },
  {
   "cell_type": "code",
   "execution_count": 8,
   "metadata": {},
   "outputs": [],
   "source": [
    "def retrieve_top_classifier_results(classifier):\n",
    "    results_df = pkg_pandas.DataFrame(classifier.cv_results_)\n",
    "    results_df = results_df[[\"params\", \"mean_test_score\", \"rank_test_score\"]]\n",
    "    results_df.sort_values(by=[\"mean_test_score\"], ascending=False, inplace=True)\n",
    "    results_df = results_df[results_df[\"mean_test_score\"] > min_score]\n",
    "    return results_df.head(max_results)"
   ]
  },
  {
   "cell_type": "code",
   "execution_count": 9,
   "metadata": {},
   "outputs": [],
   "source": [
    "def perform_grid_search(model, model_params, X_baseline, y_baseline):\n",
    "    classifier = pkg_model_selection.GridSearchCV(estimator=model,\\\n",
    "        param_grid=model_params, cv=5, return_train_score=False)\n",
    "    classifier.fit(X=X_baseline, y=y_baseline)\n",
    "    results_df = retrieve_top_classifier_results(classifier)\n",
    "    return classifier, results_df\n",
    "    "
   ]
  },
  {
   "cell_type": "code",
   "execution_count": 10,
   "metadata": {},
   "outputs": [],
   "source": [
    "def perform_random_search(model, model_params, X_baseline, y_baseline, num_iterations):\n",
    "    classifier = pkg_model_selection.RandomizedSearchCV(estimator=model, \\\n",
    "        param_distributions=model_params, n_iter=num_iterations, cv=5, return_train_score=False)\n",
    "    classifier.fit(X=X_baseline, y=y_baseline)\n",
    "    results_df = retrieve_top_classifier_results(classifier)\n",
    "    return classifier, results_df\n",
    "    "
   ]
  },
  {
   "cell_type": "markdown",
   "metadata": {},
   "source": [
    "**Models**"
   ]
  },
  {
   "cell_type": "code",
   "execution_count": 11,
   "metadata": {},
   "outputs": [],
   "source": [
    "model_config = [\n",
    "    {\n",
    "        \"name\" : \"SVM\",\n",
    "        \"instance\" : pkg_svm.SVC(),\n",
    "        \"params\" : {\n",
    "            \"C\": [1, 10, 20],\n",
    "            \"kernel\" : ['linear','poly','rbf','sigmoid'],\n",
    "            \"gamma\": ['scale', 'auto'],\n",
    "            \"decision_function_shape\" : ['ovo', 'ovr']\n",
    "        }\n",
    "    },\n",
    "    {\n",
    "        \"name\" : \"DecisionTree\",\n",
    "        \"instance\" : pkg_tree.DecisionTreeClassifier(), \n",
    "        \"params\": {\n",
    "            \"criterion\" : [\"gini\", \"entropy\", \"log_loss\"],\n",
    "            \"splitter\" : [\"best\", \"random\"],\n",
    "            \"max_depth\": [3, 6, 9, 12, 18],\n",
    "            \"max_features\" : [\"sqrt\", \"log2\"],\n",
    "            \"random_state\": [None, 1]\n",
    "        }\n",
    "    },\n",
    "    {\n",
    "        \"name\" : \"RandomForest\",\n",
    "        \"instance\" : pkg_ensemble.RandomForestClassifier(), \n",
    "        \"params\": {\n",
    "            \"n_estimators\": [100, 120, 150],\n",
    "            \"criterion\" : [\"gini\", \"entropy\", \"log_loss\"],\n",
    "            \"max_depth\": [3, 6, 9, 12, 18],\n",
    "            \"max_features\" : [\"sqrt\", \"log2\"],\n",
    "            \"random_state\": [None, 1],\n",
    "            \"class_weight\" : [\"balanced\", \"balanced_subsample\"]\n",
    "        }\n",
    "    },\n",
    "    {\n",
    "        \"name\" : \"LinearRegression\",\n",
    "        \"instance\" : pkg_linear_model.LinearRegression(),\n",
    "        \"params\": { \n",
    "            \"fit_intercept\" : [False, True],\n",
    "            \"positive\" : [False, True]\n",
    "        }\n",
    "    },\n",
    "    {\n",
    "        \"name\" : \"LogisticRegression\",\n",
    "        \"instance\" : pkg_linear_model.LogisticRegression(),\n",
    "        \"params\": { \n",
    "            \"penalty\" : ['l1', 'l2', 'elasticnet'],\n",
    "            \"C\": [1, 10, 20],\n",
    "            \"random_state\": [None, 1],\n",
    "            \"solver\" : ['newton-cg', 'lbfgs', 'liblinear', 'sag', 'saga'],\n",
    "            \"max_iter\" : [100, 200]\n",
    "        }\n",
    "    },\n",
    "    {\n",
    "        \"name\" : \"GaussianNaiveBayes\",\n",
    "        \"instance\" : pkg_naive_bayes.GaussianNB(),\n",
    "        \"params\": { }\n",
    "    },\n",
    "    {\n",
    "        \"name\" : \"MultinomialNaiveBayes\",\n",
    "        \"instance\" : pkg_naive_bayes.MultinomialNB(), \n",
    "        \"params\": {\n",
    "            \"alpha\": [1e-10, 1e-6, 1e-3, 0.1, 1.0],\n",
    "            \"fit_prior\" : [ True, False]\n",
    "        }\n",
    "    }\n",
    "]"
   ]
  },
  {
   "cell_type": "code",
   "execution_count": 12,
   "metadata": {},
   "outputs": [
    {
     "data": {
      "text/html": [
       "<div>\n",
       "<style scoped>\n",
       "    .dataframe tbody tr th:only-of-type {\n",
       "        vertical-align: middle;\n",
       "    }\n",
       "\n",
       "    .dataframe tbody tr th {\n",
       "        vertical-align: top;\n",
       "    }\n",
       "\n",
       "    .dataframe thead th {\n",
       "        text-align: right;\n",
       "    }\n",
       "</style>\n",
       "<table border=\"1\" class=\"dataframe\">\n",
       "  <thead>\n",
       "    <tr style=\"text-align: right;\">\n",
       "      <th></th>\n",
       "      <th>name</th>\n",
       "      <th>score</th>\n",
       "      <th>params</th>\n",
       "    </tr>\n",
       "  </thead>\n",
       "  <tbody>\n",
       "    <tr>\n",
       "      <th>0</th>\n",
       "      <td>SVM</td>\n",
       "      <td>0.973850</td>\n",
       "      <td>{'C': 10, 'decision_function_shape': 'ovo', 'g...</td>\n",
       "    </tr>\n",
       "    <tr>\n",
       "      <th>1</th>\n",
       "      <td>DecisionTree</td>\n",
       "      <td>0.778553</td>\n",
       "      <td>{'criterion': 'gini', 'max_depth': 12, 'max_fe...</td>\n",
       "    </tr>\n",
       "    <tr>\n",
       "      <th>2</th>\n",
       "      <td>RandomForest</td>\n",
       "      <td>0.946037</td>\n",
       "      <td>{'class_weight': 'balanced', 'criterion': 'gin...</td>\n",
       "    </tr>\n",
       "    <tr>\n",
       "      <th>3</th>\n",
       "      <td>LinearRegression</td>\n",
       "      <td>0.506557</td>\n",
       "      <td>{'fit_intercept': True, 'positive': False}</td>\n",
       "    </tr>\n",
       "    <tr>\n",
       "      <th>4</th>\n",
       "      <td>LogisticRegression</td>\n",
       "      <td>0.928234</td>\n",
       "      <td>{'C': 1, 'max_iter': 100, 'penalty': 'l1', 'ra...</td>\n",
       "    </tr>\n",
       "    <tr>\n",
       "      <th>5</th>\n",
       "      <td>GaussianNaiveBayes</td>\n",
       "      <td>0.806928</td>\n",
       "      <td>{}</td>\n",
       "    </tr>\n",
       "    <tr>\n",
       "      <th>6</th>\n",
       "      <td>MultinomialNaiveBayes</td>\n",
       "      <td>0.870907</td>\n",
       "      <td>{'alpha': 1e-06, 'fit_prior': True}</td>\n",
       "    </tr>\n",
       "  </tbody>\n",
       "</table>\n",
       "</div>"
      ],
      "text/plain": [
       "                    name     score  \\\n",
       "0                    SVM  0.973850   \n",
       "1           DecisionTree  0.778553   \n",
       "2           RandomForest  0.946037   \n",
       "3       LinearRegression  0.506557   \n",
       "4     LogisticRegression  0.928234   \n",
       "5     GaussianNaiveBayes  0.806928   \n",
       "6  MultinomialNaiveBayes  0.870907   \n",
       "\n",
       "                                              params  \n",
       "0  {'C': 10, 'decision_function_shape': 'ovo', 'g...  \n",
       "1  {'criterion': 'gini', 'max_depth': 12, 'max_fe...  \n",
       "2  {'class_weight': 'balanced', 'criterion': 'gin...  \n",
       "3         {'fit_intercept': True, 'positive': False}  \n",
       "4  {'C': 1, 'max_iter': 100, 'penalty': 'l1', 'ra...  \n",
       "5                                                 {}  \n",
       "6                {'alpha': 1e-06, 'fit_prior': True}  "
      ]
     },
     "execution_count": 12,
     "metadata": {},
     "output_type": "execute_result"
    }
   ],
   "source": [
    "best_results_df = pkg_pandas.DataFrame(columns=[\"name\", \"score\", \"params\"])\n",
    "\n",
    "for mc in model_config:\n",
    "    #print(\"DEBUG:: Model Config: {}\".format(mc))\n",
    "    classifier, results_df = perform_grid_search(model=mc[\"instance\"], \\\n",
    "        model_params=mc[\"params\"], X_baseline=baseline_inputs, y_baseline=baseline_outputs)\n",
    "    best_results_df.loc[len(best_results_df)] = [mc[\"name\"], classifier.best_score_, classifier.best_params_]\n",
    "\n",
    "best_results_df"
   ]
  },
  {
   "cell_type": "code",
   "execution_count": 13,
   "metadata": {},
   "outputs": [
    {
     "data": {
      "text/html": [
       "<div>\n",
       "<style scoped>\n",
       "    .dataframe tbody tr th:only-of-type {\n",
       "        vertical-align: middle;\n",
       "    }\n",
       "\n",
       "    .dataframe tbody tr th {\n",
       "        vertical-align: top;\n",
       "    }\n",
       "\n",
       "    .dataframe thead th {\n",
       "        text-align: right;\n",
       "    }\n",
       "</style>\n",
       "<table border=\"1\" class=\"dataframe\">\n",
       "  <thead>\n",
       "    <tr style=\"text-align: right;\">\n",
       "      <th></th>\n",
       "      <th>name</th>\n",
       "      <th>score</th>\n",
       "      <th>params</th>\n",
       "    </tr>\n",
       "  </thead>\n",
       "  <tbody>\n",
       "    <tr>\n",
       "      <th>0</th>\n",
       "      <td>SVM</td>\n",
       "      <td>0.973850</td>\n",
       "      <td>{'kernel': 'rbf', 'gamma': 'scale', 'decision_...</td>\n",
       "    </tr>\n",
       "    <tr>\n",
       "      <th>1</th>\n",
       "      <td>DecisionTree</td>\n",
       "      <td>0.744627</td>\n",
       "      <td>{'splitter': 'random', 'random_state': 1, 'max...</td>\n",
       "    </tr>\n",
       "    <tr>\n",
       "      <th>2</th>\n",
       "      <td>RandomForest</td>\n",
       "      <td>0.937693</td>\n",
       "      <td>{'random_state': 1, 'n_estimators': 150, 'max_...</td>\n",
       "    </tr>\n",
       "    <tr>\n",
       "      <th>3</th>\n",
       "      <td>LinearRegression</td>\n",
       "      <td>0.506557</td>\n",
       "      <td>{'positive': False, 'fit_intercept': True}</td>\n",
       "    </tr>\n",
       "    <tr>\n",
       "      <th>4</th>\n",
       "      <td>LogisticRegression</td>\n",
       "      <td>0.918220</td>\n",
       "      <td>{'solver': 'liblinear', 'random_state': None, ...</td>\n",
       "    </tr>\n",
       "    <tr>\n",
       "      <th>5</th>\n",
       "      <td>GaussianNaiveBayes</td>\n",
       "      <td>0.806928</td>\n",
       "      <td>{}</td>\n",
       "    </tr>\n",
       "    <tr>\n",
       "      <th>6</th>\n",
       "      <td>MultinomialNaiveBayes</td>\n",
       "      <td>0.870907</td>\n",
       "      <td>{'fit_prior': True, 'alpha': 0.1}</td>\n",
       "    </tr>\n",
       "  </tbody>\n",
       "</table>\n",
       "</div>"
      ],
      "text/plain": [
       "                    name     score  \\\n",
       "0                    SVM  0.973850   \n",
       "1           DecisionTree  0.744627   \n",
       "2           RandomForest  0.937693   \n",
       "3       LinearRegression  0.506557   \n",
       "4     LogisticRegression  0.918220   \n",
       "5     GaussianNaiveBayes  0.806928   \n",
       "6  MultinomialNaiveBayes  0.870907   \n",
       "\n",
       "                                              params  \n",
       "0  {'kernel': 'rbf', 'gamma': 'scale', 'decision_...  \n",
       "1  {'splitter': 'random', 'random_state': 1, 'max...  \n",
       "2  {'random_state': 1, 'n_estimators': 150, 'max_...  \n",
       "3         {'positive': False, 'fit_intercept': True}  \n",
       "4  {'solver': 'liblinear', 'random_state': None, ...  \n",
       "5                                                 {}  \n",
       "6                  {'fit_prior': True, 'alpha': 0.1}  "
      ]
     },
     "execution_count": 13,
     "metadata": {},
     "output_type": "execute_result"
    }
   ],
   "source": [
    "best_results_df = pkg_pandas.DataFrame(columns=[\"name\", \"score\", \"params\"])\n",
    "\n",
    "for mc in model_config:\n",
    "    classifier, results_df = perform_random_search(model=mc[\"instance\"], \\\n",
    "        model_params=mc[\"params\"], X_baseline=baseline_inputs, y_baseline=baseline_outputs, num_iterations=5)\n",
    "    best_results_df.loc[len(best_results_df)] = [mc[\"name\"], classifier.best_score_, classifier.best_params_]\n",
    "\n",
    "best_results_df"
   ]
  }
 ],
 "metadata": {
  "kernelspec": {
   "display_name": "Python 3.8.10 64-bit",
   "language": "python",
   "name": "python3"
  },
  "language_info": {
   "codemirror_mode": {
    "name": "ipython",
    "version": 3
   },
   "file_extension": ".py",
   "mimetype": "text/x-python",
   "name": "python",
   "nbconvert_exporter": "python",
   "pygments_lexer": "ipython3",
   "version": "3.8.10"
  },
  "orig_nbformat": 4,
  "vscode": {
   "interpreter": {
    "hash": "916dbcbb3f70747c44a77c7bcd40155683ae19c65e1c03b4aa3499c5328201f1"
   }
  }
 },
 "nbformat": 4,
 "nbformat_minor": 2
}
