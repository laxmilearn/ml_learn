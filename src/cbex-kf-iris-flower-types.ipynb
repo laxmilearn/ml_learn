{
 "cells": [
  {
   "cell_type": "markdown",
   "metadata": {},
   "source": [
    "### Bootstrap"
   ]
  },
  {
   "cell_type": "markdown",
   "metadata": {},
   "source": [
    "#### Packages"
   ]
  },
  {
   "cell_type": "code",
   "execution_count": 1,
   "metadata": {},
   "outputs": [],
   "source": [
    "import pandas as pkg_pandas\n",
    "import math as pkg_math\n",
    "from matplotlib import pyplot as pkg_plot\n",
    "from sklearn import linear_model as pkg_linear_model\n",
    "from sklearn import model_selection as pkg_model_selection\n",
    "from sklearn import preprocessing as pkg_preprocessing\n",
    "from sklearn import tree as pkg_tree\n",
    "from sklearn import metrics as pkg_metrics\n",
    "from sklearn import datasets as pkg_datasets\n",
    "from sklearn import ensemble as pkg_ensemble\n",
    "from sklearn import svm as pkg_svm\n",
    "import seaborn as pkg_seaborn"
   ]
  },
  {
   "cell_type": "markdown",
   "metadata": {},
   "source": [
    "#### Load Data"
   ]
  },
  {
   "cell_type": "code",
   "execution_count": 2,
   "metadata": {},
   "outputs": [
    {
     "data": {
      "text/plain": [
       "['DESCR',\n",
       " 'data',\n",
       " 'data_module',\n",
       " 'feature_names',\n",
       " 'filename',\n",
       " 'frame',\n",
       " 'target',\n",
       " 'target_names']"
      ]
     },
     "execution_count": 2,
     "metadata": {},
     "output_type": "execute_result"
    }
   ],
   "source": [
    "loaded_data = pkg_datasets.load_iris()\n",
    "dir(loaded_data)"
   ]
  },
  {
   "cell_type": "code",
   "execution_count": 3,
   "metadata": {},
   "outputs": [
    {
     "name": "stdout",
     "output_type": "stream",
     "text": [
      "\n",
      "Feature Names = ['sepal length (cm)', 'sepal width (cm)', 'petal length (cm)', 'petal width (cm)']\n",
      "Target Names = ['setosa' 'versicolor' 'virginica']\n",
      "Column\n"
     ]
    }
   ],
   "source": [
    "print(\"\\nFeature Names = {}\\nTarget Names = {}\\nColumn\".format(\\\n",
    "    loaded_data.feature_names, loaded_data.target_names))"
   ]
  },
  {
   "cell_type": "code",
   "execution_count": 4,
   "metadata": {},
   "outputs": [],
   "source": [
    "column_names = []\n",
    "for feature_name in loaded_data.feature_names:\n",
    "    column_name = feature_name.replace(' ', '_').replace('(','').replace(')','')\n",
    "    column_names.append(column_name)"
   ]
  },
  {
   "cell_type": "code",
   "execution_count": 5,
   "metadata": {},
   "outputs": [
    {
     "data": {
      "text/html": [
       "<div>\n",
       "<style scoped>\n",
       "    .dataframe tbody tr th:only-of-type {\n",
       "        vertical-align: middle;\n",
       "    }\n",
       "\n",
       "    .dataframe tbody tr th {\n",
       "        vertical-align: top;\n",
       "    }\n",
       "\n",
       "    .dataframe thead th {\n",
       "        text-align: right;\n",
       "    }\n",
       "</style>\n",
       "<table border=\"1\" class=\"dataframe\">\n",
       "  <thead>\n",
       "    <tr style=\"text-align: right;\">\n",
       "      <th></th>\n",
       "      <th>sepal_length_cm</th>\n",
       "      <th>sepal_width_cm</th>\n",
       "      <th>petal_length_cm</th>\n",
       "      <th>petal_width_cm</th>\n",
       "      <th>flower_number</th>\n",
       "      <th>flower_name</th>\n",
       "    </tr>\n",
       "  </thead>\n",
       "  <tbody>\n",
       "    <tr>\n",
       "      <th>0</th>\n",
       "      <td>5.1</td>\n",
       "      <td>3.5</td>\n",
       "      <td>1.4</td>\n",
       "      <td>0.2</td>\n",
       "      <td>0</td>\n",
       "      <td>setosa</td>\n",
       "    </tr>\n",
       "    <tr>\n",
       "      <th>1</th>\n",
       "      <td>4.9</td>\n",
       "      <td>3.0</td>\n",
       "      <td>1.4</td>\n",
       "      <td>0.2</td>\n",
       "      <td>0</td>\n",
       "      <td>setosa</td>\n",
       "    </tr>\n",
       "    <tr>\n",
       "      <th>2</th>\n",
       "      <td>4.7</td>\n",
       "      <td>3.2</td>\n",
       "      <td>1.3</td>\n",
       "      <td>0.2</td>\n",
       "      <td>0</td>\n",
       "      <td>setosa</td>\n",
       "    </tr>\n",
       "    <tr>\n",
       "      <th>3</th>\n",
       "      <td>4.6</td>\n",
       "      <td>3.1</td>\n",
       "      <td>1.5</td>\n",
       "      <td>0.2</td>\n",
       "      <td>0</td>\n",
       "      <td>setosa</td>\n",
       "    </tr>\n",
       "    <tr>\n",
       "      <th>4</th>\n",
       "      <td>5.0</td>\n",
       "      <td>3.6</td>\n",
       "      <td>1.4</td>\n",
       "      <td>0.2</td>\n",
       "      <td>0</td>\n",
       "      <td>setosa</td>\n",
       "    </tr>\n",
       "  </tbody>\n",
       "</table>\n",
       "</div>"
      ],
      "text/plain": [
       "   sepal_length_cm  sepal_width_cm  petal_length_cm  petal_width_cm  \\\n",
       "0              5.1             3.5              1.4             0.2   \n",
       "1              4.9             3.0              1.4             0.2   \n",
       "2              4.7             3.2              1.3             0.2   \n",
       "3              4.6             3.1              1.5             0.2   \n",
       "4              5.0             3.6              1.4             0.2   \n",
       "\n",
       "   flower_number flower_name  \n",
       "0              0      setosa  \n",
       "1              0      setosa  \n",
       "2              0      setosa  \n",
       "3              0      setosa  \n",
       "4              0      setosa  "
      ]
     },
     "execution_count": 5,
     "metadata": {},
     "output_type": "execute_result"
    }
   ],
   "source": [
    "loaded_df = pkg_pandas.DataFrame(loaded_data.data, columns=column_names)\n",
    "loaded_df['flower_number'] = loaded_data.target\n",
    "loaded_df['flower_name'] = loaded_df['flower_number'].apply(lambda fnum: loaded_data.target_names[fnum])\n",
    "loaded_df.head()"
   ]
  },
  {
   "cell_type": "markdown",
   "metadata": {},
   "source": [
    "### Analysis"
   ]
  },
  {
   "cell_type": "markdown",
   "metadata": {},
   "source": [
    "#### Pre-Work"
   ]
  },
  {
   "cell_type": "code",
   "execution_count": 6,
   "metadata": {},
   "outputs": [],
   "source": [
    "def get_score(model, train_X, train_Y, test_X, test_Y):\n",
    "    model.fit(X=train_X, y=train_Y)\n",
    "    return model.score(X=test_X, y=test_Y)"
   ]
  },
  {
   "cell_type": "markdown",
   "metadata": {},
   "source": [
    "#### Model"
   ]
  },
  {
   "cell_type": "code",
   "execution_count": 7,
   "metadata": {},
   "outputs": [],
   "source": [
    "# Initialize\n",
    "baseline_df = loaded_df"
   ]
  },
  {
   "cell_type": "code",
   "execution_count": 8,
   "metadata": {},
   "outputs": [],
   "source": [
    "output_column_name = 'flower_number'\n",
    "baseline_outputs = baseline_df[output_column_name]\n",
    "baseline_inputs = baseline_df.drop(columns=[output_column_name, 'flower_name']).to_numpy()"
   ]
  },
  {
   "cell_type": "code",
   "execution_count": 9,
   "metadata": {},
   "outputs": [
    {
     "data": {
      "text/plain": [
       "array([[4.7, 3.2, 1.3, 0.2]])"
      ]
     },
     "execution_count": 9,
     "metadata": {},
     "output_type": "execute_result"
    }
   ],
   "source": [
    "baseline_inputs[2:3]"
   ]
  },
  {
   "cell_type": "code",
   "execution_count": 10,
   "metadata": {},
   "outputs": [
    {
     "data": {
      "text/plain": [
       "5    0\n",
       "6    0\n",
       "7    0\n",
       "8    0\n",
       "9    0\n",
       "Name: flower_number, dtype: int64"
      ]
     },
     "execution_count": 10,
     "metadata": {},
     "output_type": "execute_result"
    }
   ],
   "source": [
    "baseline_outputs[5:10]"
   ]
  },
  {
   "cell_type": "code",
   "execution_count": 11,
   "metadata": {},
   "outputs": [],
   "source": [
    "scores_lnr = []\n",
    "scores_lgr = []\n",
    "scores_svm = []\n",
    "scores_dst = []\n",
    "scores_rf = []\n",
    "\n",
    "scores_lnr = pkg_model_selection.cross_val_score(pkg_linear_model.LinearRegression(), baseline_inputs, baseline_outputs)\n",
    "scores_lgr = pkg_model_selection.cross_val_score(pkg_linear_model.LogisticRegression(max_iter=5000), baseline_inputs, baseline_outputs)\n",
    "scores_svm = pkg_model_selection.cross_val_score(pkg_svm.SVC(), baseline_inputs, baseline_outputs)\n",
    "scores_dst = pkg_model_selection.cross_val_score(pkg_tree.DecisionTreeClassifier(), baseline_inputs, baseline_outputs)\n",
    "scores_rf  = pkg_model_selection.cross_val_score(pkg_ensemble.RandomForestClassifier(n_estimators=20), baseline_inputs, baseline_outputs)"
   ]
  },
  {
   "cell_type": "code",
   "execution_count": 12,
   "metadata": {},
   "outputs": [
    {
     "name": "stdout",
     "output_type": "stream",
     "text": [
      "= = = ::: Scores ::: = = =\n",
      "Linear Regression = [0.         0.85124923 0.         0.76155439 0.        ]\n",
      "Logistic Regression = [0.96666667 1.         0.93333333 0.96666667 1.        ]\n",
      "Support Vector Machine = [0.96666667 0.96666667 0.96666667 0.93333333 1.        ]\n",
      "Decision Trees = [0.96666667 0.96666667 0.9        1.         1.        ]\n",
      "Random Forest = [0.96666667 0.96666667 0.93333333 0.9        1.        ]\n"
     ]
    }
   ],
   "source": [
    "print(\"= = = ::: Scores ::: = = =\")\n",
    "print(\"Linear Regression = {}\".format(scores_lnr))\n",
    "print(\"Logistic Regression = {}\".format(scores_lgr))\n",
    "print(\"Support Vector Machine = {}\".format(scores_svm))\n",
    "print(\"Decision Trees = {}\".format(scores_dst))\n",
    "print(\"Random Forest = {}\".format(scores_rf))"
   ]
  }
 ],
 "metadata": {
  "kernelspec": {
   "display_name": "Python 3.8.10 64-bit",
   "language": "python",
   "name": "python3"
  },
  "language_info": {
   "codemirror_mode": {
    "name": "ipython",
    "version": 3
   },
   "file_extension": ".py",
   "mimetype": "text/x-python",
   "name": "python",
   "nbconvert_exporter": "python",
   "pygments_lexer": "ipython3",
   "version": "3.8.10"
  },
  "orig_nbformat": 4,
  "vscode": {
   "interpreter": {
    "hash": "916dbcbb3f70747c44a77c7bcd40155683ae19c65e1c03b4aa3499c5328201f1"
   }
  }
 },
 "nbformat": 4,
 "nbformat_minor": 2
}
