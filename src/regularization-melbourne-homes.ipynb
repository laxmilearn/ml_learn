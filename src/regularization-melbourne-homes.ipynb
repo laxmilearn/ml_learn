{
 "cells": [
  {
   "cell_type": "markdown",
   "metadata": {},
   "source": [
    "## Regularization (L1 & L2): Melbourne Homes"
   ]
  },
  {
   "cell_type": "markdown",
   "metadata": {},
   "source": [
    "### Preface"
   ]
  },
  {
   "cell_type": "markdown",
   "metadata": {},
   "source": [
    "**Summary**\n",
    "- Model Fit Issues - Under Fit, Over Fit\n",
    "- Model Under Fit - Tune Parameters\n",
    "- Model Over Fit - L1 and L2 Regularization "
   ]
  },
  {
   "cell_type": "markdown",
   "metadata": {},
   "source": [
    "**Acknowledgements**\n",
    "- Code Basics Machine Learning Course - Regularization Lesson\n"
   ]
  },
  {
   "cell_type": "markdown",
   "metadata": {},
   "source": [
    "### Initialization"
   ]
  },
  {
   "cell_type": "markdown",
   "metadata": {},
   "source": [
    "**Packages**"
   ]
  },
  {
   "cell_type": "code",
   "execution_count": 1,
   "metadata": {},
   "outputs": [],
   "source": [
    "import pandas as pkg_pandas\n",
    "import math as pkg_math\n",
    "import warnings as pkg_warnings\n",
    "import datetime as pkg_datetime\n",
    "import matplotlib.pyplot as pkg_plot\n",
    "import seaborn as pkg_seaborn\n",
    "import sklearn.linear_model as pkg_linear_model\n",
    "import sklearn.model_selection as pkg_model_selection\n",
    "import sklearn.preprocessing as pkg_preprocessing\n",
    "import sklearn.tree as pkg_tree\n",
    "import sklearn.metrics as pkg_metrics\n",
    "import sklearn.datasets as pkg_datasets\n",
    "import sklearn.ensemble as pkg_ensemble\n",
    "import sklearn.svm as pkg_svm\n",
    "import sklearn.naive_bayes as pkg_naive_bayes"
   ]
  },
  {
   "cell_type": "markdown",
   "metadata": {},
   "source": [
    "**Common**"
   ]
  },
  {
   "cell_type": "code",
   "execution_count": 2,
   "metadata": {},
   "outputs": [],
   "source": [
    "%matplotlib inline\n",
    "pkg_warnings.filterwarnings(\"ignore\")"
   ]
  },
  {
   "cell_type": "markdown",
   "metadata": {},
   "source": [
    "**Fill NaN Values**"
   ]
  },
  {
   "cell_type": "code",
   "execution_count": 3,
   "metadata": {},
   "outputs": [],
   "source": [
    "def fillna_column_mean_int(df, column_name):\n",
    "    value = int(df[column_name].mean())\n",
    "    df[column_name].fillna(value, inplace=True)\n",
    "    return value"
   ]
  },
  {
   "cell_type": "code",
   "execution_count": 4,
   "metadata": {},
   "outputs": [],
   "source": [
    "def fillna_column_median_int(df, column_name):\n",
    "    value = int(df[column_name].median())\n",
    "    df[column_name].fillna(value, inplace=True)\n",
    "    return value"
   ]
  },
  {
   "cell_type": "code",
   "execution_count": 5,
   "metadata": {},
   "outputs": [],
   "source": [
    "def fillna_columns(df, nan_column_names, filler):\n",
    "    fills = []\n",
    "    for column_name in nan_column_names:\n",
    "        fill_value = filler(df, column_name)\n",
    "        fills.append({\"column_name\" : column_name, \"fill_value\" :  fill_value})\n",
    "    return fills"
   ]
  },
  {
   "cell_type": "code",
   "execution_count": 6,
   "metadata": {},
   "outputs": [],
   "source": [
    "def fillna_df(df, filler):\n",
    "    # Find columns which have NaN values\n",
    "    nan_columns = df.columns[df.isna().any()]\n",
    "    return fillna_columns(df, nan_columns, filler)"
   ]
  },
  {
   "cell_type": "markdown",
   "metadata": {},
   "source": [
    "**Load Data**"
   ]
  },
  {
   "cell_type": "code",
   "execution_count": 7,
   "metadata": {},
   "outputs": [
    {
     "data": {
      "text/plain": [
       "((34857, 21),\n",
       " suburb_name            351\n",
       " address              34009\n",
       " rooms                   12\n",
       " type                     3\n",
       " price                 2871\n",
       " method                   9\n",
       " seller_name            388\n",
       " date                    78\n",
       " distance               215\n",
       " postal_code            211\n",
       " bedroom2                15\n",
       " bathrooms               11\n",
       " car                     15\n",
       " land_size             1684\n",
       " building_area          740\n",
       " year_built             160\n",
       " council_area_name       33\n",
       " lattitude            13402\n",
       " longtitude           14524\n",
       " region_name              8\n",
       " property_count         342\n",
       " dtype: int64)"
      ]
     },
     "execution_count": 7,
     "metadata": {},
     "output_type": "execute_result"
    }
   ],
   "source": [
    "data_df = pkg_pandas.read_csv(\"../data/cbex-melbourne-homes.csv\")\n",
    "data_df.shape, data_df.nunique()"
   ]
  },
  {
   "cell_type": "markdown",
   "metadata": {},
   "source": [
    "**Curate Data**"
   ]
  },
  {
   "cell_type": "code",
   "execution_count": 8,
   "metadata": {},
   "outputs": [],
   "source": [
    "# Initialize\n",
    "baseline_df = data_df"
   ]
  },
  {
   "cell_type": "code",
   "execution_count": 9,
   "metadata": {},
   "outputs": [
    {
     "data": {
      "text/plain": [
       "((34857, 16),\n",
       " suburb_name              0\n",
       " rooms                    0\n",
       " type                     0\n",
       " method                   0\n",
       " seller_name              0\n",
       " distance                 1\n",
       " bedroom2              8217\n",
       " bathrooms             8226\n",
       " car                   8728\n",
       " land_size            11810\n",
       " building_area        21115\n",
       " year_built           19306\n",
       " council_area_name        3\n",
       " region_name              3\n",
       " property_count           3\n",
       " price                 7610\n",
       " dtype: int64)"
      ]
     },
     "execution_count": 9,
     "metadata": {},
     "output_type": "execute_result"
    }
   ],
   "source": [
    "useful_columns = [\"suburb_name\", \"rooms\", \"type\", \"method\", \"seller_name\", \"distance\", \"bedroom2\", \"bathrooms\", \n",
    "    \"car\", \"land_size\", \"building_area\", \"year_built\", \"council_area_name\", \"region_name\", \"property_count\", \"price\"]\n",
    "\n",
    "baseline_df = baseline_df[useful_columns]\n",
    "baseline_df.shape, baseline_df.isna().sum()"
   ]
  },
  {
   "cell_type": "code",
   "execution_count": 10,
   "metadata": {},
   "outputs": [
    {
     "data": {
      "text/html": [
       "<div>\n",
       "<style scoped>\n",
       "    .dataframe tbody tr th:only-of-type {\n",
       "        vertical-align: middle;\n",
       "    }\n",
       "\n",
       "    .dataframe tbody tr th {\n",
       "        vertical-align: top;\n",
       "    }\n",
       "\n",
       "    .dataframe thead th {\n",
       "        text-align: right;\n",
       "    }\n",
       "</style>\n",
       "<table border=\"1\" class=\"dataframe\">\n",
       "  <thead>\n",
       "    <tr style=\"text-align: right;\">\n",
       "      <th></th>\n",
       "      <th>suburb_name</th>\n",
       "      <th>rooms</th>\n",
       "      <th>type</th>\n",
       "      <th>method</th>\n",
       "      <th>seller_name</th>\n",
       "      <th>distance</th>\n",
       "      <th>bedroom2</th>\n",
       "      <th>bathrooms</th>\n",
       "      <th>car</th>\n",
       "      <th>land_size</th>\n",
       "      <th>building_area</th>\n",
       "      <th>year_built</th>\n",
       "      <th>council_area_name</th>\n",
       "      <th>region_name</th>\n",
       "      <th>property_count</th>\n",
       "      <th>price</th>\n",
       "    </tr>\n",
       "  </thead>\n",
       "  <tbody>\n",
       "    <tr>\n",
       "      <th>1005</th>\n",
       "      <td>Balwyn</td>\n",
       "      <td>3</td>\n",
       "      <td>h</td>\n",
       "      <td>SP</td>\n",
       "      <td>Noel</td>\n",
       "      <td>9.7</td>\n",
       "      <td>3.0</td>\n",
       "      <td>2.0</td>\n",
       "      <td>2.0</td>\n",
       "      <td>404.0</td>\n",
       "      <td>190.0</td>\n",
       "      <td>2011.0</td>\n",
       "      <td>Boroondara City Council</td>\n",
       "      <td>Southern Metropolitan</td>\n",
       "      <td>5682.0</td>\n",
       "      <td>1500000.0</td>\n",
       "    </tr>\n",
       "    <tr>\n",
       "      <th>1006</th>\n",
       "      <td>Balwyn</td>\n",
       "      <td>3</td>\n",
       "      <td>h</td>\n",
       "      <td>S</td>\n",
       "      <td>Fletchers</td>\n",
       "      <td>9.7</td>\n",
       "      <td>3.0</td>\n",
       "      <td>1.0</td>\n",
       "      <td>1.0</td>\n",
       "      <td>607.0</td>\n",
       "      <td>NaN</td>\n",
       "      <td>1950.0</td>\n",
       "      <td>Boroondara City Council</td>\n",
       "      <td>Southern Metropolitan</td>\n",
       "      <td>5682.0</td>\n",
       "      <td>1850000.0</td>\n",
       "    </tr>\n",
       "    <tr>\n",
       "      <th>1007</th>\n",
       "      <td>Balwyn</td>\n",
       "      <td>5</td>\n",
       "      <td>h</td>\n",
       "      <td>S</td>\n",
       "      <td>Marshall</td>\n",
       "      <td>9.7</td>\n",
       "      <td>6.0</td>\n",
       "      <td>3.0</td>\n",
       "      <td>4.0</td>\n",
       "      <td>876.0</td>\n",
       "      <td>323.0</td>\n",
       "      <td>1980.0</td>\n",
       "      <td>Boroondara City Council</td>\n",
       "      <td>Southern Metropolitan</td>\n",
       "      <td>5682.0</td>\n",
       "      <td>NaN</td>\n",
       "    </tr>\n",
       "    <tr>\n",
       "      <th>1008</th>\n",
       "      <td>Balwyn</td>\n",
       "      <td>4</td>\n",
       "      <td>h</td>\n",
       "      <td>VB</td>\n",
       "      <td>Marshall</td>\n",
       "      <td>9.7</td>\n",
       "      <td>3.0</td>\n",
       "      <td>1.0</td>\n",
       "      <td>1.0</td>\n",
       "      <td>672.0</td>\n",
       "      <td>115.0</td>\n",
       "      <td>1935.0</td>\n",
       "      <td>Boroondara City Council</td>\n",
       "      <td>Southern Metropolitan</td>\n",
       "      <td>5682.0</td>\n",
       "      <td>1700000.0</td>\n",
       "    </tr>\n",
       "    <tr>\n",
       "      <th>1009</th>\n",
       "      <td>Balwyn</td>\n",
       "      <td>2</td>\n",
       "      <td>h</td>\n",
       "      <td>PI</td>\n",
       "      <td>Marshall</td>\n",
       "      <td>9.7</td>\n",
       "      <td>2.0</td>\n",
       "      <td>0.0</td>\n",
       "      <td>0.0</td>\n",
       "      <td>1611.0</td>\n",
       "      <td>NaN</td>\n",
       "      <td>NaN</td>\n",
       "      <td>Boroondara City Council</td>\n",
       "      <td>Southern Metropolitan</td>\n",
       "      <td>5682.0</td>\n",
       "      <td>1010000.0</td>\n",
       "    </tr>\n",
       "    <tr>\n",
       "      <th>1010</th>\n",
       "      <td>Balwyn North</td>\n",
       "      <td>3</td>\n",
       "      <td>t</td>\n",
       "      <td>S</td>\n",
       "      <td>hockingstuart</td>\n",
       "      <td>9.2</td>\n",
       "      <td>3.0</td>\n",
       "      <td>2.0</td>\n",
       "      <td>2.0</td>\n",
       "      <td>260.0</td>\n",
       "      <td>167.0</td>\n",
       "      <td>2000.0</td>\n",
       "      <td>Boroondara City Council</td>\n",
       "      <td>Southern Metropolitan</td>\n",
       "      <td>7809.0</td>\n",
       "      <td>1315000.0</td>\n",
       "    </tr>\n",
       "    <tr>\n",
       "      <th>1011</th>\n",
       "      <td>Balwyn North</td>\n",
       "      <td>3</td>\n",
       "      <td>h</td>\n",
       "      <td>PI</td>\n",
       "      <td>Jellis</td>\n",
       "      <td>9.2</td>\n",
       "      <td>3.0</td>\n",
       "      <td>2.0</td>\n",
       "      <td>1.0</td>\n",
       "      <td>778.0</td>\n",
       "      <td>154.0</td>\n",
       "      <td>1950.0</td>\n",
       "      <td>Boroondara City Council</td>\n",
       "      <td>Southern Metropolitan</td>\n",
       "      <td>7809.0</td>\n",
       "      <td>1500000.0</td>\n",
       "    </tr>\n",
       "    <tr>\n",
       "      <th>1012</th>\n",
       "      <td>Balwyn North</td>\n",
       "      <td>4</td>\n",
       "      <td>h</td>\n",
       "      <td>S</td>\n",
       "      <td>Jellis</td>\n",
       "      <td>9.2</td>\n",
       "      <td>4.0</td>\n",
       "      <td>4.0</td>\n",
       "      <td>3.0</td>\n",
       "      <td>1135.0</td>\n",
       "      <td>275.0</td>\n",
       "      <td>1960.0</td>\n",
       "      <td>Boroondara City Council</td>\n",
       "      <td>Southern Metropolitan</td>\n",
       "      <td>7809.0</td>\n",
       "      <td>3230000.0</td>\n",
       "    </tr>\n",
       "    <tr>\n",
       "      <th>1013</th>\n",
       "      <td>Balwyn North</td>\n",
       "      <td>2</td>\n",
       "      <td>h</td>\n",
       "      <td>S</td>\n",
       "      <td>Jellis</td>\n",
       "      <td>9.2</td>\n",
       "      <td>2.0</td>\n",
       "      <td>1.0</td>\n",
       "      <td>1.0</td>\n",
       "      <td>253.0</td>\n",
       "      <td>NaN</td>\n",
       "      <td>NaN</td>\n",
       "      <td>Boroondara City Council</td>\n",
       "      <td>Southern Metropolitan</td>\n",
       "      <td>7809.0</td>\n",
       "      <td>1080000.0</td>\n",
       "    </tr>\n",
       "    <tr>\n",
       "      <th>1014</th>\n",
       "      <td>Balwyn North</td>\n",
       "      <td>4</td>\n",
       "      <td>u</td>\n",
       "      <td>S</td>\n",
       "      <td>hockingstuart</td>\n",
       "      <td>9.2</td>\n",
       "      <td>NaN</td>\n",
       "      <td>NaN</td>\n",
       "      <td>NaN</td>\n",
       "      <td>NaN</td>\n",
       "      <td>NaN</td>\n",
       "      <td>NaN</td>\n",
       "      <td>Boroondara City Council</td>\n",
       "      <td>Southern Metropolitan</td>\n",
       "      <td>7809.0</td>\n",
       "      <td>1450000.0</td>\n",
       "    </tr>\n",
       "  </tbody>\n",
       "</table>\n",
       "</div>"
      ],
      "text/plain": [
       "       suburb_name  rooms type method    seller_name  distance  bedroom2  \\\n",
       "1005        Balwyn      3    h     SP           Noel       9.7       3.0   \n",
       "1006        Balwyn      3    h      S      Fletchers       9.7       3.0   \n",
       "1007        Balwyn      5    h      S       Marshall       9.7       6.0   \n",
       "1008        Balwyn      4    h     VB       Marshall       9.7       3.0   \n",
       "1009        Balwyn      2    h     PI       Marshall       9.7       2.0   \n",
       "1010  Balwyn North      3    t      S  hockingstuart       9.2       3.0   \n",
       "1011  Balwyn North      3    h     PI         Jellis       9.2       3.0   \n",
       "1012  Balwyn North      4    h      S         Jellis       9.2       4.0   \n",
       "1013  Balwyn North      2    h      S         Jellis       9.2       2.0   \n",
       "1014  Balwyn North      4    u      S  hockingstuart       9.2       NaN   \n",
       "\n",
       "      bathrooms  car  land_size  building_area  year_built  \\\n",
       "1005        2.0  2.0      404.0          190.0      2011.0   \n",
       "1006        1.0  1.0      607.0            NaN      1950.0   \n",
       "1007        3.0  4.0      876.0          323.0      1980.0   \n",
       "1008        1.0  1.0      672.0          115.0      1935.0   \n",
       "1009        0.0  0.0     1611.0            NaN         NaN   \n",
       "1010        2.0  2.0      260.0          167.0      2000.0   \n",
       "1011        2.0  1.0      778.0          154.0      1950.0   \n",
       "1012        4.0  3.0     1135.0          275.0      1960.0   \n",
       "1013        1.0  1.0      253.0            NaN         NaN   \n",
       "1014        NaN  NaN        NaN            NaN         NaN   \n",
       "\n",
       "            council_area_name            region_name  property_count  \\\n",
       "1005  Boroondara City Council  Southern Metropolitan          5682.0   \n",
       "1006  Boroondara City Council  Southern Metropolitan          5682.0   \n",
       "1007  Boroondara City Council  Southern Metropolitan          5682.0   \n",
       "1008  Boroondara City Council  Southern Metropolitan          5682.0   \n",
       "1009  Boroondara City Council  Southern Metropolitan          5682.0   \n",
       "1010  Boroondara City Council  Southern Metropolitan          7809.0   \n",
       "1011  Boroondara City Council  Southern Metropolitan          7809.0   \n",
       "1012  Boroondara City Council  Southern Metropolitan          7809.0   \n",
       "1013  Boroondara City Council  Southern Metropolitan          7809.0   \n",
       "1014  Boroondara City Council  Southern Metropolitan          7809.0   \n",
       "\n",
       "          price  \n",
       "1005  1500000.0  \n",
       "1006  1850000.0  \n",
       "1007        NaN  \n",
       "1008  1700000.0  \n",
       "1009  1010000.0  \n",
       "1010  1315000.0  \n",
       "1011  1500000.0  \n",
       "1012  3230000.0  \n",
       "1013  1080000.0  \n",
       "1014  1450000.0  "
      ]
     },
     "execution_count": 10,
     "metadata": {},
     "output_type": "execute_result"
    }
   ],
   "source": [
    "baseline_df[1005:1015]"
   ]
  },
  {
   "cell_type": "code",
   "execution_count": 11,
   "metadata": {},
   "outputs": [
    {
     "data": {
      "text/plain": [
       "suburb_name              0\n",
       "rooms                    0\n",
       "type                     0\n",
       "method                   0\n",
       "seller_name              0\n",
       "distance                 0\n",
       "bedroom2                 0\n",
       "bathrooms                0\n",
       "car                      0\n",
       "land_size            11810\n",
       "building_area        21115\n",
       "year_built           19306\n",
       "council_area_name        3\n",
       "region_name              3\n",
       "property_count           0\n",
       "price                 7610\n",
       "dtype: int64"
      ]
     },
     "execution_count": 11,
     "metadata": {},
     "output_type": "execute_result"
    }
   ],
   "source": [
    "zero_value_columns = [\"car\", \"property_count\", \"distance\", \"bedroom2\", \"bathrooms\"]\n",
    "baseline_df[zero_value_columns] = baseline_df[zero_value_columns].fillna(0)\n",
    "baseline_df.isna().sum()"
   ]
  },
  {
   "cell_type": "code",
   "execution_count": 12,
   "metadata": {},
   "outputs": [
    {
     "data": {
      "text/plain": [
       "([{'column_name': 'land_size', 'fill_value': 593},\n",
       "  {'column_name': 'building_area', 'fill_value': 160},\n",
       "  {'column_name': 'year_built', 'fill_value': 1965}],\n",
       " suburb_name             0\n",
       " rooms                   0\n",
       " type                    0\n",
       " method                  0\n",
       " seller_name             0\n",
       " distance                0\n",
       " bedroom2                0\n",
       " bathrooms               0\n",
       " car                     0\n",
       " land_size               0\n",
       " building_area           0\n",
       " council_area_name       3\n",
       " region_name             3\n",
       " property_count          0\n",
       " price                7610\n",
       " age                     0\n",
       " dtype: int64)"
      ]
     },
     "execution_count": 12,
     "metadata": {},
     "output_type": "execute_result"
    }
   ],
   "source": [
    "fills = fillna_columns(baseline_df, [\"land_size\", \"building_area\", \"year_built\"], fillna_column_mean_int)\n",
    "baseline_df[\"age\"] = (pkg_datetime.date.today().year - baseline_df[\"year_built\"])\n",
    "baseline_df.drop(columns=[\"year_built\"], inplace=True)\n",
    "fills, baseline_df.isna().sum()"
   ]
  },
  {
   "cell_type": "code",
   "execution_count": 13,
   "metadata": {},
   "outputs": [
    {
     "data": {
      "text/plain": [
       "suburb_name          0\n",
       "rooms                0\n",
       "type                 0\n",
       "method               0\n",
       "seller_name          0\n",
       "distance             0\n",
       "bedroom2             0\n",
       "bathrooms            0\n",
       "car                  0\n",
       "land_size            0\n",
       "building_area        0\n",
       "council_area_name    0\n",
       "region_name          0\n",
       "property_count       0\n",
       "price                0\n",
       "age                  0\n",
       "dtype: int64"
      ]
     },
     "execution_count": 13,
     "metadata": {},
     "output_type": "execute_result"
    }
   ],
   "source": [
    "baseline_df.dropna(inplace=True)\n",
    "baseline_df.isna().sum()"
   ]
  },
  {
   "cell_type": "code",
   "execution_count": 14,
   "metadata": {},
   "outputs": [
    {
     "data": {
      "text/html": [
       "<div>\n",
       "<style scoped>\n",
       "    .dataframe tbody tr th:only-of-type {\n",
       "        vertical-align: middle;\n",
       "    }\n",
       "\n",
       "    .dataframe tbody tr th {\n",
       "        vertical-align: top;\n",
       "    }\n",
       "\n",
       "    .dataframe thead th {\n",
       "        text-align: right;\n",
       "    }\n",
       "</style>\n",
       "<table border=\"1\" class=\"dataframe\">\n",
       "  <thead>\n",
       "    <tr style=\"text-align: right;\">\n",
       "      <th></th>\n",
       "      <th>suburb_name</th>\n",
       "      <th>rooms</th>\n",
       "      <th>type</th>\n",
       "      <th>method</th>\n",
       "      <th>seller_name</th>\n",
       "      <th>distance</th>\n",
       "      <th>bedroom2</th>\n",
       "      <th>bathrooms</th>\n",
       "      <th>car</th>\n",
       "      <th>land_size</th>\n",
       "      <th>building_area</th>\n",
       "      <th>council_area_name</th>\n",
       "      <th>region_name</th>\n",
       "      <th>property_count</th>\n",
       "      <th>price</th>\n",
       "      <th>age</th>\n",
       "    </tr>\n",
       "  </thead>\n",
       "  <tbody>\n",
       "    <tr>\n",
       "      <th>1311</th>\n",
       "      <td>Bentleigh</td>\n",
       "      <td>3</td>\n",
       "      <td>h</td>\n",
       "      <td>S</td>\n",
       "      <td>Buxton</td>\n",
       "      <td>13.0</td>\n",
       "      <td>3.0</td>\n",
       "      <td>1.0</td>\n",
       "      <td>2.0</td>\n",
       "      <td>0.0</td>\n",
       "      <td>160.0</td>\n",
       "      <td>Glen Eira City Council</td>\n",
       "      <td>Southern Metropolitan</td>\n",
       "      <td>6795.0</td>\n",
       "      <td>895000.0</td>\n",
       "      <td>57.0</td>\n",
       "    </tr>\n",
       "    <tr>\n",
       "      <th>1313</th>\n",
       "      <td>Bentleigh</td>\n",
       "      <td>4</td>\n",
       "      <td>h</td>\n",
       "      <td>S</td>\n",
       "      <td>Woodards</td>\n",
       "      <td>13.0</td>\n",
       "      <td>4.0</td>\n",
       "      <td>2.0</td>\n",
       "      <td>1.0</td>\n",
       "      <td>292.0</td>\n",
       "      <td>160.0</td>\n",
       "      <td>Glen Eira City Council</td>\n",
       "      <td>Southern Metropolitan</td>\n",
       "      <td>6795.0</td>\n",
       "      <td>1041000.0</td>\n",
       "      <td>57.0</td>\n",
       "    </tr>\n",
       "    <tr>\n",
       "      <th>1314</th>\n",
       "      <td>Bentleigh</td>\n",
       "      <td>4</td>\n",
       "      <td>h</td>\n",
       "      <td>S</td>\n",
       "      <td>hockingstuart</td>\n",
       "      <td>13.0</td>\n",
       "      <td>4.0</td>\n",
       "      <td>2.0</td>\n",
       "      <td>2.0</td>\n",
       "      <td>611.0</td>\n",
       "      <td>168.0</td>\n",
       "      <td>Glen Eira City Council</td>\n",
       "      <td>Southern Metropolitan</td>\n",
       "      <td>6795.0</td>\n",
       "      <td>1430000.0</td>\n",
       "      <td>52.0</td>\n",
       "    </tr>\n",
       "    <tr>\n",
       "      <th>1315</th>\n",
       "      <td>Bentleigh</td>\n",
       "      <td>2</td>\n",
       "      <td>h</td>\n",
       "      <td>S</td>\n",
       "      <td>Buxton</td>\n",
       "      <td>13.0</td>\n",
       "      <td>2.0</td>\n",
       "      <td>1.0</td>\n",
       "      <td>2.0</td>\n",
       "      <td>274.0</td>\n",
       "      <td>96.0</td>\n",
       "      <td>Glen Eira City Council</td>\n",
       "      <td>Southern Metropolitan</td>\n",
       "      <td>6795.0</td>\n",
       "      <td>910000.0</td>\n",
       "      <td>52.0</td>\n",
       "    </tr>\n",
       "    <tr>\n",
       "      <th>1316</th>\n",
       "      <td>Bentleigh</td>\n",
       "      <td>4</td>\n",
       "      <td>h</td>\n",
       "      <td>PI</td>\n",
       "      <td>Buxton</td>\n",
       "      <td>13.0</td>\n",
       "      <td>4.0</td>\n",
       "      <td>4.0</td>\n",
       "      <td>2.0</td>\n",
       "      <td>579.0</td>\n",
       "      <td>361.0</td>\n",
       "      <td>Glen Eira City Council</td>\n",
       "      <td>Southern Metropolitan</td>\n",
       "      <td>6795.0</td>\n",
       "      <td>2520000.0</td>\n",
       "      <td>10.0</td>\n",
       "    </tr>\n",
       "    <tr>\n",
       "      <th>1317</th>\n",
       "      <td>Bentleigh</td>\n",
       "      <td>4</td>\n",
       "      <td>h</td>\n",
       "      <td>S</td>\n",
       "      <td>Buxton</td>\n",
       "      <td>13.0</td>\n",
       "      <td>0.0</td>\n",
       "      <td>0.0</td>\n",
       "      <td>0.0</td>\n",
       "      <td>593.0</td>\n",
       "      <td>160.0</td>\n",
       "      <td>Glen Eira City Council</td>\n",
       "      <td>Southern Metropolitan</td>\n",
       "      <td>6795.0</td>\n",
       "      <td>1860000.0</td>\n",
       "      <td>57.0</td>\n",
       "    </tr>\n",
       "    <tr>\n",
       "      <th>1318</th>\n",
       "      <td>Bentleigh</td>\n",
       "      <td>3</td>\n",
       "      <td>h</td>\n",
       "      <td>S</td>\n",
       "      <td>C21</td>\n",
       "      <td>13.0</td>\n",
       "      <td>3.0</td>\n",
       "      <td>1.0</td>\n",
       "      <td>1.0</td>\n",
       "      <td>617.0</td>\n",
       "      <td>160.0</td>\n",
       "      <td>Glen Eira City Council</td>\n",
       "      <td>Southern Metropolitan</td>\n",
       "      <td>6795.0</td>\n",
       "      <td>1350000.0</td>\n",
       "      <td>57.0</td>\n",
       "    </tr>\n",
       "    <tr>\n",
       "      <th>1319</th>\n",
       "      <td>Bentleigh</td>\n",
       "      <td>2</td>\n",
       "      <td>u</td>\n",
       "      <td>S</td>\n",
       "      <td>hockingstuart</td>\n",
       "      <td>13.0</td>\n",
       "      <td>2.0</td>\n",
       "      <td>1.0</td>\n",
       "      <td>2.0</td>\n",
       "      <td>118.0</td>\n",
       "      <td>160.0</td>\n",
       "      <td>Glen Eira City Council</td>\n",
       "      <td>Southern Metropolitan</td>\n",
       "      <td>6795.0</td>\n",
       "      <td>635000.0</td>\n",
       "      <td>57.0</td>\n",
       "    </tr>\n",
       "    <tr>\n",
       "      <th>1320</th>\n",
       "      <td>Bentleigh</td>\n",
       "      <td>3</td>\n",
       "      <td>h</td>\n",
       "      <td>S</td>\n",
       "      <td>Buxton</td>\n",
       "      <td>13.0</td>\n",
       "      <td>3.0</td>\n",
       "      <td>2.0</td>\n",
       "      <td>4.0</td>\n",
       "      <td>587.0</td>\n",
       "      <td>160.0</td>\n",
       "      <td>Glen Eira City Council</td>\n",
       "      <td>Southern Metropolitan</td>\n",
       "      <td>6795.0</td>\n",
       "      <td>1280000.0</td>\n",
       "      <td>57.0</td>\n",
       "    </tr>\n",
       "    <tr>\n",
       "      <th>1321</th>\n",
       "      <td>Bentleigh</td>\n",
       "      <td>5</td>\n",
       "      <td>h</td>\n",
       "      <td>S</td>\n",
       "      <td>Woodards</td>\n",
       "      <td>13.0</td>\n",
       "      <td>5.0</td>\n",
       "      <td>2.0</td>\n",
       "      <td>2.0</td>\n",
       "      <td>567.0</td>\n",
       "      <td>250.0</td>\n",
       "      <td>Glen Eira City Council</td>\n",
       "      <td>Southern Metropolitan</td>\n",
       "      <td>6795.0</td>\n",
       "      <td>1900000.0</td>\n",
       "      <td>96.0</td>\n",
       "    </tr>\n",
       "  </tbody>\n",
       "</table>\n",
       "</div>"
      ],
      "text/plain": [
       "     suburb_name  rooms type method    seller_name  distance  bedroom2  \\\n",
       "1311   Bentleigh      3    h      S         Buxton      13.0       3.0   \n",
       "1313   Bentleigh      4    h      S       Woodards      13.0       4.0   \n",
       "1314   Bentleigh      4    h      S  hockingstuart      13.0       4.0   \n",
       "1315   Bentleigh      2    h      S         Buxton      13.0       2.0   \n",
       "1316   Bentleigh      4    h     PI         Buxton      13.0       4.0   \n",
       "1317   Bentleigh      4    h      S         Buxton      13.0       0.0   \n",
       "1318   Bentleigh      3    h      S            C21      13.0       3.0   \n",
       "1319   Bentleigh      2    u      S  hockingstuart      13.0       2.0   \n",
       "1320   Bentleigh      3    h      S         Buxton      13.0       3.0   \n",
       "1321   Bentleigh      5    h      S       Woodards      13.0       5.0   \n",
       "\n",
       "      bathrooms  car  land_size  building_area       council_area_name  \\\n",
       "1311        1.0  2.0        0.0          160.0  Glen Eira City Council   \n",
       "1313        2.0  1.0      292.0          160.0  Glen Eira City Council   \n",
       "1314        2.0  2.0      611.0          168.0  Glen Eira City Council   \n",
       "1315        1.0  2.0      274.0           96.0  Glen Eira City Council   \n",
       "1316        4.0  2.0      579.0          361.0  Glen Eira City Council   \n",
       "1317        0.0  0.0      593.0          160.0  Glen Eira City Council   \n",
       "1318        1.0  1.0      617.0          160.0  Glen Eira City Council   \n",
       "1319        1.0  2.0      118.0          160.0  Glen Eira City Council   \n",
       "1320        2.0  4.0      587.0          160.0  Glen Eira City Council   \n",
       "1321        2.0  2.0      567.0          250.0  Glen Eira City Council   \n",
       "\n",
       "                region_name  property_count      price   age  \n",
       "1311  Southern Metropolitan          6795.0   895000.0  57.0  \n",
       "1313  Southern Metropolitan          6795.0  1041000.0  57.0  \n",
       "1314  Southern Metropolitan          6795.0  1430000.0  52.0  \n",
       "1315  Southern Metropolitan          6795.0   910000.0  52.0  \n",
       "1316  Southern Metropolitan          6795.0  2520000.0  10.0  \n",
       "1317  Southern Metropolitan          6795.0  1860000.0  57.0  \n",
       "1318  Southern Metropolitan          6795.0  1350000.0  57.0  \n",
       "1319  Southern Metropolitan          6795.0   635000.0  57.0  \n",
       "1320  Southern Metropolitan          6795.0  1280000.0  57.0  \n",
       "1321  Southern Metropolitan          6795.0  1900000.0  96.0  "
      ]
     },
     "execution_count": 14,
     "metadata": {},
     "output_type": "execute_result"
    }
   ],
   "source": [
    "baseline_df[1015:1025]"
   ]
  },
  {
   "cell_type": "code",
   "execution_count": 15,
   "metadata": {},
   "outputs": [
    {
     "data": {
      "text/plain": [
       "((27244, 16), (27244, 746))"
      ]
     },
     "execution_count": 15,
     "metadata": {},
     "output_type": "execute_result"
    }
   ],
   "source": [
    "shape_before = baseline_df.shape\n",
    "non_numerical_columns=[\"suburb_name\", \"type\", \"method\", \"seller_name\", \"council_area_name\", \"region_name\"]\n",
    "baseline_df = pkg_pandas.get_dummies(baseline_df, columns=non_numerical_columns, drop_first=True)\n",
    "shape_after = baseline_df.shape\n",
    "shape_before, shape_after"
   ]
  },
  {
   "cell_type": "code",
   "execution_count": 16,
   "metadata": {},
   "outputs": [
    {
     "data": {
      "text/html": [
       "<div>\n",
       "<style scoped>\n",
       "    .dataframe tbody tr th:only-of-type {\n",
       "        vertical-align: middle;\n",
       "    }\n",
       "\n",
       "    .dataframe tbody tr th {\n",
       "        vertical-align: top;\n",
       "    }\n",
       "\n",
       "    .dataframe thead th {\n",
       "        text-align: right;\n",
       "    }\n",
       "</style>\n",
       "<table border=\"1\" class=\"dataframe\">\n",
       "  <thead>\n",
       "    <tr style=\"text-align: right;\">\n",
       "      <th></th>\n",
       "      <th>rooms</th>\n",
       "      <th>distance</th>\n",
       "      <th>bedroom2</th>\n",
       "      <th>bathrooms</th>\n",
       "      <th>car</th>\n",
       "      <th>land_size</th>\n",
       "      <th>building_area</th>\n",
       "      <th>property_count</th>\n",
       "      <th>price</th>\n",
       "      <th>age</th>\n",
       "      <th>...</th>\n",
       "      <th>council_area_name_Wyndham City Council</th>\n",
       "      <th>council_area_name_Yarra City Council</th>\n",
       "      <th>council_area_name_Yarra Ranges Shire Council</th>\n",
       "      <th>region_name_Eastern Victoria</th>\n",
       "      <th>region_name_Northern Metropolitan</th>\n",
       "      <th>region_name_Northern Victoria</th>\n",
       "      <th>region_name_South-Eastern Metropolitan</th>\n",
       "      <th>region_name_Southern Metropolitan</th>\n",
       "      <th>region_name_Western Metropolitan</th>\n",
       "      <th>region_name_Western Victoria</th>\n",
       "    </tr>\n",
       "  </thead>\n",
       "  <tbody>\n",
       "    <tr>\n",
       "      <th>1300</th>\n",
       "      <td>5</td>\n",
       "      <td>13.0</td>\n",
       "      <td>5.0</td>\n",
       "      <td>3.0</td>\n",
       "      <td>2.0</td>\n",
       "      <td>772.0</td>\n",
       "      <td>160.0</td>\n",
       "      <td>6795.0</td>\n",
       "      <td>1600000.0</td>\n",
       "      <td>36.0</td>\n",
       "      <td>...</td>\n",
       "      <td>0</td>\n",
       "      <td>0</td>\n",
       "      <td>0</td>\n",
       "      <td>0</td>\n",
       "      <td>0</td>\n",
       "      <td>0</td>\n",
       "      <td>0</td>\n",
       "      <td>1</td>\n",
       "      <td>0</td>\n",
       "      <td>0</td>\n",
       "    </tr>\n",
       "    <tr>\n",
       "      <th>1301</th>\n",
       "      <td>3</td>\n",
       "      <td>13.0</td>\n",
       "      <td>3.0</td>\n",
       "      <td>1.0</td>\n",
       "      <td>2.0</td>\n",
       "      <td>694.0</td>\n",
       "      <td>125.0</td>\n",
       "      <td>6795.0</td>\n",
       "      <td>1165000.0</td>\n",
       "      <td>72.0</td>\n",
       "      <td>...</td>\n",
       "      <td>0</td>\n",
       "      <td>0</td>\n",
       "      <td>0</td>\n",
       "      <td>0</td>\n",
       "      <td>0</td>\n",
       "      <td>0</td>\n",
       "      <td>0</td>\n",
       "      <td>1</td>\n",
       "      <td>0</td>\n",
       "      <td>0</td>\n",
       "    </tr>\n",
       "    <tr>\n",
       "      <th>1303</th>\n",
       "      <td>4</td>\n",
       "      <td>13.0</td>\n",
       "      <td>4.0</td>\n",
       "      <td>2.0</td>\n",
       "      <td>3.0</td>\n",
       "      <td>591.0</td>\n",
       "      <td>160.0</td>\n",
       "      <td>6795.0</td>\n",
       "      <td>1355000.0</td>\n",
       "      <td>57.0</td>\n",
       "      <td>...</td>\n",
       "      <td>0</td>\n",
       "      <td>0</td>\n",
       "      <td>0</td>\n",
       "      <td>0</td>\n",
       "      <td>0</td>\n",
       "      <td>0</td>\n",
       "      <td>0</td>\n",
       "      <td>1</td>\n",
       "      <td>0</td>\n",
       "      <td>0</td>\n",
       "    </tr>\n",
       "    <tr>\n",
       "      <th>1304</th>\n",
       "      <td>4</td>\n",
       "      <td>13.0</td>\n",
       "      <td>4.0</td>\n",
       "      <td>2.0</td>\n",
       "      <td>4.0</td>\n",
       "      <td>736.0</td>\n",
       "      <td>284.0</td>\n",
       "      <td>6795.0</td>\n",
       "      <td>1910000.0</td>\n",
       "      <td>72.0</td>\n",
       "      <td>...</td>\n",
       "      <td>0</td>\n",
       "      <td>0</td>\n",
       "      <td>0</td>\n",
       "      <td>0</td>\n",
       "      <td>0</td>\n",
       "      <td>0</td>\n",
       "      <td>0</td>\n",
       "      <td>1</td>\n",
       "      <td>0</td>\n",
       "      <td>0</td>\n",
       "    </tr>\n",
       "    <tr>\n",
       "      <th>1305</th>\n",
       "      <td>4</td>\n",
       "      <td>13.0</td>\n",
       "      <td>0.0</td>\n",
       "      <td>0.0</td>\n",
       "      <td>0.0</td>\n",
       "      <td>593.0</td>\n",
       "      <td>160.0</td>\n",
       "      <td>6795.0</td>\n",
       "      <td>1250000.0</td>\n",
       "      <td>57.0</td>\n",
       "      <td>...</td>\n",
       "      <td>0</td>\n",
       "      <td>0</td>\n",
       "      <td>0</td>\n",
       "      <td>0</td>\n",
       "      <td>0</td>\n",
       "      <td>0</td>\n",
       "      <td>0</td>\n",
       "      <td>1</td>\n",
       "      <td>0</td>\n",
       "      <td>0</td>\n",
       "    </tr>\n",
       "    <tr>\n",
       "      <th>1306</th>\n",
       "      <td>3</td>\n",
       "      <td>13.0</td>\n",
       "      <td>3.0</td>\n",
       "      <td>2.0</td>\n",
       "      <td>3.0</td>\n",
       "      <td>568.0</td>\n",
       "      <td>160.0</td>\n",
       "      <td>6795.0</td>\n",
       "      <td>1448000.0</td>\n",
       "      <td>57.0</td>\n",
       "      <td>...</td>\n",
       "      <td>0</td>\n",
       "      <td>0</td>\n",
       "      <td>0</td>\n",
       "      <td>0</td>\n",
       "      <td>0</td>\n",
       "      <td>0</td>\n",
       "      <td>0</td>\n",
       "      <td>1</td>\n",
       "      <td>0</td>\n",
       "      <td>0</td>\n",
       "    </tr>\n",
       "    <tr>\n",
       "      <th>1307</th>\n",
       "      <td>4</td>\n",
       "      <td>13.0</td>\n",
       "      <td>0.0</td>\n",
       "      <td>0.0</td>\n",
       "      <td>0.0</td>\n",
       "      <td>593.0</td>\n",
       "      <td>160.0</td>\n",
       "      <td>6795.0</td>\n",
       "      <td>1400000.0</td>\n",
       "      <td>57.0</td>\n",
       "      <td>...</td>\n",
       "      <td>0</td>\n",
       "      <td>0</td>\n",
       "      <td>0</td>\n",
       "      <td>0</td>\n",
       "      <td>0</td>\n",
       "      <td>0</td>\n",
       "      <td>0</td>\n",
       "      <td>1</td>\n",
       "      <td>0</td>\n",
       "      <td>0</td>\n",
       "    </tr>\n",
       "    <tr>\n",
       "      <th>1308</th>\n",
       "      <td>2</td>\n",
       "      <td>13.0</td>\n",
       "      <td>0.0</td>\n",
       "      <td>0.0</td>\n",
       "      <td>0.0</td>\n",
       "      <td>593.0</td>\n",
       "      <td>160.0</td>\n",
       "      <td>6795.0</td>\n",
       "      <td>520000.0</td>\n",
       "      <td>57.0</td>\n",
       "      <td>...</td>\n",
       "      <td>0</td>\n",
       "      <td>0</td>\n",
       "      <td>0</td>\n",
       "      <td>0</td>\n",
       "      <td>0</td>\n",
       "      <td>0</td>\n",
       "      <td>0</td>\n",
       "      <td>1</td>\n",
       "      <td>0</td>\n",
       "      <td>0</td>\n",
       "    </tr>\n",
       "    <tr>\n",
       "      <th>1309</th>\n",
       "      <td>2</td>\n",
       "      <td>13.0</td>\n",
       "      <td>2.0</td>\n",
       "      <td>1.0</td>\n",
       "      <td>3.0</td>\n",
       "      <td>336.0</td>\n",
       "      <td>109.0</td>\n",
       "      <td>6795.0</td>\n",
       "      <td>820000.0</td>\n",
       "      <td>62.0</td>\n",
       "      <td>...</td>\n",
       "      <td>0</td>\n",
       "      <td>0</td>\n",
       "      <td>0</td>\n",
       "      <td>0</td>\n",
       "      <td>0</td>\n",
       "      <td>0</td>\n",
       "      <td>0</td>\n",
       "      <td>1</td>\n",
       "      <td>0</td>\n",
       "      <td>0</td>\n",
       "    </tr>\n",
       "    <tr>\n",
       "      <th>1310</th>\n",
       "      <td>3</td>\n",
       "      <td>13.0</td>\n",
       "      <td>0.0</td>\n",
       "      <td>0.0</td>\n",
       "      <td>0.0</td>\n",
       "      <td>593.0</td>\n",
       "      <td>160.0</td>\n",
       "      <td>6795.0</td>\n",
       "      <td>740000.0</td>\n",
       "      <td>57.0</td>\n",
       "      <td>...</td>\n",
       "      <td>0</td>\n",
       "      <td>0</td>\n",
       "      <td>0</td>\n",
       "      <td>0</td>\n",
       "      <td>0</td>\n",
       "      <td>0</td>\n",
       "      <td>0</td>\n",
       "      <td>1</td>\n",
       "      <td>0</td>\n",
       "      <td>0</td>\n",
       "    </tr>\n",
       "  </tbody>\n",
       "</table>\n",
       "<p>10 rows × 746 columns</p>\n",
       "</div>"
      ],
      "text/plain": [
       "      rooms  distance  bedroom2  bathrooms  car  land_size  building_area  \\\n",
       "1300      5      13.0       5.0        3.0  2.0      772.0          160.0   \n",
       "1301      3      13.0       3.0        1.0  2.0      694.0          125.0   \n",
       "1303      4      13.0       4.0        2.0  3.0      591.0          160.0   \n",
       "1304      4      13.0       4.0        2.0  4.0      736.0          284.0   \n",
       "1305      4      13.0       0.0        0.0  0.0      593.0          160.0   \n",
       "1306      3      13.0       3.0        2.0  3.0      568.0          160.0   \n",
       "1307      4      13.0       0.0        0.0  0.0      593.0          160.0   \n",
       "1308      2      13.0       0.0        0.0  0.0      593.0          160.0   \n",
       "1309      2      13.0       2.0        1.0  3.0      336.0          109.0   \n",
       "1310      3      13.0       0.0        0.0  0.0      593.0          160.0   \n",
       "\n",
       "      property_count      price   age  ...  \\\n",
       "1300          6795.0  1600000.0  36.0  ...   \n",
       "1301          6795.0  1165000.0  72.0  ...   \n",
       "1303          6795.0  1355000.0  57.0  ...   \n",
       "1304          6795.0  1910000.0  72.0  ...   \n",
       "1305          6795.0  1250000.0  57.0  ...   \n",
       "1306          6795.0  1448000.0  57.0  ...   \n",
       "1307          6795.0  1400000.0  57.0  ...   \n",
       "1308          6795.0   520000.0  57.0  ...   \n",
       "1309          6795.0   820000.0  62.0  ...   \n",
       "1310          6795.0   740000.0  57.0  ...   \n",
       "\n",
       "      council_area_name_Wyndham City Council  \\\n",
       "1300                                       0   \n",
       "1301                                       0   \n",
       "1303                                       0   \n",
       "1304                                       0   \n",
       "1305                                       0   \n",
       "1306                                       0   \n",
       "1307                                       0   \n",
       "1308                                       0   \n",
       "1309                                       0   \n",
       "1310                                       0   \n",
       "\n",
       "      council_area_name_Yarra City Council  \\\n",
       "1300                                     0   \n",
       "1301                                     0   \n",
       "1303                                     0   \n",
       "1304                                     0   \n",
       "1305                                     0   \n",
       "1306                                     0   \n",
       "1307                                     0   \n",
       "1308                                     0   \n",
       "1309                                     0   \n",
       "1310                                     0   \n",
       "\n",
       "      council_area_name_Yarra Ranges Shire Council  \\\n",
       "1300                                             0   \n",
       "1301                                             0   \n",
       "1303                                             0   \n",
       "1304                                             0   \n",
       "1305                                             0   \n",
       "1306                                             0   \n",
       "1307                                             0   \n",
       "1308                                             0   \n",
       "1309                                             0   \n",
       "1310                                             0   \n",
       "\n",
       "      region_name_Eastern Victoria  region_name_Northern Metropolitan  \\\n",
       "1300                             0                                  0   \n",
       "1301                             0                                  0   \n",
       "1303                             0                                  0   \n",
       "1304                             0                                  0   \n",
       "1305                             0                                  0   \n",
       "1306                             0                                  0   \n",
       "1307                             0                                  0   \n",
       "1308                             0                                  0   \n",
       "1309                             0                                  0   \n",
       "1310                             0                                  0   \n",
       "\n",
       "      region_name_Northern Victoria  region_name_South-Eastern Metropolitan  \\\n",
       "1300                              0                                       0   \n",
       "1301                              0                                       0   \n",
       "1303                              0                                       0   \n",
       "1304                              0                                       0   \n",
       "1305                              0                                       0   \n",
       "1306                              0                                       0   \n",
       "1307                              0                                       0   \n",
       "1308                              0                                       0   \n",
       "1309                              0                                       0   \n",
       "1310                              0                                       0   \n",
       "\n",
       "      region_name_Southern Metropolitan  region_name_Western Metropolitan  \\\n",
       "1300                                  1                                 0   \n",
       "1301                                  1                                 0   \n",
       "1303                                  1                                 0   \n",
       "1304                                  1                                 0   \n",
       "1305                                  1                                 0   \n",
       "1306                                  1                                 0   \n",
       "1307                                  1                                 0   \n",
       "1308                                  1                                 0   \n",
       "1309                                  1                                 0   \n",
       "1310                                  1                                 0   \n",
       "\n",
       "      region_name_Western Victoria  \n",
       "1300                             0  \n",
       "1301                             0  \n",
       "1303                             0  \n",
       "1304                             0  \n",
       "1305                             0  \n",
       "1306                             0  \n",
       "1307                             0  \n",
       "1308                             0  \n",
       "1309                             0  \n",
       "1310                             0  \n",
       "\n",
       "[10 rows x 746 columns]"
      ]
     },
     "execution_count": 16,
     "metadata": {},
     "output_type": "execute_result"
    }
   ],
   "source": [
    "baseline_df[1005:1015]"
   ]
  },
  {
   "cell_type": "markdown",
   "metadata": {},
   "source": [
    "**Split Data**"
   ]
  },
  {
   "cell_type": "code",
   "execution_count": 17,
   "metadata": {},
   "outputs": [
    {
     "data": {
      "text/plain": [
       "((27244, 746), (27244, 745), (27244,))"
      ]
     },
     "execution_count": 17,
     "metadata": {},
     "output_type": "execute_result"
    }
   ],
   "source": [
    "# Initialize\n",
    "output_column_name = \"price\"\n",
    "baseline_outputs = baseline_df[output_column_name]\n",
    "baseline_inputs = baseline_df.drop(columns=[output_column_name]).to_numpy()\n",
    "baseline_df.shape, baseline_inputs.shape, baseline_outputs.shape"
   ]
  },
  {
   "cell_type": "code",
   "execution_count": 18,
   "metadata": {},
   "outputs": [
    {
     "data": {
      "text/plain": [
       "((19070, 745), (8174, 745), (19070,), (8174,))"
      ]
     },
     "execution_count": 18,
     "metadata": {},
     "output_type": "execute_result"
    }
   ],
   "source": [
    "train_inputs, test_inputs, train_outputs, test_outputs = pkg_model_selection.train_test_split(\n",
    "    baseline_inputs, baseline_outputs, test_size=0.3, random_state=2\n",
    ")\n",
    "train_inputs.shape, test_inputs.shape, train_outputs.shape, test_outputs.shape"
   ]
  },
  {
   "cell_type": "markdown",
   "metadata": {},
   "source": [
    "### Process"
   ]
  },
  {
   "cell_type": "markdown",
   "metadata": {},
   "source": [
    "**Common**"
   ]
  },
  {
   "cell_type": "code",
   "execution_count": 19,
   "metadata": {},
   "outputs": [],
   "source": [
    "def perform_grid_search(model, model_params, fold_count, X_baseline, y_baseline):\n",
    "    classifier = pkg_model_selection.GridSearchCV(estimator=model, param_grid=model_params, \\\n",
    "        cv=fold_count, return_train_score=False)\n",
    "    classifier.fit(X=X_baseline, y=y_baseline)\n",
    "    return classifier"
   ]
  },
  {
   "cell_type": "code",
   "execution_count": 20,
   "metadata": {},
   "outputs": [],
   "source": [
    "def perform_random_search(model, model_params, fold_count, X_baseline, y_baseline, num_iterations):\n",
    "    classifier = pkg_model_selection.RandomizedSearchCV(estimator=model, param_distributions=model_params, \\\n",
    "        cv=fold_count, n_iter=num_iterations, return_train_score=False)\n",
    "    classifier.fit(X=X_baseline, y=y_baseline)\n",
    "    return classifier\n",
    "    "
   ]
  },
  {
   "cell_type": "code",
   "execution_count": 21,
   "metadata": {},
   "outputs": [],
   "source": [
    "def perform_grid_searches(model_config, fold_count, X_baseline, y_baseline):\n",
    "    best_results_df = pkg_pandas.DataFrame(columns=[\"name\", \"score\", \"params\"])\n",
    "\n",
    "    for mc in model_config:\n",
    "        #print(\"DEBUG:: Grid Search: Model Config: {}\".format(mc))\n",
    "        classifier = perform_grid_search(model=mc[\"instance\"], model_params=mc[\"params\"], \\\n",
    "            fold_count=fold_count, X_baseline=X_baseline, y_baseline=y_baseline)\n",
    "        best_results_df.loc[len(best_results_df)] = [mc[\"name\"], classifier.best_score_, classifier.best_params_]\n",
    "\n",
    "    return best_results_df"
   ]
  },
  {
   "cell_type": "code",
   "execution_count": 22,
   "metadata": {},
   "outputs": [],
   "source": [
    "def perform_random_searches(model_config, fold_count, X_baseline, y_baseline, num_iterations):\n",
    "    best_results_df = pkg_pandas.DataFrame(columns=[\"name\", \"score\", \"params\"])\n",
    "\n",
    "    for mc in model_config:\n",
    "        #print(\"DEBUG:: Random Search: Model Config: {}\".format(mc))\n",
    "        classifier = perform_random_search(model=mc[\"instance\"], model_params=mc[\"params\"], \\\n",
    "            fold_count=fold_count, X_baseline=X_baseline, y_baseline=y_baseline, num_iterations=num_iterations)\n",
    "        best_results_df.loc[len(best_results_df)] = [mc[\"name\"], classifier.best_score_, classifier.best_params_]\n",
    "\n",
    "    return best_results_df"
   ]
  },
  {
   "cell_type": "markdown",
   "metadata": {},
   "source": [
    "**Models: Regularization**"
   ]
  },
  {
   "cell_type": "code",
   "execution_count": 23,
   "metadata": {},
   "outputs": [
    {
     "data": {
      "text/html": [
       "<style>#sk-container-id-1 {color: black;background-color: white;}#sk-container-id-1 pre{padding: 0;}#sk-container-id-1 div.sk-toggleable {background-color: white;}#sk-container-id-1 label.sk-toggleable__label {cursor: pointer;display: block;width: 100%;margin-bottom: 0;padding: 0.3em;box-sizing: border-box;text-align: center;}#sk-container-id-1 label.sk-toggleable__label-arrow:before {content: \"▸\";float: left;margin-right: 0.25em;color: #696969;}#sk-container-id-1 label.sk-toggleable__label-arrow:hover:before {color: black;}#sk-container-id-1 div.sk-estimator:hover label.sk-toggleable__label-arrow:before {color: black;}#sk-container-id-1 div.sk-toggleable__content {max-height: 0;max-width: 0;overflow: hidden;text-align: left;background-color: #f0f8ff;}#sk-container-id-1 div.sk-toggleable__content pre {margin: 0.2em;color: black;border-radius: 0.25em;background-color: #f0f8ff;}#sk-container-id-1 input.sk-toggleable__control:checked~div.sk-toggleable__content {max-height: 200px;max-width: 100%;overflow: auto;}#sk-container-id-1 input.sk-toggleable__control:checked~label.sk-toggleable__label-arrow:before {content: \"▾\";}#sk-container-id-1 div.sk-estimator input.sk-toggleable__control:checked~label.sk-toggleable__label {background-color: #d4ebff;}#sk-container-id-1 div.sk-label input.sk-toggleable__control:checked~label.sk-toggleable__label {background-color: #d4ebff;}#sk-container-id-1 input.sk-hidden--visually {border: 0;clip: rect(1px 1px 1px 1px);clip: rect(1px, 1px, 1px, 1px);height: 1px;margin: -1px;overflow: hidden;padding: 0;position: absolute;width: 1px;}#sk-container-id-1 div.sk-estimator {font-family: monospace;background-color: #f0f8ff;border: 1px dotted black;border-radius: 0.25em;box-sizing: border-box;margin-bottom: 0.5em;}#sk-container-id-1 div.sk-estimator:hover {background-color: #d4ebff;}#sk-container-id-1 div.sk-parallel-item::after {content: \"\";width: 100%;border-bottom: 1px solid gray;flex-grow: 1;}#sk-container-id-1 div.sk-label:hover label.sk-toggleable__label {background-color: #d4ebff;}#sk-container-id-1 div.sk-serial::before {content: \"\";position: absolute;border-left: 1px solid gray;box-sizing: border-box;top: 0;bottom: 0;left: 50%;z-index: 0;}#sk-container-id-1 div.sk-serial {display: flex;flex-direction: column;align-items: center;background-color: white;padding-right: 0.2em;padding-left: 0.2em;position: relative;}#sk-container-id-1 div.sk-item {position: relative;z-index: 1;}#sk-container-id-1 div.sk-parallel {display: flex;align-items: stretch;justify-content: center;background-color: white;position: relative;}#sk-container-id-1 div.sk-item::before, #sk-container-id-1 div.sk-parallel-item::before {content: \"\";position: absolute;border-left: 1px solid gray;box-sizing: border-box;top: 0;bottom: 0;left: 50%;z-index: -1;}#sk-container-id-1 div.sk-parallel-item {display: flex;flex-direction: column;z-index: 1;position: relative;background-color: white;}#sk-container-id-1 div.sk-parallel-item:first-child::after {align-self: flex-end;width: 50%;}#sk-container-id-1 div.sk-parallel-item:last-child::after {align-self: flex-start;width: 50%;}#sk-container-id-1 div.sk-parallel-item:only-child::after {width: 0;}#sk-container-id-1 div.sk-dashed-wrapped {border: 1px dashed gray;margin: 0 0.4em 0.5em 0.4em;box-sizing: border-box;padding-bottom: 0.4em;background-color: white;}#sk-container-id-1 div.sk-label label {font-family: monospace;font-weight: bold;display: inline-block;line-height: 1.2em;}#sk-container-id-1 div.sk-label-container {text-align: center;}#sk-container-id-1 div.sk-container {/* jupyter's `normalize.less` sets `[hidden] { display: none; }` but bootstrap.min.css set `[hidden] { display: none !important; }` so we also need the `!important` here to be able to override the default hidden behavior on the sphinx rendered scikit-learn.org. See: https://github.com/scikit-learn/scikit-learn/issues/21755 */display: inline-block !important;position: relative;}#sk-container-id-1 div.sk-text-repr-fallback {display: none;}</style><div id=\"sk-container-id-1\" class=\"sk-top-container\"><div class=\"sk-text-repr-fallback\"><pre>LinearRegression()</pre><b>In a Jupyter environment, please rerun this cell to show the HTML representation or trust the notebook. <br />On GitHub, the HTML representation is unable to render, please try loading this page with nbviewer.org.</b></div><div class=\"sk-container\" hidden><div class=\"sk-item\"><div class=\"sk-estimator sk-toggleable\"><input class=\"sk-toggleable__control sk-hidden--visually\" id=\"sk-estimator-id-1\" type=\"checkbox\" checked><label for=\"sk-estimator-id-1\" class=\"sk-toggleable__label sk-toggleable__label-arrow\">LinearRegression</label><div class=\"sk-toggleable__content\"><pre>LinearRegression()</pre></div></div></div></div></div>"
      ],
      "text/plain": [
       "LinearRegression()"
      ]
     },
     "execution_count": 23,
     "metadata": {},
     "output_type": "execute_result"
    }
   ],
   "source": [
    "model = pkg_linear_model.LinearRegression()\n",
    "model.fit(train_inputs, train_outputs)\n",
    "model "
   ]
  },
  {
   "cell_type": "code",
   "execution_count": 24,
   "metadata": {},
   "outputs": [
    {
     "name": "stdout",
     "output_type": "stream",
     "text": [
      "Scores (LinearModel): Train = 0.685938386316607, Test = 0.10123646352254734\n"
     ]
    }
   ],
   "source": [
    "print(\"Scores (LinearRegression): Train = {}, Test = {}\".format(\\\n",
    "    model.score(train_inputs, train_outputs), model.score(test_inputs, test_outputs)))\n"
   ]
  },
  {
   "cell_type": "code",
   "execution_count": 25,
   "metadata": {},
   "outputs": [
    {
     "data": {
      "text/html": [
       "<style>#sk-container-id-2 {color: black;background-color: white;}#sk-container-id-2 pre{padding: 0;}#sk-container-id-2 div.sk-toggleable {background-color: white;}#sk-container-id-2 label.sk-toggleable__label {cursor: pointer;display: block;width: 100%;margin-bottom: 0;padding: 0.3em;box-sizing: border-box;text-align: center;}#sk-container-id-2 label.sk-toggleable__label-arrow:before {content: \"▸\";float: left;margin-right: 0.25em;color: #696969;}#sk-container-id-2 label.sk-toggleable__label-arrow:hover:before {color: black;}#sk-container-id-2 div.sk-estimator:hover label.sk-toggleable__label-arrow:before {color: black;}#sk-container-id-2 div.sk-toggleable__content {max-height: 0;max-width: 0;overflow: hidden;text-align: left;background-color: #f0f8ff;}#sk-container-id-2 div.sk-toggleable__content pre {margin: 0.2em;color: black;border-radius: 0.25em;background-color: #f0f8ff;}#sk-container-id-2 input.sk-toggleable__control:checked~div.sk-toggleable__content {max-height: 200px;max-width: 100%;overflow: auto;}#sk-container-id-2 input.sk-toggleable__control:checked~label.sk-toggleable__label-arrow:before {content: \"▾\";}#sk-container-id-2 div.sk-estimator input.sk-toggleable__control:checked~label.sk-toggleable__label {background-color: #d4ebff;}#sk-container-id-2 div.sk-label input.sk-toggleable__control:checked~label.sk-toggleable__label {background-color: #d4ebff;}#sk-container-id-2 input.sk-hidden--visually {border: 0;clip: rect(1px 1px 1px 1px);clip: rect(1px, 1px, 1px, 1px);height: 1px;margin: -1px;overflow: hidden;padding: 0;position: absolute;width: 1px;}#sk-container-id-2 div.sk-estimator {font-family: monospace;background-color: #f0f8ff;border: 1px dotted black;border-radius: 0.25em;box-sizing: border-box;margin-bottom: 0.5em;}#sk-container-id-2 div.sk-estimator:hover {background-color: #d4ebff;}#sk-container-id-2 div.sk-parallel-item::after {content: \"\";width: 100%;border-bottom: 1px solid gray;flex-grow: 1;}#sk-container-id-2 div.sk-label:hover label.sk-toggleable__label {background-color: #d4ebff;}#sk-container-id-2 div.sk-serial::before {content: \"\";position: absolute;border-left: 1px solid gray;box-sizing: border-box;top: 0;bottom: 0;left: 50%;z-index: 0;}#sk-container-id-2 div.sk-serial {display: flex;flex-direction: column;align-items: center;background-color: white;padding-right: 0.2em;padding-left: 0.2em;position: relative;}#sk-container-id-2 div.sk-item {position: relative;z-index: 1;}#sk-container-id-2 div.sk-parallel {display: flex;align-items: stretch;justify-content: center;background-color: white;position: relative;}#sk-container-id-2 div.sk-item::before, #sk-container-id-2 div.sk-parallel-item::before {content: \"\";position: absolute;border-left: 1px solid gray;box-sizing: border-box;top: 0;bottom: 0;left: 50%;z-index: -1;}#sk-container-id-2 div.sk-parallel-item {display: flex;flex-direction: column;z-index: 1;position: relative;background-color: white;}#sk-container-id-2 div.sk-parallel-item:first-child::after {align-self: flex-end;width: 50%;}#sk-container-id-2 div.sk-parallel-item:last-child::after {align-self: flex-start;width: 50%;}#sk-container-id-2 div.sk-parallel-item:only-child::after {width: 0;}#sk-container-id-2 div.sk-dashed-wrapped {border: 1px dashed gray;margin: 0 0.4em 0.5em 0.4em;box-sizing: border-box;padding-bottom: 0.4em;background-color: white;}#sk-container-id-2 div.sk-label label {font-family: monospace;font-weight: bold;display: inline-block;line-height: 1.2em;}#sk-container-id-2 div.sk-label-container {text-align: center;}#sk-container-id-2 div.sk-container {/* jupyter's `normalize.less` sets `[hidden] { display: none; }` but bootstrap.min.css set `[hidden] { display: none !important; }` so we also need the `!important` here to be able to override the default hidden behavior on the sphinx rendered scikit-learn.org. See: https://github.com/scikit-learn/scikit-learn/issues/21755 */display: inline-block !important;position: relative;}#sk-container-id-2 div.sk-text-repr-fallback {display: none;}</style><div id=\"sk-container-id-2\" class=\"sk-top-container\"><div class=\"sk-text-repr-fallback\"><pre>Lasso(alpha=50, max_iter=100, tol=0.1)</pre><b>In a Jupyter environment, please rerun this cell to show the HTML representation or trust the notebook. <br />On GitHub, the HTML representation is unable to render, please try loading this page with nbviewer.org.</b></div><div class=\"sk-container\" hidden><div class=\"sk-item\"><div class=\"sk-estimator sk-toggleable\"><input class=\"sk-toggleable__control sk-hidden--visually\" id=\"sk-estimator-id-2\" type=\"checkbox\" checked><label for=\"sk-estimator-id-2\" class=\"sk-toggleable__label sk-toggleable__label-arrow\">Lasso</label><div class=\"sk-toggleable__content\"><pre>Lasso(alpha=50, max_iter=100, tol=0.1)</pre></div></div></div></div></div>"
      ],
      "text/plain": [
       "Lasso(alpha=50, max_iter=100, tol=0.1)"
      ]
     },
     "execution_count": 25,
     "metadata": {},
     "output_type": "execute_result"
    }
   ],
   "source": [
    "model = pkg_linear_model.Lasso(alpha=50, max_iter=100, tol=0.1)\n",
    "model.fit(train_inputs, train_outputs)\n",
    "model"
   ]
  },
  {
   "cell_type": "code",
   "execution_count": 26,
   "metadata": {},
   "outputs": [
    {
     "name": "stdout",
     "output_type": "stream",
     "text": [
      "Scores (L1 Regularization=Lasso): Train = 0.6799303831056884, Test = 0.6606012236909675\n"
     ]
    }
   ],
   "source": [
    "print(\"Scores (L1 Regularization=Lasso): Train = {}, Test = {}\".format(\\\n",
    "    model.score(train_inputs, train_outputs), model.score(test_inputs, test_outputs)))\n"
   ]
  },
  {
   "cell_type": "code",
   "execution_count": 27,
   "metadata": {},
   "outputs": [
    {
     "data": {
      "text/html": [
       "<style>#sk-container-id-3 {color: black;background-color: white;}#sk-container-id-3 pre{padding: 0;}#sk-container-id-3 div.sk-toggleable {background-color: white;}#sk-container-id-3 label.sk-toggleable__label {cursor: pointer;display: block;width: 100%;margin-bottom: 0;padding: 0.3em;box-sizing: border-box;text-align: center;}#sk-container-id-3 label.sk-toggleable__label-arrow:before {content: \"▸\";float: left;margin-right: 0.25em;color: #696969;}#sk-container-id-3 label.sk-toggleable__label-arrow:hover:before {color: black;}#sk-container-id-3 div.sk-estimator:hover label.sk-toggleable__label-arrow:before {color: black;}#sk-container-id-3 div.sk-toggleable__content {max-height: 0;max-width: 0;overflow: hidden;text-align: left;background-color: #f0f8ff;}#sk-container-id-3 div.sk-toggleable__content pre {margin: 0.2em;color: black;border-radius: 0.25em;background-color: #f0f8ff;}#sk-container-id-3 input.sk-toggleable__control:checked~div.sk-toggleable__content {max-height: 200px;max-width: 100%;overflow: auto;}#sk-container-id-3 input.sk-toggleable__control:checked~label.sk-toggleable__label-arrow:before {content: \"▾\";}#sk-container-id-3 div.sk-estimator input.sk-toggleable__control:checked~label.sk-toggleable__label {background-color: #d4ebff;}#sk-container-id-3 div.sk-label input.sk-toggleable__control:checked~label.sk-toggleable__label {background-color: #d4ebff;}#sk-container-id-3 input.sk-hidden--visually {border: 0;clip: rect(1px 1px 1px 1px);clip: rect(1px, 1px, 1px, 1px);height: 1px;margin: -1px;overflow: hidden;padding: 0;position: absolute;width: 1px;}#sk-container-id-3 div.sk-estimator {font-family: monospace;background-color: #f0f8ff;border: 1px dotted black;border-radius: 0.25em;box-sizing: border-box;margin-bottom: 0.5em;}#sk-container-id-3 div.sk-estimator:hover {background-color: #d4ebff;}#sk-container-id-3 div.sk-parallel-item::after {content: \"\";width: 100%;border-bottom: 1px solid gray;flex-grow: 1;}#sk-container-id-3 div.sk-label:hover label.sk-toggleable__label {background-color: #d4ebff;}#sk-container-id-3 div.sk-serial::before {content: \"\";position: absolute;border-left: 1px solid gray;box-sizing: border-box;top: 0;bottom: 0;left: 50%;z-index: 0;}#sk-container-id-3 div.sk-serial {display: flex;flex-direction: column;align-items: center;background-color: white;padding-right: 0.2em;padding-left: 0.2em;position: relative;}#sk-container-id-3 div.sk-item {position: relative;z-index: 1;}#sk-container-id-3 div.sk-parallel {display: flex;align-items: stretch;justify-content: center;background-color: white;position: relative;}#sk-container-id-3 div.sk-item::before, #sk-container-id-3 div.sk-parallel-item::before {content: \"\";position: absolute;border-left: 1px solid gray;box-sizing: border-box;top: 0;bottom: 0;left: 50%;z-index: -1;}#sk-container-id-3 div.sk-parallel-item {display: flex;flex-direction: column;z-index: 1;position: relative;background-color: white;}#sk-container-id-3 div.sk-parallel-item:first-child::after {align-self: flex-end;width: 50%;}#sk-container-id-3 div.sk-parallel-item:last-child::after {align-self: flex-start;width: 50%;}#sk-container-id-3 div.sk-parallel-item:only-child::after {width: 0;}#sk-container-id-3 div.sk-dashed-wrapped {border: 1px dashed gray;margin: 0 0.4em 0.5em 0.4em;box-sizing: border-box;padding-bottom: 0.4em;background-color: white;}#sk-container-id-3 div.sk-label label {font-family: monospace;font-weight: bold;display: inline-block;line-height: 1.2em;}#sk-container-id-3 div.sk-label-container {text-align: center;}#sk-container-id-3 div.sk-container {/* jupyter's `normalize.less` sets `[hidden] { display: none; }` but bootstrap.min.css set `[hidden] { display: none !important; }` so we also need the `!important` here to be able to override the default hidden behavior on the sphinx rendered scikit-learn.org. See: https://github.com/scikit-learn/scikit-learn/issues/21755 */display: inline-block !important;position: relative;}#sk-container-id-3 div.sk-text-repr-fallback {display: none;}</style><div id=\"sk-container-id-3\" class=\"sk-top-container\"><div class=\"sk-text-repr-fallback\"><pre>Ridge(alpha=50, max_iter=100, tol=0.1)</pre><b>In a Jupyter environment, please rerun this cell to show the HTML representation or trust the notebook. <br />On GitHub, the HTML representation is unable to render, please try loading this page with nbviewer.org.</b></div><div class=\"sk-container\" hidden><div class=\"sk-item\"><div class=\"sk-estimator sk-toggleable\"><input class=\"sk-toggleable__control sk-hidden--visually\" id=\"sk-estimator-id-3\" type=\"checkbox\" checked><label for=\"sk-estimator-id-3\" class=\"sk-toggleable__label sk-toggleable__label-arrow\">Ridge</label><div class=\"sk-toggleable__content\"><pre>Ridge(alpha=50, max_iter=100, tol=0.1)</pre></div></div></div></div></div>"
      ],
      "text/plain": [
       "Ridge(alpha=50, max_iter=100, tol=0.1)"
      ]
     },
     "execution_count": 27,
     "metadata": {},
     "output_type": "execute_result"
    }
   ],
   "source": [
    "model = pkg_linear_model.Ridge(alpha=50, max_iter=100, tol=0.1)\n",
    "model.fit(train_inputs, train_outputs)\n",
    "model"
   ]
  },
  {
   "cell_type": "code",
   "execution_count": 28,
   "metadata": {},
   "outputs": [
    {
     "name": "stdout",
     "output_type": "stream",
     "text": [
      "Scores (L2 Regularization=Ridge): Train = 0.6658530758494113, Test = 0.6706288967076055\n"
     ]
    }
   ],
   "source": [
    "print(\"Scores (L2 Regularization=Ridge): Train = {}, Test = {}\".format(\\\n",
    "    model.score(train_inputs, train_outputs), model.score(test_inputs, test_outputs)))\n"
   ]
  },
  {
   "cell_type": "markdown",
   "metadata": {},
   "source": [
    "**Models: Cross Validation**"
   ]
  },
  {
   "cell_type": "code",
   "execution_count": 29,
   "metadata": {},
   "outputs": [
    {
     "data": {
      "text/plain": [
       "array([0.67400704, 0.62875492, 0.64045914, 0.53545618, 0.67212295])"
      ]
     },
     "execution_count": 29,
     "metadata": {},
     "output_type": "execute_result"
    }
   ],
   "source": [
    "scores = pkg_model_selection.cross_val_score(pkg_linear_model.LinearRegression(), baseline_inputs, baseline_outputs)\n",
    "scores"
   ]
  },
  {
   "cell_type": "markdown",
   "metadata": {},
   "source": [
    "**Models: Grid Search**"
   ]
  },
  {
   "cell_type": "code",
   "execution_count": 30,
   "metadata": {},
   "outputs": [],
   "source": [
    "model_config = [\n",
    "    {\n",
    "        \"name\" : \"LinearRegression\",\n",
    "        \"instance\" : pkg_linear_model.LinearRegression(),\n",
    "        \"params\": { \n",
    "            \"fit_intercept\" : [False, True],\n",
    "            \"positive\" : [False, True]\n",
    "        }\n",
    "    },\n",
    "    {\n",
    "        \"name\" : \"Lasso\",\n",
    "        \"instance\" : pkg_linear_model.Lasso(),\n",
    "        \"params\": { \n",
    "            \"alpha\" : [50, 100], \n",
    "            \"max_iter\": [100],\n",
    "            \"tol\" : [0.1]\n",
    "        }\n",
    "    },\n",
    "    {\n",
    "        \"name\" : \"Ridge\",\n",
    "        \"instance\" : pkg_linear_model.Ridge(),\n",
    "        \"params\": { \n",
    "            \"alpha\" : [50, 100], \n",
    "            \"max_iter\": [100],\n",
    "            \"tol\" : [0.1]\n",
    "        }\n",
    "    }\n",
    "]"
   ]
  },
  {
   "cell_type": "code",
   "execution_count": 31,
   "metadata": {},
   "outputs": [
    {
     "name": "stdout",
     "output_type": "stream",
     "text": [
      "Grid Search CV:: Best Results\n"
     ]
    },
    {
     "data": {
      "text/html": [
       "<div>\n",
       "<style scoped>\n",
       "    .dataframe tbody tr th:only-of-type {\n",
       "        vertical-align: middle;\n",
       "    }\n",
       "\n",
       "    .dataframe tbody tr th {\n",
       "        vertical-align: top;\n",
       "    }\n",
       "\n",
       "    .dataframe thead th {\n",
       "        text-align: right;\n",
       "    }\n",
       "</style>\n",
       "<table border=\"1\" class=\"dataframe\">\n",
       "  <thead>\n",
       "    <tr style=\"text-align: right;\">\n",
       "      <th></th>\n",
       "      <th>name</th>\n",
       "      <th>score</th>\n",
       "      <th>params</th>\n",
       "    </tr>\n",
       "  </thead>\n",
       "  <tbody>\n",
       "    <tr>\n",
       "      <th>0</th>\n",
       "      <td>LinearRegression</td>\n",
       "      <td>0.630160</td>\n",
       "      <td>{'fit_intercept': True, 'positive': False}</td>\n",
       "    </tr>\n",
       "    <tr>\n",
       "      <th>1</th>\n",
       "      <td>Lasso</td>\n",
       "      <td>0.631263</td>\n",
       "      <td>{'alpha': 50, 'max_iter': 100, 'tol': 0.1}</td>\n",
       "    </tr>\n",
       "    <tr>\n",
       "      <th>2</th>\n",
       "      <td>Ridge</td>\n",
       "      <td>0.623535</td>\n",
       "      <td>{'alpha': 50, 'max_iter': 100, 'tol': 0.1}</td>\n",
       "    </tr>\n",
       "  </tbody>\n",
       "</table>\n",
       "</div>"
      ],
      "text/plain": [
       "               name     score                                      params\n",
       "0  LinearRegression  0.630160  {'fit_intercept': True, 'positive': False}\n",
       "1             Lasso  0.631263  {'alpha': 50, 'max_iter': 100, 'tol': 0.1}\n",
       "2             Ridge  0.623535  {'alpha': 50, 'max_iter': 100, 'tol': 0.1}"
      ]
     },
     "execution_count": 31,
     "metadata": {},
     "output_type": "execute_result"
    }
   ],
   "source": [
    "print(\"Grid Search CV:: Best Results\")\n",
    "results_df = perform_grid_searches(model_config, fold_count=5,\n",
    "    X_baseline=baseline_inputs, y_baseline=baseline_outputs)\n",
    "results_df"
   ]
  }
 ],
 "metadata": {
  "kernelspec": {
   "display_name": "Python 3.8.10 64-bit",
   "language": "python",
   "name": "python3"
  },
  "language_info": {
   "codemirror_mode": {
    "name": "ipython",
    "version": 3
   },
   "file_extension": ".py",
   "mimetype": "text/x-python",
   "name": "python",
   "nbconvert_exporter": "python",
   "pygments_lexer": "ipython3",
   "version": "3.8.10"
  },
  "orig_nbformat": 4,
  "vscode": {
   "interpreter": {
    "hash": "916dbcbb3f70747c44a77c7bcd40155683ae19c65e1c03b4aa3499c5328201f1"
   }
  }
 },
 "nbformat": 4,
 "nbformat_minor": 2
}
