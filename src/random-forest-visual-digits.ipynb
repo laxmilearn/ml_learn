{
 "cells": [
  {
   "cell_type": "markdown",
   "metadata": {},
   "source": [
    "### Bootstrap"
   ]
  },
  {
   "cell_type": "markdown",
   "metadata": {},
   "source": [
    "#### Packages"
   ]
  },
  {
   "cell_type": "code",
   "execution_count": 1,
   "metadata": {},
   "outputs": [],
   "source": [
    "import pandas as pkg_pandas\n",
    "import math as pkg_math\n",
    "from matplotlib import pyplot as pkg_plot\n",
    "from sklearn import model_selection as pkg_model_selection\n",
    "from sklearn import preprocessing as pkg_preprocessing\n",
    "from sklearn import tree as pkg_tree\n",
    "from sklearn import metrics as pkg_metrics\n",
    "from sklearn import datasets as pkg_datasets\n",
    "from sklearn import ensemble as pkg_ensemble\n",
    "import seaborn as pkg_seaborn"
   ]
  },
  {
   "cell_type": "markdown",
   "metadata": {},
   "source": [
    "#### Load Data"
   ]
  },
  {
   "cell_type": "code",
   "execution_count": 2,
   "metadata": {},
   "outputs": [
    {
     "data": {
      "text/plain": [
       "['DESCR', 'data', 'feature_names', 'frame', 'images', 'target', 'target_names']"
      ]
     },
     "execution_count": 2,
     "metadata": {},
     "output_type": "execute_result"
    }
   ],
   "source": [
    "loaded_data = pkg_datasets.load_digits()\n",
    "dir(loaded_data)"
   ]
  },
  {
   "cell_type": "code",
   "execution_count": 3,
   "metadata": {},
   "outputs": [
    {
     "name": "stdout",
     "output_type": "stream",
     "text": [
      "\n",
      "Feature Names = ['pixel_0_0', 'pixel_0_1', 'pixel_0_2', 'pixel_0_3', 'pixel_0_4', 'pixel_0_5', 'pixel_0_6', 'pixel_0_7', 'pixel_1_0', 'pixel_1_1', 'pixel_1_2', 'pixel_1_3', 'pixel_1_4', 'pixel_1_5', 'pixel_1_6', 'pixel_1_7', 'pixel_2_0', 'pixel_2_1', 'pixel_2_2', 'pixel_2_3', 'pixel_2_4', 'pixel_2_5', 'pixel_2_6', 'pixel_2_7', 'pixel_3_0', 'pixel_3_1', 'pixel_3_2', 'pixel_3_3', 'pixel_3_4', 'pixel_3_5', 'pixel_3_6', 'pixel_3_7', 'pixel_4_0', 'pixel_4_1', 'pixel_4_2', 'pixel_4_3', 'pixel_4_4', 'pixel_4_5', 'pixel_4_6', 'pixel_4_7', 'pixel_5_0', 'pixel_5_1', 'pixel_5_2', 'pixel_5_3', 'pixel_5_4', 'pixel_5_5', 'pixel_5_6', 'pixel_5_7', 'pixel_6_0', 'pixel_6_1', 'pixel_6_2', 'pixel_6_3', 'pixel_6_4', 'pixel_6_5', 'pixel_6_6', 'pixel_6_7', 'pixel_7_0', 'pixel_7_1', 'pixel_7_2', 'pixel_7_3', 'pixel_7_4', 'pixel_7_5', 'pixel_7_6', 'pixel_7_7']\n",
      "Target Names = [0 1 2 3 4 5 6 7 8 9]\n",
      "Column\n"
     ]
    }
   ],
   "source": [
    "print(\"\\nFeature Names = {}\\nTarget Names = {}\\nColumn\".format(\\\n",
    "    loaded_data.feature_names, loaded_data.target_names))"
   ]
  },
  {
   "cell_type": "code",
   "execution_count": 4,
   "metadata": {},
   "outputs": [
    {
     "data": {
      "text/html": [
       "<div>\n",
       "<style scoped>\n",
       "    .dataframe tbody tr th:only-of-type {\n",
       "        vertical-align: middle;\n",
       "    }\n",
       "\n",
       "    .dataframe tbody tr th {\n",
       "        vertical-align: top;\n",
       "    }\n",
       "\n",
       "    .dataframe thead th {\n",
       "        text-align: right;\n",
       "    }\n",
       "</style>\n",
       "<table border=\"1\" class=\"dataframe\">\n",
       "  <thead>\n",
       "    <tr style=\"text-align: right;\">\n",
       "      <th></th>\n",
       "      <th>pixel_0_0</th>\n",
       "      <th>pixel_0_1</th>\n",
       "      <th>pixel_0_2</th>\n",
       "      <th>pixel_0_3</th>\n",
       "      <th>pixel_0_4</th>\n",
       "      <th>pixel_0_5</th>\n",
       "      <th>pixel_0_6</th>\n",
       "      <th>pixel_0_7</th>\n",
       "      <th>pixel_1_0</th>\n",
       "      <th>pixel_1_1</th>\n",
       "      <th>...</th>\n",
       "      <th>pixel_6_7</th>\n",
       "      <th>pixel_7_0</th>\n",
       "      <th>pixel_7_1</th>\n",
       "      <th>pixel_7_2</th>\n",
       "      <th>pixel_7_3</th>\n",
       "      <th>pixel_7_4</th>\n",
       "      <th>pixel_7_5</th>\n",
       "      <th>pixel_7_6</th>\n",
       "      <th>pixel_7_7</th>\n",
       "      <th>target</th>\n",
       "    </tr>\n",
       "  </thead>\n",
       "  <tbody>\n",
       "    <tr>\n",
       "      <th>0</th>\n",
       "      <td>0.0</td>\n",
       "      <td>0.0</td>\n",
       "      <td>5.0</td>\n",
       "      <td>13.0</td>\n",
       "      <td>9.0</td>\n",
       "      <td>1.0</td>\n",
       "      <td>0.0</td>\n",
       "      <td>0.0</td>\n",
       "      <td>0.0</td>\n",
       "      <td>0.0</td>\n",
       "      <td>...</td>\n",
       "      <td>0.0</td>\n",
       "      <td>0.0</td>\n",
       "      <td>0.0</td>\n",
       "      <td>6.0</td>\n",
       "      <td>13.0</td>\n",
       "      <td>10.0</td>\n",
       "      <td>0.0</td>\n",
       "      <td>0.0</td>\n",
       "      <td>0.0</td>\n",
       "      <td>0</td>\n",
       "    </tr>\n",
       "    <tr>\n",
       "      <th>1</th>\n",
       "      <td>0.0</td>\n",
       "      <td>0.0</td>\n",
       "      <td>0.0</td>\n",
       "      <td>12.0</td>\n",
       "      <td>13.0</td>\n",
       "      <td>5.0</td>\n",
       "      <td>0.0</td>\n",
       "      <td>0.0</td>\n",
       "      <td>0.0</td>\n",
       "      <td>0.0</td>\n",
       "      <td>...</td>\n",
       "      <td>0.0</td>\n",
       "      <td>0.0</td>\n",
       "      <td>0.0</td>\n",
       "      <td>0.0</td>\n",
       "      <td>11.0</td>\n",
       "      <td>16.0</td>\n",
       "      <td>10.0</td>\n",
       "      <td>0.0</td>\n",
       "      <td>0.0</td>\n",
       "      <td>1</td>\n",
       "    </tr>\n",
       "    <tr>\n",
       "      <th>2</th>\n",
       "      <td>0.0</td>\n",
       "      <td>0.0</td>\n",
       "      <td>0.0</td>\n",
       "      <td>4.0</td>\n",
       "      <td>15.0</td>\n",
       "      <td>12.0</td>\n",
       "      <td>0.0</td>\n",
       "      <td>0.0</td>\n",
       "      <td>0.0</td>\n",
       "      <td>0.0</td>\n",
       "      <td>...</td>\n",
       "      <td>0.0</td>\n",
       "      <td>0.0</td>\n",
       "      <td>0.0</td>\n",
       "      <td>0.0</td>\n",
       "      <td>3.0</td>\n",
       "      <td>11.0</td>\n",
       "      <td>16.0</td>\n",
       "      <td>9.0</td>\n",
       "      <td>0.0</td>\n",
       "      <td>2</td>\n",
       "    </tr>\n",
       "    <tr>\n",
       "      <th>3</th>\n",
       "      <td>0.0</td>\n",
       "      <td>0.0</td>\n",
       "      <td>7.0</td>\n",
       "      <td>15.0</td>\n",
       "      <td>13.0</td>\n",
       "      <td>1.0</td>\n",
       "      <td>0.0</td>\n",
       "      <td>0.0</td>\n",
       "      <td>0.0</td>\n",
       "      <td>8.0</td>\n",
       "      <td>...</td>\n",
       "      <td>0.0</td>\n",
       "      <td>0.0</td>\n",
       "      <td>0.0</td>\n",
       "      <td>7.0</td>\n",
       "      <td>13.0</td>\n",
       "      <td>13.0</td>\n",
       "      <td>9.0</td>\n",
       "      <td>0.0</td>\n",
       "      <td>0.0</td>\n",
       "      <td>3</td>\n",
       "    </tr>\n",
       "    <tr>\n",
       "      <th>4</th>\n",
       "      <td>0.0</td>\n",
       "      <td>0.0</td>\n",
       "      <td>0.0</td>\n",
       "      <td>1.0</td>\n",
       "      <td>11.0</td>\n",
       "      <td>0.0</td>\n",
       "      <td>0.0</td>\n",
       "      <td>0.0</td>\n",
       "      <td>0.0</td>\n",
       "      <td>0.0</td>\n",
       "      <td>...</td>\n",
       "      <td>0.0</td>\n",
       "      <td>0.0</td>\n",
       "      <td>0.0</td>\n",
       "      <td>0.0</td>\n",
       "      <td>2.0</td>\n",
       "      <td>16.0</td>\n",
       "      <td>4.0</td>\n",
       "      <td>0.0</td>\n",
       "      <td>0.0</td>\n",
       "      <td>4</td>\n",
       "    </tr>\n",
       "  </tbody>\n",
       "</table>\n",
       "<p>5 rows × 65 columns</p>\n",
       "</div>"
      ],
      "text/plain": [
       "   pixel_0_0  pixel_0_1  pixel_0_2  pixel_0_3  pixel_0_4  pixel_0_5  \\\n",
       "0        0.0        0.0        5.0       13.0        9.0        1.0   \n",
       "1        0.0        0.0        0.0       12.0       13.0        5.0   \n",
       "2        0.0        0.0        0.0        4.0       15.0       12.0   \n",
       "3        0.0        0.0        7.0       15.0       13.0        1.0   \n",
       "4        0.0        0.0        0.0        1.0       11.0        0.0   \n",
       "\n",
       "   pixel_0_6  pixel_0_7  pixel_1_0  pixel_1_1  ...  pixel_6_7  pixel_7_0  \\\n",
       "0        0.0        0.0        0.0        0.0  ...        0.0        0.0   \n",
       "1        0.0        0.0        0.0        0.0  ...        0.0        0.0   \n",
       "2        0.0        0.0        0.0        0.0  ...        0.0        0.0   \n",
       "3        0.0        0.0        0.0        8.0  ...        0.0        0.0   \n",
       "4        0.0        0.0        0.0        0.0  ...        0.0        0.0   \n",
       "\n",
       "   pixel_7_1  pixel_7_2  pixel_7_3  pixel_7_4  pixel_7_5  pixel_7_6  \\\n",
       "0        0.0        6.0       13.0       10.0        0.0        0.0   \n",
       "1        0.0        0.0       11.0       16.0       10.0        0.0   \n",
       "2        0.0        0.0        3.0       11.0       16.0        9.0   \n",
       "3        0.0        7.0       13.0       13.0        9.0        0.0   \n",
       "4        0.0        0.0        2.0       16.0        4.0        0.0   \n",
       "\n",
       "   pixel_7_7  target  \n",
       "0        0.0       0  \n",
       "1        0.0       1  \n",
       "2        0.0       2  \n",
       "3        0.0       3  \n",
       "4        0.0       4  \n",
       "\n",
       "[5 rows x 65 columns]"
      ]
     },
     "execution_count": 4,
     "metadata": {},
     "output_type": "execute_result"
    }
   ],
   "source": [
    "loaded_df = pkg_pandas.DataFrame(loaded_data.data, columns=loaded_data.feature_names)\n",
    "loaded_df['target'] = loaded_data.target\n",
    "loaded_df.head()"
   ]
  },
  {
   "cell_type": "markdown",
   "metadata": {},
   "source": [
    "### Analysis"
   ]
  },
  {
   "cell_type": "markdown",
   "metadata": {},
   "source": [
    "#### Pre-Work"
   ]
  },
  {
   "cell_type": "code",
   "execution_count": 5,
   "metadata": {},
   "outputs": [],
   "source": [
    "# Initialize\n",
    "baseline_df = loaded_df"
   ]
  },
  {
   "cell_type": "code",
   "execution_count": 6,
   "metadata": {},
   "outputs": [
    {
     "name": "stdout",
     "output_type": "stream",
     "text": [
      "=== Baseline Split - Train and Test ===\n",
      "Lengths: Baseline = 1797, Train = 1437, Test = 360\n"
     ]
    }
   ],
   "source": [
    "output_column_name = 'target'\n",
    "baseline_outputs = baseline_df[output_column_name]\n",
    "baseline_inputs = baseline_df.drop(columns=[output_column_name])\n",
    "\n",
    "train_inputs, test_inputs, train_outputs, test_outputs  = \\\n",
    "    pkg_model_selection.train_test_split(baseline_inputs, baseline_outputs, test_size=0.20)\n",
    "\n",
    "print(\"=== Baseline Split - Train and Test ===\")\n",
    "print(\"Lengths: Baseline = {}, Train = {}, Test = {}\".format(len(baseline_inputs), len(train_inputs), len(test_inputs)))"
   ]
  },
  {
   "cell_type": "markdown",
   "metadata": {},
   "source": [
    "#### Model: Train (Fit)"
   ]
  },
  {
   "cell_type": "code",
   "execution_count": 7,
   "metadata": {},
   "outputs": [
    {
     "name": "stdout",
     "output_type": "stream",
     "text": [
      "DEBUG:: Scores(gini_sqrt_balanced_20): Baseline = 0.9910962715637173, Train = 1.0, Test = 0.9555555555555556\n",
      "DEBUG:: Scores(gini_sqrt_balanced_40): Baseline = 0.9938786867000556, Train = 1.0, Test = 0.9694444444444444\n",
      "DEBUG:: Scores(gini_sqrt_balanced_70): Baseline = 0.994991652754591, Train = 1.0, Test = 0.975\n",
      "DEBUG:: Scores(gini_sqrt_balanced_100): Baseline = 0.994991652754591, Train = 1.0, Test = 0.975\n",
      "DEBUG:: Scores(gini_sqrt_balanced_150): Baseline = 0.996661101836394, Train = 1.0, Test = 0.9833333333333333\n",
      "DEBUG:: Scores(gini_sqrt_balanced_250): Baseline = 0.9955481357818586, Train = 1.0, Test = 0.9777777777777777\n",
      "DEBUG:: Scores(gini_sqrt_balanced_subsample_20): Baseline = 0.9910962715637173, Train = 1.0, Test = 0.9555555555555556\n",
      "DEBUG:: Scores(gini_sqrt_balanced_subsample_40): Baseline = 0.9927657206455203, Train = 1.0, Test = 0.9638888888888889\n",
      "DEBUG:: Scores(gini_sqrt_balanced_subsample_70): Baseline = 0.994991652754591, Train = 1.0, Test = 0.975\n",
      "DEBUG:: Scores(gini_sqrt_balanced_subsample_100): Baseline = 0.9961046188091264, Train = 1.0, Test = 0.9805555555555555\n",
      "DEBUG:: Scores(gini_sqrt_balanced_subsample_150): Baseline = 0.994991652754591, Train = 1.0, Test = 0.975\n",
      "DEBUG:: Scores(gini_sqrt_balanced_subsample_250): Baseline = 0.9944351697273233, Train = 1.0, Test = 0.9722222222222222\n",
      "DEBUG:: Scores(gini_log2_balanced_20): Baseline = 0.991652754590985, Train = 1.0, Test = 0.9583333333333334\n",
      "DEBUG:: Scores(gini_log2_balanced_40): Baseline = 0.993322203672788, Train = 1.0, Test = 0.9666666666666667\n",
      "DEBUG:: Scores(gini_log2_balanced_70): Baseline = 0.9955481357818586, Train = 1.0, Test = 0.9777777777777777\n",
      "DEBUG:: Scores(gini_log2_balanced_100): Baseline = 0.994991652754591, Train = 1.0, Test = 0.975\n",
      "DEBUG:: Scores(gini_log2_balanced_150): Baseline = 0.9944351697273233, Train = 1.0, Test = 0.9722222222222222\n",
      "DEBUG:: Scores(gini_log2_balanced_250): Baseline = 0.9955481357818586, Train = 1.0, Test = 0.9777777777777777\n",
      "DEBUG:: Scores(gini_log2_balanced_subsample_20): Baseline = 0.9938786867000556, Train = 1.0, Test = 0.9694444444444444\n",
      "DEBUG:: Scores(gini_log2_balanced_subsample_40): Baseline = 0.994991652754591, Train = 1.0, Test = 0.975\n",
      "DEBUG:: Scores(gini_log2_balanced_subsample_70): Baseline = 0.9955481357818586, Train = 1.0, Test = 0.9777777777777777\n",
      "DEBUG:: Scores(gini_log2_balanced_subsample_100): Baseline = 0.994991652754591, Train = 1.0, Test = 0.975\n",
      "DEBUG:: Scores(gini_log2_balanced_subsample_150): Baseline = 0.9961046188091264, Train = 1.0, Test = 0.9805555555555555\n",
      "DEBUG:: Scores(gini_log2_balanced_subsample_250): Baseline = 0.9944351697273233, Train = 1.0, Test = 0.9722222222222222\n",
      "DEBUG:: Scores(entropy_sqrt_balanced_20): Baseline = 0.993322203672788, Train = 1.0, Test = 0.9666666666666667\n",
      "DEBUG:: Scores(entropy_sqrt_balanced_40): Baseline = 0.9938786867000556, Train = 1.0, Test = 0.9694444444444444\n",
      "DEBUG:: Scores(entropy_sqrt_balanced_70): Baseline = 0.9955481357818586, Train = 1.0, Test = 0.9777777777777777\n",
      "DEBUG:: Scores(entropy_sqrt_balanced_100): Baseline = 0.9944351697273233, Train = 1.0, Test = 0.9722222222222222\n",
      "DEBUG:: Scores(entropy_sqrt_balanced_150): Baseline = 0.9955481357818586, Train = 1.0, Test = 0.9777777777777777\n",
      "DEBUG:: Scores(entropy_sqrt_balanced_250): Baseline = 0.996661101836394, Train = 1.0, Test = 0.9833333333333333\n",
      "DEBUG:: Scores(entropy_sqrt_balanced_subsample_20): Baseline = 0.991652754590985, Train = 1.0, Test = 0.9583333333333334\n",
      "DEBUG:: Scores(entropy_sqrt_balanced_subsample_40): Baseline = 0.9922092376182526, Train = 1.0, Test = 0.9611111111111111\n",
      "DEBUG:: Scores(entropy_sqrt_balanced_subsample_70): Baseline = 0.994991652754591, Train = 1.0, Test = 0.975\n",
      "DEBUG:: Scores(entropy_sqrt_balanced_subsample_100): Baseline = 0.9944351697273233, Train = 1.0, Test = 0.9722222222222222\n",
      "DEBUG:: Scores(entropy_sqrt_balanced_subsample_150): Baseline = 0.9938786867000556, Train = 1.0, Test = 0.9694444444444444\n",
      "DEBUG:: Scores(entropy_sqrt_balanced_subsample_250): Baseline = 0.9955481357818586, Train = 1.0, Test = 0.9777777777777777\n",
      "DEBUG:: Scores(entropy_log2_balanced_20): Baseline = 0.9905397885364496, Train = 1.0, Test = 0.9527777777777777\n",
      "DEBUG:: Scores(entropy_log2_balanced_40): Baseline = 0.994991652754591, Train = 1.0, Test = 0.975\n",
      "DEBUG:: Scores(entropy_log2_balanced_70): Baseline = 0.994991652754591, Train = 1.0, Test = 0.975\n",
      "DEBUG:: Scores(entropy_log2_balanced_100): Baseline = 0.9955481357818586, Train = 1.0, Test = 0.9777777777777777\n",
      "DEBUG:: Scores(entropy_log2_balanced_150): Baseline = 0.9955481357818586, Train = 1.0, Test = 0.9777777777777777\n",
      "DEBUG:: Scores(entropy_log2_balanced_250): Baseline = 0.9955481357818586, Train = 1.0, Test = 0.9777777777777777\n",
      "DEBUG:: Scores(entropy_log2_balanced_subsample_20): Baseline = 0.9910962715637173, Train = 1.0, Test = 0.9555555555555556\n",
      "DEBUG:: Scores(entropy_log2_balanced_subsample_40): Baseline = 0.9955481357818586, Train = 1.0, Test = 0.9777777777777777\n",
      "DEBUG:: Scores(entropy_log2_balanced_subsample_70): Baseline = 0.994991652754591, Train = 1.0, Test = 0.975\n",
      "DEBUG:: Scores(entropy_log2_balanced_subsample_100): Baseline = 0.994991652754591, Train = 1.0, Test = 0.975\n",
      "DEBUG:: Scores(entropy_log2_balanced_subsample_150): Baseline = 0.994991652754591, Train = 1.0, Test = 0.975\n",
      "DEBUG:: Scores(entropy_log2_balanced_subsample_250): Baseline = 0.9955481357818586, Train = 1.0, Test = 0.9777777777777777\n",
      "DEBUG:: Scores(log_loss_sqrt_balanced_20): Baseline = 0.993322203672788, Train = 0.9993041057759221, Test = 0.9694444444444444\n",
      "DEBUG:: Scores(log_loss_sqrt_balanced_40): Baseline = 0.9922092376182526, Train = 1.0, Test = 0.9611111111111111\n",
      "DEBUG:: Scores(log_loss_sqrt_balanced_70): Baseline = 0.994991652754591, Train = 1.0, Test = 0.975\n",
      "DEBUG:: Scores(log_loss_sqrt_balanced_100): Baseline = 0.994991652754591, Train = 1.0, Test = 0.975\n",
      "DEBUG:: Scores(log_loss_sqrt_balanced_150): Baseline = 0.996661101836394, Train = 1.0, Test = 0.9833333333333333\n",
      "DEBUG:: Scores(log_loss_sqrt_balanced_250): Baseline = 0.994991652754591, Train = 1.0, Test = 0.975\n",
      "DEBUG:: Scores(log_loss_sqrt_balanced_subsample_20): Baseline = 0.9910962715637173, Train = 1.0, Test = 0.9555555555555556\n",
      "DEBUG:: Scores(log_loss_sqrt_balanced_subsample_40): Baseline = 0.9944351697273233, Train = 1.0, Test = 0.9722222222222222\n",
      "DEBUG:: Scores(log_loss_sqrt_balanced_subsample_70): Baseline = 0.9944351697273233, Train = 1.0, Test = 0.9722222222222222\n",
      "DEBUG:: Scores(log_loss_sqrt_balanced_subsample_100): Baseline = 0.9938786867000556, Train = 1.0, Test = 0.9694444444444444\n",
      "DEBUG:: Scores(log_loss_sqrt_balanced_subsample_150): Baseline = 0.9955481357818586, Train = 1.0, Test = 0.9777777777777777\n",
      "DEBUG:: Scores(log_loss_sqrt_balanced_subsample_250): Baseline = 0.9961046188091264, Train = 1.0, Test = 0.9805555555555555\n",
      "DEBUG:: Scores(log_loss_log2_balanced_20): Baseline = 0.993322203672788, Train = 1.0, Test = 0.9666666666666667\n",
      "DEBUG:: Scores(log_loss_log2_balanced_40): Baseline = 0.996661101836394, Train = 1.0, Test = 0.9833333333333333\n",
      "DEBUG:: Scores(log_loss_log2_balanced_70): Baseline = 0.9938786867000556, Train = 1.0, Test = 0.9694444444444444\n",
      "DEBUG:: Scores(log_loss_log2_balanced_100): Baseline = 0.9961046188091264, Train = 1.0, Test = 0.9805555555555555\n",
      "DEBUG:: Scores(log_loss_log2_balanced_150): Baseline = 0.994991652754591, Train = 1.0, Test = 0.975\n",
      "DEBUG:: Scores(log_loss_log2_balanced_250): Baseline = 0.994991652754591, Train = 1.0, Test = 0.975\n",
      "DEBUG:: Scores(log_loss_log2_balanced_subsample_20): Baseline = 0.991652754590985, Train = 1.0, Test = 0.9583333333333334\n",
      "DEBUG:: Scores(log_loss_log2_balanced_subsample_40): Baseline = 0.994991652754591, Train = 1.0, Test = 0.975\n",
      "DEBUG:: Scores(log_loss_log2_balanced_subsample_70): Baseline = 0.994991652754591, Train = 1.0, Test = 0.975\n",
      "DEBUG:: Scores(log_loss_log2_balanced_subsample_100): Baseline = 0.993322203672788, Train = 1.0, Test = 0.9666666666666667\n",
      "DEBUG:: Scores(log_loss_log2_balanced_subsample_150): Baseline = 0.994991652754591, Train = 1.0, Test = 0.975\n",
      "DEBUG:: Scores(log_loss_log2_balanced_subsample_250): Baseline = 0.9944351697273233, Train = 1.0, Test = 0.9722222222222222\n"
     ]
    }
   ],
   "source": [
    "best_model = None\n",
    "best_params = []\n",
    "best_test_score = 0\n",
    "best_predicted_outputs = None\n",
    "\n",
    "for criteria_type in ['gini','entropy','log_loss']:\n",
    "    for feature_type in ['sqrt', 'log2']:\n",
    "        for class_weight_type in ['balanced', 'balanced_subsample']:\n",
    "            for estimator_count in [20, 40, 70, 100, 150, 250]:\n",
    "                # Parameter Combination\n",
    "                params = [criteria_type, feature_type, class_weight_type, str(estimator_count)]\n",
    "                param_name = '_'.join(params)\n",
    "\n",
    "                # Train\n",
    "                model = pkg_ensemble.RandomForestClassifier(n_estimators=estimator_count, criterion=criteria_type, max_features=feature_type, class_weight=class_weight_type)\n",
    "                model.fit(train_inputs, train_outputs)\n",
    "\n",
    "                # Test\n",
    "                predicted_outputs = model.predict(test_inputs)\n",
    "\n",
    "                # Score\n",
    "                baseline_score = model.score(baseline_inputs, baseline_outputs)\n",
    "                train_score = model.score(train_inputs, train_outputs)\n",
    "                test_score = model.score(test_inputs, test_outputs)\n",
    "                print(\"DEBUG:: Scores({}): Baseline = {}, Train = {}, Test = {}\".format(param_name, baseline_score, train_score, test_score))\n",
    "\n",
    "                if (best_test_score < test_score):\n",
    "                    best_model = model\n",
    "                    best_params = params\n",
    "                    best_test_score = test_score\n",
    "                    best_predicted_outputs = predicted_outputs"
   ]
  },
  {
   "cell_type": "code",
   "execution_count": 8,
   "metadata": {},
   "outputs": [
    {
     "name": "stdout",
     "output_type": "stream",
     "text": [
      "= = : Best Model : = =\n",
      "Params = ['gini', 'sqrt', 'balanced', '150'], Test Score = 0.9833333333333333\n"
     ]
    }
   ],
   "source": [
    "print(\"= = : Best Model : = =\")\n",
    "print(\"Params = {}, Test Score = {}\".format(best_params, best_test_score))"
   ]
  },
  {
   "cell_type": "markdown",
   "metadata": {},
   "source": [
    "#### Confusion Matrix"
   ]
  },
  {
   "cell_type": "code",
   "execution_count": 9,
   "metadata": {},
   "outputs": [
    {
     "data": {
      "text/plain": [
       "array([[29,  0,  0,  0,  0,  0,  0,  0,  0,  0],\n",
       "       [ 0, 41,  0,  0,  0,  0,  0,  0,  0,  0],\n",
       "       [ 0,  0, 35,  0,  0,  0,  0,  0,  0,  0],\n",
       "       [ 0,  0,  0, 28,  0,  1,  0,  0,  0,  0],\n",
       "       [ 0,  0,  0,  0, 39,  0,  0,  2,  0,  0],\n",
       "       [ 0,  0,  0,  0,  1, 25,  0,  0,  0,  0],\n",
       "       [ 0,  0,  0,  0,  0,  0, 35,  0,  0,  0],\n",
       "       [ 0,  0,  0,  0,  0,  0,  0, 44,  0,  0],\n",
       "       [ 0,  0,  0,  0,  1,  0,  0,  1, 37,  0],\n",
       "       [ 0,  0,  0,  0,  0,  0,  0,  0,  0, 41]])"
      ]
     },
     "execution_count": 9,
     "metadata": {},
     "output_type": "execute_result"
    }
   ],
   "source": [
    "cm = pkg_metrics.confusion_matrix(y_true=test_outputs, y_pred=best_predicted_outputs)\n",
    "cm"
   ]
  },
  {
   "cell_type": "code",
   "execution_count": 11,
   "metadata": {},
   "outputs": [
    {
     "data": {
      "text/plain": [
       "<AxesSubplot:>"
      ]
     },
     "execution_count": 11,
     "metadata": {},
     "output_type": "execute_result"
    },
    {
     "data": {
      "image/png": "[encoded data removed]",
      "text/plain": [
       "<Figure size 864x720 with 2 Axes>"
      ]
     },
     "metadata": {
      "needs_background": "light"
     },
     "output_type": "display_data"
    }
   ],
   "source": [
    "%matplotlib inline\n",
    "pkg_plot.figure(figsize=(12,10))\n",
    "pkg_plot.xlabel('Predicted')\n",
    "pkg_plot.xlabel('Actual')\n",
    "pkg_seaborn.heatmap(cm, annot=True)"
   ]
  }
 ],
 "metadata": {
  "kernelspec": {
   "display_name": "Python 3.8.10 64-bit",
   "language": "python",
   "name": "python3"
  },
  "language_info": {
   "codemirror_mode": {
    "name": "ipython",
    "version": 3
   },
   "file_extension": ".py",
   "mimetype": "text/x-python",
   "name": "python",
   "nbconvert_exporter": "python",
   "pygments_lexer": "ipython3",
   "version": "3.8.10"
  },
  "orig_nbformat": 4,
  "vscode": {
   "interpreter": {
    "hash": "916dbcbb3f70747c44a77c7bcd40155683ae19c65e1c03b4aa3499c5328201f1"
   }
  }
 },
 "nbformat": 4,
 "nbformat_minor": 2
}
