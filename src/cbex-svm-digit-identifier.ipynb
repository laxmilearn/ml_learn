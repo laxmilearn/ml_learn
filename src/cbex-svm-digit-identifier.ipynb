{
 "cells": [
  {
   "cell_type": "markdown",
   "metadata": {},
   "source": [
    "### Bootstrap"
   ]
  },
  {
   "cell_type": "markdown",
   "metadata": {},
   "source": [
    "#### Packages"
   ]
  },
  {
   "cell_type": "code",
   "execution_count": 1,
   "metadata": {},
   "outputs": [],
   "source": [
    "import pandas as pkg_pandas\n",
    "import math as pkg_math\n",
    "from matplotlib import pyplot as pkg_plot\n",
    "from sklearn import model_selection as pkg_model_selection\n",
    "from sklearn import preprocessing as pkg_preprocessing\n",
    "from sklearn import svm as pkg_svm\n",
    "from sklearn import metrics as pkg_metrics\n",
    "from sklearn import datasets as pkg_datasets\n",
    "import seaborn as pkg_seaborn"
   ]
  },
  {
   "cell_type": "markdown",
   "metadata": {},
   "source": [
    "#### Load Data"
   ]
  },
  {
   "cell_type": "code",
   "execution_count": 2,
   "metadata": {},
   "outputs": [
    {
     "data": {
      "text/plain": [
       "['DESCR', 'data', 'feature_names', 'frame', 'images', 'target', 'target_names']"
      ]
     },
     "execution_count": 2,
     "metadata": {},
     "output_type": "execute_result"
    }
   ],
   "source": [
    "loaded_data = pkg_datasets.load_digits()\n",
    "dir(loaded_data)"
   ]
  },
  {
   "cell_type": "code",
   "execution_count": 3,
   "metadata": {},
   "outputs": [
    {
     "name": "stdout",
     "output_type": "stream",
     "text": [
      "\n",
      "Feature Names = ['pixel_0_0', 'pixel_0_1', 'pixel_0_2', 'pixel_0_3', 'pixel_0_4', 'pixel_0_5', 'pixel_0_6', 'pixel_0_7', 'pixel_1_0', 'pixel_1_1', 'pixel_1_2', 'pixel_1_3', 'pixel_1_4', 'pixel_1_5', 'pixel_1_6', 'pixel_1_7', 'pixel_2_0', 'pixel_2_1', 'pixel_2_2', 'pixel_2_3', 'pixel_2_4', 'pixel_2_5', 'pixel_2_6', 'pixel_2_7', 'pixel_3_0', 'pixel_3_1', 'pixel_3_2', 'pixel_3_3', 'pixel_3_4', 'pixel_3_5', 'pixel_3_6', 'pixel_3_7', 'pixel_4_0', 'pixel_4_1', 'pixel_4_2', 'pixel_4_3', 'pixel_4_4', 'pixel_4_5', 'pixel_4_6', 'pixel_4_7', 'pixel_5_0', 'pixel_5_1', 'pixel_5_2', 'pixel_5_3', 'pixel_5_4', 'pixel_5_5', 'pixel_5_6', 'pixel_5_7', 'pixel_6_0', 'pixel_6_1', 'pixel_6_2', 'pixel_6_3', 'pixel_6_4', 'pixel_6_5', 'pixel_6_6', 'pixel_6_7', 'pixel_7_0', 'pixel_7_1', 'pixel_7_2', 'pixel_7_3', 'pixel_7_4', 'pixel_7_5', 'pixel_7_6', 'pixel_7_7']\n",
      "Target Names = [0 1 2 3 4 5 6 7 8 9]\n",
      "Column\n"
     ]
    }
   ],
   "source": [
    "print(\"\\nFeature Names = {}\\nTarget Names = {}\\nColumn\".format(\\\n",
    "    loaded_data.feature_names, loaded_data.target_names))"
   ]
  },
  {
   "cell_type": "markdown",
   "metadata": {},
   "source": [
    "### Analysis"
   ]
  },
  {
   "cell_type": "markdown",
   "metadata": {},
   "source": [
    "#### Pre-Work"
   ]
  },
  {
   "cell_type": "code",
   "execution_count": 4,
   "metadata": {},
   "outputs": [
    {
     "name": "stdout",
     "output_type": "stream",
     "text": [
      "=== Baseline Split - Train and Test ===\n",
      "Lengths: Baseline = 1797, Train = 1437, Test = 360\n"
     ]
    }
   ],
   "source": [
    "baseline_inputs = loaded_data.data\n",
    "baseline_outputs = loaded_data.target\n",
    "\n",
    "train_inputs, test_inputs, train_outputs, test_outputs  = \\\n",
    "    pkg_model_selection.train_test_split(baseline_inputs, baseline_outputs, test_size=0.20)\n",
    "\n",
    "print(\"=== Baseline Split - Train and Test ===\")\n",
    "print(\"Lengths: Baseline = {}, Train = {}, Test = {}\".format(len(baseline_inputs), len(train_inputs), len(test_inputs)))"
   ]
  },
  {
   "cell_type": "markdown",
   "metadata": {},
   "source": [
    "#### Model: Train (Fit)"
   ]
  },
  {
   "cell_type": "code",
   "execution_count": 5,
   "metadata": {},
   "outputs": [
    {
     "name": "stdout",
     "output_type": "stream",
     "text": [
      "DEBUG:: Scores(linear_scale_ovo): Baseline = 0.9972175848636616, Train = 1.0, Test = 0.9861111111111112\n",
      "DEBUG:: Scores(linear_scale_ovr): Baseline = 0.9972175848636616, Train = 1.0, Test = 0.9861111111111112\n",
      "DEBUG:: Scores(linear_auto_ovo): Baseline = 0.9972175848636616, Train = 1.0, Test = 0.9861111111111112\n",
      "DEBUG:: Scores(linear_auto_ovr): Baseline = 0.9972175848636616, Train = 1.0, Test = 0.9861111111111112\n",
      "DEBUG:: Scores(poly_scale_ovo): Baseline = 0.9977740678909294, Train = 1.0, Test = 0.9888888888888889\n",
      "DEBUG:: Scores(poly_scale_ovr): Baseline = 0.9977740678909294, Train = 1.0, Test = 0.9888888888888889\n",
      "DEBUG:: Scores(poly_auto_ovo): Baseline = 0.998330550918197, Train = 1.0, Test = 0.9916666666666667\n",
      "DEBUG:: Scores(poly_auto_ovr): Baseline = 0.998330550918197, Train = 1.0, Test = 0.9916666666666667\n",
      "DEBUG:: Scores(rbf_scale_ovo): Baseline = 0.9955481357818586, Train = 0.9965205288796103, Test = 0.9916666666666667\n",
      "DEBUG:: Scores(rbf_scale_ovr): Baseline = 0.9955481357818586, Train = 0.9965205288796103, Test = 0.9916666666666667\n",
      "DEBUG:: Scores(rbf_auto_ovo): Baseline = 0.900946021146355, Train = 1.0, Test = 0.5055555555555555\n",
      "DEBUG:: Scores(rbf_auto_ovr): Baseline = 0.900946021146355, Train = 1.0, Test = 0.5055555555555555\n",
      "DEBUG:: Scores(sigmoid_scale_ovo): Baseline = 0.9070673344462994, Train = 0.9067501739735561, Test = 0.9083333333333333\n",
      "DEBUG:: Scores(sigmoid_scale_ovr): Baseline = 0.9070673344462994, Train = 0.9067501739735561, Test = 0.9083333333333333\n",
      "DEBUG:: Scores(sigmoid_auto_ovo): Baseline = 0.10072342793544797, Train = 0.10855949895615867, Test = 0.06944444444444445\n",
      "DEBUG:: Scores(sigmoid_auto_ovr): Baseline = 0.10072342793544797, Train = 0.10855949895615867, Test = 0.06944444444444445\n"
     ]
    }
   ],
   "source": [
    "best_model = None\n",
    "best_model_params = []\n",
    "best_test_score = 0\n",
    "\n",
    "for kernel_type in ['linear','poly','rbf','sigmoid']:\n",
    "    for gamma_type in ['scale', 'auto']:\n",
    "        for decision_fn_shape_type in ['ovo', 'ovr']:\n",
    "            # Parameter Combination\n",
    "            params = [kernel_type, gamma_type, decision_fn_shape_type]\n",
    "            param_name = '_'.join(params)\n",
    "\n",
    "            # Train\n",
    "            model = pkg_svm.SVC(kernel=kernel_type, gamma=gamma_type, decision_function_shape=decision_fn_shape_type)\n",
    "            model.fit(train_inputs, train_outputs)\n",
    "\n",
    "            # Score\n",
    "            baseline_score = model.score(baseline_inputs, baseline_outputs)\n",
    "            train_score = model.score(train_inputs, train_outputs)\n",
    "            test_score = model.score(test_inputs, test_outputs)\n",
    "            print(\"DEBUG:: Scores({}): Baseline = {}, Train = {}, Test = {}\".format(param_name, baseline_score, train_score, test_score))\n",
    "\n",
    "            if (best_test_score < test_score):\n",
    "                best_model = model\n",
    "                best_model_params = params\n",
    "                best_test_score = test_score"
   ]
  },
  {
   "cell_type": "code",
   "execution_count": 6,
   "metadata": {},
   "outputs": [
    {
     "name": "stdout",
     "output_type": "stream",
     "text": [
      "= = : Best Model : = =\n",
      "Params = ['poly', 'auto', 'ovo'], Test Score = 0.9916666666666667\n"
     ]
    }
   ],
   "source": [
    "print(\"= = : Best Model : = =\")\n",
    "print(\"Params = {}, Test Score = {}\".format(best_model_params, best_test_score))"
   ]
  }
 ],
 "metadata": {
  "kernelspec": {
   "display_name": "Python 3.8.10 64-bit",
   "language": "python",
   "name": "python3"
  },
  "language_info": {
   "codemirror_mode": {
    "name": "ipython",
    "version": 3
   },
   "file_extension": ".py",
   "mimetype": "text/x-python",
   "name": "python",
   "nbconvert_exporter": "python",
   "pygments_lexer": "ipython3",
   "version": "3.8.10"
  },
  "orig_nbformat": 4,
  "vscode": {
   "interpreter": {
    "hash": "916dbcbb3f70747c44a77c7bcd40155683ae19c65e1c03b4aa3499c5328201f1"
   }
  }
 },
 "nbformat": 4,
 "nbformat_minor": 2
}
