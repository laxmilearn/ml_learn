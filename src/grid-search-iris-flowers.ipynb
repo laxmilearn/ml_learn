{
 "cells": [
  {
   "cell_type": "markdown",
   "metadata": {},
   "source": [
    "## Grid Search CV"
   ]
  },
  {
   "cell_type": "markdown",
   "metadata": {},
   "source": [
    "### Preface"
   ]
  },
  {
   "cell_type": "markdown",
   "metadata": {},
   "source": [
    "**Summary**\n",
    "- KFold splits the baseline data into various train-test folds \n",
    "- Cross Validation (cross_val_score) calculates score of an model/algorithm for various folds\n",
    "- Grid Search calculates score of a model/algorithm for various parameters _and_ folds\n",
    "- Grid Search is costly as it calculates score for every permutation and combination\n",
    "- Random Search is an alternative, calculate score for a random combination of parameters _and_ folds"
   ]
  },
  {
   "cell_type": "markdown",
   "metadata": {},
   "source": [
    "**Acknowledgements**\n",
    "- TBD "
   ]
  },
  {
   "cell_type": "markdown",
   "metadata": {},
   "source": [
    "### Initialization"
   ]
  },
  {
   "cell_type": "markdown",
   "metadata": {},
   "source": [
    "**Packages**"
   ]
  },
  {
   "cell_type": "code",
   "execution_count": 1,
   "metadata": {},
   "outputs": [],
   "source": [
    "import pandas as pkg_pandas\n",
    "import math as pkg_math\n",
    "from matplotlib import pyplot as pkg_plot\n",
    "from sklearn import linear_model as pkg_linear_model\n",
    "from sklearn import model_selection as pkg_model_selection\n",
    "from sklearn import preprocessing as pkg_preprocessing\n",
    "from sklearn import tree as pkg_tree\n",
    "from sklearn import metrics as pkg_metrics\n",
    "from sklearn import datasets as pkg_datasets\n",
    "from sklearn import ensemble as pkg_ensemble\n",
    "from sklearn import svm as pkg_svm\n",
    "import seaborn as pkg_seaborn"
   ]
  },
  {
   "cell_type": "markdown",
   "metadata": {},
   "source": [
    "**Common**"
   ]
  },
  {
   "cell_type": "code",
   "execution_count": 2,
   "metadata": {},
   "outputs": [],
   "source": [
    "%matplotlib inline"
   ]
  },
  {
   "cell_type": "markdown",
   "metadata": {},
   "source": [
    "**Load Data**"
   ]
  },
  {
   "cell_type": "code",
   "execution_count": 3,
   "metadata": {},
   "outputs": [
    {
     "data": {
      "text/plain": [
       "['DESCR',\n",
       " 'data',\n",
       " 'data_module',\n",
       " 'feature_names',\n",
       " 'filename',\n",
       " 'frame',\n",
       " 'target',\n",
       " 'target_names']"
      ]
     },
     "execution_count": 3,
     "metadata": {},
     "output_type": "execute_result"
    }
   ],
   "source": [
    "dataset = pkg_datasets.load_iris()\n",
    "dir(dataset)"
   ]
  },
  {
   "cell_type": "code",
   "execution_count": 4,
   "metadata": {},
   "outputs": [
    {
     "name": "stdout",
     "output_type": "stream",
     "text": [
      "\n",
      "Feature Names = ['sepal length (cm)', 'sepal width (cm)', 'petal length (cm)', 'petal width (cm)']\n",
      "Target Names = ['setosa' 'versicolor' 'virginica']\n",
      "Column Names = ['sepal_length_cm', 'sepal_width_cm', 'petal_length_cm', 'petal_width_cm']\n"
     ]
    }
   ],
   "source": [
    "column_names = []\n",
    "for feature_name in dataset.feature_names:\n",
    "    column_name = feature_name.replace(' ', '_').replace('(','').replace(')','')\n",
    "    column_names.append(column_name)\n",
    "\n",
    "print(\"\\nFeature Names = {}\\nTarget Names = {}\\nColumn Names = {}\".format(\\\n",
    "    dataset.feature_names, dataset.target_names, column_names))"
   ]
  },
  {
   "cell_type": "code",
   "execution_count": 5,
   "metadata": {},
   "outputs": [
    {
     "data": {
      "text/html": [
       "<div>\n",
       "<style scoped>\n",
       "    .dataframe tbody tr th:only-of-type {\n",
       "        vertical-align: middle;\n",
       "    }\n",
       "\n",
       "    .dataframe tbody tr th {\n",
       "        vertical-align: top;\n",
       "    }\n",
       "\n",
       "    .dataframe thead th {\n",
       "        text-align: right;\n",
       "    }\n",
       "</style>\n",
       "<table border=\"1\" class=\"dataframe\">\n",
       "  <thead>\n",
       "    <tr style=\"text-align: right;\">\n",
       "      <th></th>\n",
       "      <th>sepal_length_cm</th>\n",
       "      <th>sepal_width_cm</th>\n",
       "      <th>petal_length_cm</th>\n",
       "      <th>petal_width_cm</th>\n",
       "      <th>flower_number</th>\n",
       "      <th>flower_name</th>\n",
       "    </tr>\n",
       "  </thead>\n",
       "  <tbody>\n",
       "    <tr>\n",
       "      <th>0</th>\n",
       "      <td>5.1</td>\n",
       "      <td>3.5</td>\n",
       "      <td>1.4</td>\n",
       "      <td>0.2</td>\n",
       "      <td>0</td>\n",
       "      <td>setosa</td>\n",
       "    </tr>\n",
       "    <tr>\n",
       "      <th>1</th>\n",
       "      <td>4.9</td>\n",
       "      <td>3.0</td>\n",
       "      <td>1.4</td>\n",
       "      <td>0.2</td>\n",
       "      <td>0</td>\n",
       "      <td>setosa</td>\n",
       "    </tr>\n",
       "    <tr>\n",
       "      <th>2</th>\n",
       "      <td>4.7</td>\n",
       "      <td>3.2</td>\n",
       "      <td>1.3</td>\n",
       "      <td>0.2</td>\n",
       "      <td>0</td>\n",
       "      <td>setosa</td>\n",
       "    </tr>\n",
       "    <tr>\n",
       "      <th>3</th>\n",
       "      <td>4.6</td>\n",
       "      <td>3.1</td>\n",
       "      <td>1.5</td>\n",
       "      <td>0.2</td>\n",
       "      <td>0</td>\n",
       "      <td>setosa</td>\n",
       "    </tr>\n",
       "    <tr>\n",
       "      <th>4</th>\n",
       "      <td>5.0</td>\n",
       "      <td>3.6</td>\n",
       "      <td>1.4</td>\n",
       "      <td>0.2</td>\n",
       "      <td>0</td>\n",
       "      <td>setosa</td>\n",
       "    </tr>\n",
       "  </tbody>\n",
       "</table>\n",
       "</div>"
      ],
      "text/plain": [
       "   sepal_length_cm  sepal_width_cm  petal_length_cm  petal_width_cm  \\\n",
       "0              5.1             3.5              1.4             0.2   \n",
       "1              4.9             3.0              1.4             0.2   \n",
       "2              4.7             3.2              1.3             0.2   \n",
       "3              4.6             3.1              1.5             0.2   \n",
       "4              5.0             3.6              1.4             0.2   \n",
       "\n",
       "   flower_number flower_name  \n",
       "0              0      setosa  \n",
       "1              0      setosa  \n",
       "2              0      setosa  \n",
       "3              0      setosa  \n",
       "4              0      setosa  "
      ]
     },
     "execution_count": 5,
     "metadata": {},
     "output_type": "execute_result"
    }
   ],
   "source": [
    "dataset_df = pkg_pandas.DataFrame(dataset.data, columns=column_names)\n",
    "dataset_df['flower_number'] = dataset.target\n",
    "dataset_df['flower_name'] = dataset_df['flower_number'].apply(lambda fnum: dataset.target_names[fnum])\n",
    "dataset_df.head()"
   ]
  },
  {
   "cell_type": "code",
   "execution_count": 6,
   "metadata": {},
   "outputs": [],
   "source": [
    "output_column_name = 'flower_number'\n",
    "baseline_outputs = dataset_df[output_column_name]\n",
    "baseline_inputs = dataset_df.drop(columns=[output_column_name, 'flower_name']).to_numpy()"
   ]
  },
  {
   "cell_type": "markdown",
   "metadata": {},
   "source": [
    "### Process"
   ]
  },
  {
   "cell_type": "markdown",
   "metadata": {},
   "source": [
    "**Common**"
   ]
  },
  {
   "cell_type": "code",
   "execution_count": 7,
   "metadata": {},
   "outputs": [],
   "source": [
    "min_score = 0.60\n",
    "max_results = 5"
   ]
  },
  {
   "cell_type": "code",
   "execution_count": 8,
   "metadata": {},
   "outputs": [],
   "source": [
    "def retrieve_top_classifier_results(classifier):\n",
    "    results_df = pkg_pandas.DataFrame(classifier.cv_results_)\n",
    "    results_df = results_df[[\"params\", \"mean_test_score\", \"rank_test_score\"]]\n",
    "    results_df.sort_values(by=[\"mean_test_score\"], ascending=False, inplace=True)\n",
    "    results_df = results_df[results_df[\"mean_test_score\"] > min_score]\n",
    "    return results_df.head(max_results)"
   ]
  },
  {
   "cell_type": "code",
   "execution_count": 9,
   "metadata": {},
   "outputs": [],
   "source": [
    "def perform_grid_search(model, model_params, X_baseline, y_baseline):\n",
    "    classifier = pkg_model_selection.GridSearchCV(estimator=model,\\\n",
    "        param_grid=model_params, cv=5, return_train_score=False)\n",
    "    classifier.fit(X=X_baseline, y=y_baseline)\n",
    "    results_df = retrieve_top_classifier_results(classifier)\n",
    "    return classifier, results_df\n",
    "    "
   ]
  },
  {
   "cell_type": "code",
   "execution_count": 10,
   "metadata": {},
   "outputs": [],
   "source": [
    "def perform_random_search(model, model_params, X_baseline, y_baseline, num_iterations):\n",
    "    classifier = pkg_model_selection.RandomizedSearchCV(estimator=model, \\\n",
    "        param_distributions=model_params, n_iter=num_iterations, cv=5, return_train_score=False)\n",
    "    classifier.fit(X=X_baseline, y=y_baseline)\n",
    "    results_df = retrieve_top_classifier_results(classifier)\n",
    "    return classifier, results_df\n",
    "    "
   ]
  },
  {
   "cell_type": "markdown",
   "metadata": {},
   "source": [
    "**Models**"
   ]
  },
  {
   "cell_type": "code",
   "execution_count": 11,
   "metadata": {},
   "outputs": [],
   "source": [
    "model_config = [\n",
    "    {\n",
    "        \"name\" : \"SVM\",\n",
    "        \"instance\" : pkg_svm.SVC(),\n",
    "        \"params\" : {\n",
    "            \"C\": [1, 10, 20],\n",
    "            \"kernel\" : ['linear','poly','rbf','sigmoid'],\n",
    "            \"gamma\": ['scale', 'auto'],\n",
    "            \"decision_function_shape\" : ['ovo', 'ovr']\n",
    "        }\n",
    "    },\n",
    "    {\n",
    "        \"name\" : \"DecisionTree\",\n",
    "        \"instance\" : pkg_tree.DecisionTreeClassifier(), \n",
    "        \"params\": {\n",
    "            \"criterion\" : [\"gini\", \"entropy\", \"log_loss\"],\n",
    "            \"splitter\" : [\"best\", \"random\"],\n",
    "            \"max_depth\": [3, 6, 9, 12, 18],\n",
    "            \"max_features\" : [\"sqrt\", \"log2\"],\n",
    "            \"random_state\": [1]\n",
    "        }\n",
    "    },\n",
    "    {\n",
    "        \"name\" : \"RandomForest\",\n",
    "        \"instance\" : pkg_ensemble.RandomForestClassifier(), \n",
    "        \"params\": {\n",
    "            \"n_estimators\": [100, 120, 150],\n",
    "            \"criterion\" : [\"gini\", \"entropy\", \"log_loss\"],\n",
    "            \"max_depth\": [3, 6, 9, 12, 18],\n",
    "            \"max_features\" : [\"sqrt\", \"log2\"],\n",
    "            \"random_state\": [1],\n",
    "            \"class_weight\" : [\"balanced\", \"balanced_subsample\"]\n",
    "        }\n",
    "    }\n",
    "]"
   ]
  },
  {
   "cell_type": "code",
   "execution_count": 12,
   "metadata": {},
   "outputs": [
    {
     "data": {
      "text/html": [
       "<div>\n",
       "<style scoped>\n",
       "    .dataframe tbody tr th:only-of-type {\n",
       "        vertical-align: middle;\n",
       "    }\n",
       "\n",
       "    .dataframe tbody tr th {\n",
       "        vertical-align: top;\n",
       "    }\n",
       "\n",
       "    .dataframe thead th {\n",
       "        text-align: right;\n",
       "    }\n",
       "</style>\n",
       "<table border=\"1\" class=\"dataframe\">\n",
       "  <thead>\n",
       "    <tr style=\"text-align: right;\">\n",
       "      <th></th>\n",
       "      <th>name</th>\n",
       "      <th>score</th>\n",
       "      <th>params</th>\n",
       "    </tr>\n",
       "  </thead>\n",
       "  <tbody>\n",
       "    <tr>\n",
       "      <th>0</th>\n",
       "      <td>SVM</td>\n",
       "      <td>0.980000</td>\n",
       "      <td>{'C': 1, 'decision_function_shape': 'ovo', 'ga...</td>\n",
       "    </tr>\n",
       "    <tr>\n",
       "      <th>1</th>\n",
       "      <td>DecisionTree</td>\n",
       "      <td>0.946667</td>\n",
       "      <td>{'criterion': 'gini', 'max_depth': 3, 'max_fea...</td>\n",
       "    </tr>\n",
       "    <tr>\n",
       "      <th>2</th>\n",
       "      <td>RandomForest</td>\n",
       "      <td>0.966667</td>\n",
       "      <td>{'class_weight': 'balanced', 'criterion': 'gin...</td>\n",
       "    </tr>\n",
       "  </tbody>\n",
       "</table>\n",
       "</div>"
      ],
      "text/plain": [
       "           name     score                                             params\n",
       "0           SVM  0.980000  {'C': 1, 'decision_function_shape': 'ovo', 'ga...\n",
       "1  DecisionTree  0.946667  {'criterion': 'gini', 'max_depth': 3, 'max_fea...\n",
       "2  RandomForest  0.966667  {'class_weight': 'balanced', 'criterion': 'gin..."
      ]
     },
     "execution_count": 12,
     "metadata": {},
     "output_type": "execute_result"
    }
   ],
   "source": [
    "best_results_df = pkg_pandas.DataFrame(columns=[\"name\", \"score\", \"params\"])\n",
    "\n",
    "for mc in model_config:\n",
    "    #print(\"DEBUG:: Model Config: {}\".format(mc))\n",
    "    classifier, results_df = perform_grid_search(model=mc[\"instance\"], \\\n",
    "        model_params=mc[\"params\"], X_baseline=baseline_inputs, y_baseline=baseline_outputs)\n",
    "    best_results_df.loc[len(best_results_df)] = [mc[\"name\"], classifier.best_score_, classifier.best_params_]\n",
    "\n",
    "best_results_df"
   ]
  },
  {
   "cell_type": "code",
   "execution_count": 13,
   "metadata": {},
   "outputs": [
    {
     "data": {
      "text/html": [
       "<div>\n",
       "<style scoped>\n",
       "    .dataframe tbody tr th:only-of-type {\n",
       "        vertical-align: middle;\n",
       "    }\n",
       "\n",
       "    .dataframe tbody tr th {\n",
       "        vertical-align: top;\n",
       "    }\n",
       "\n",
       "    .dataframe thead th {\n",
       "        text-align: right;\n",
       "    }\n",
       "</style>\n",
       "<table border=\"1\" class=\"dataframe\">\n",
       "  <thead>\n",
       "    <tr style=\"text-align: right;\">\n",
       "      <th></th>\n",
       "      <th>name</th>\n",
       "      <th>score</th>\n",
       "      <th>params</th>\n",
       "    </tr>\n",
       "  </thead>\n",
       "  <tbody>\n",
       "    <tr>\n",
       "      <th>0</th>\n",
       "      <td>SVM</td>\n",
       "      <td>0.980000</td>\n",
       "      <td>{'kernel': 'linear', 'gamma': 'scale', 'decisi...</td>\n",
       "    </tr>\n",
       "    <tr>\n",
       "      <th>1</th>\n",
       "      <td>DecisionTree</td>\n",
       "      <td>0.946667</td>\n",
       "      <td>{'splitter': 'random', 'random_state': 1, 'max...</td>\n",
       "    </tr>\n",
       "    <tr>\n",
       "      <th>2</th>\n",
       "      <td>RandomForest</td>\n",
       "      <td>0.966667</td>\n",
       "      <td>{'random_state': 1, 'n_estimators': 100, 'max_...</td>\n",
       "    </tr>\n",
       "  </tbody>\n",
       "</table>\n",
       "</div>"
      ],
      "text/plain": [
       "           name     score                                             params\n",
       "0           SVM  0.980000  {'kernel': 'linear', 'gamma': 'scale', 'decisi...\n",
       "1  DecisionTree  0.946667  {'splitter': 'random', 'random_state': 1, 'max...\n",
       "2  RandomForest  0.966667  {'random_state': 1, 'n_estimators': 100, 'max_..."
      ]
     },
     "execution_count": 13,
     "metadata": {},
     "output_type": "execute_result"
    }
   ],
   "source": [
    "best_results_df = pkg_pandas.DataFrame(columns=[\"name\", \"score\", \"params\"])\n",
    "\n",
    "for mc in model_config:\n",
    "    classifier, results_df = perform_random_search(model=mc[\"instance\"], \\\n",
    "        model_params=mc[\"params\"], X_baseline=baseline_inputs, y_baseline=baseline_outputs, num_iterations=5)\n",
    "    best_results_df.loc[len(best_results_df)] = [mc[\"name\"], classifier.best_score_, classifier.best_params_]\n",
    "\n",
    "best_results_df"
   ]
  }
 ],
 "metadata": {
  "kernelspec": {
   "display_name": "Python 3.8.10 64-bit",
   "language": "python",
   "name": "python3"
  },
  "language_info": {
   "codemirror_mode": {
    "name": "ipython",
    "version": 3
   },
   "file_extension": ".py",
   "mimetype": "text/x-python",
   "name": "python",
   "nbconvert_exporter": "python",
   "pygments_lexer": "ipython3",
   "version": "3.8.10"
  },
  "orig_nbformat": 4,
  "vscode": {
   "interpreter": {
    "hash": "916dbcbb3f70747c44a77c7bcd40155683ae19c65e1c03b4aa3499c5328201f1"
   }
  }
 },
 "nbformat": 4,
 "nbformat_minor": 2
}
